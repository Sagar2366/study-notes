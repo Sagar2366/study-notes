{
 "cells": [
  {
   "cell_type": "markdown",
   "metadata": {},
   "source": [
    "# Week 3"
   ]
  },
  {
   "cell_type": "markdown",
   "metadata": {},
   "source": [
    "## Matrices, vectors, and solving simultaneous equation problems"
   ]
  },
  {
   "cell_type": "markdown",
   "metadata": {},
   "source": [
    "\n",
    "* \"Apples and bananas\" simultaneous equations can be solved using matrices:\n",
    "  $$\n",
    "  2a + 3b = 8\\\\\n",
    "  10a + 1b = 13\n",
    "  $$\n",
    "  \n",
    "  $$\n",
    "  \\begin{pmatrix}2 & 3\\\\ 10 & 1\\end{pmatrix} \\begin{pmatrix}a\\\\ b\\end{pmatrix} = \\begin{pmatrix}8\\\\ 13\\end{pmatrix}\n",
    "  $$\n",
    " \n",
    "  * Which can then be rewritten as:\n",
    "  \n",
    "    $$\n",
    "    \\begin{pmatrix}2a + 3b\\\\ 10a + 1b\\end{pmatrix} = \\begin{pmatrix}8\\\\ 13\\end{pmatrix}\n",
    "    $$\n",
    "   \n",
    "  * Question: what vector transforms the left-hand equation to produce the right?\n",
    "  \n",
    "* Key to solving this problem is understanding how vectors are transformed by matrices."
   ]
  },
  {
   "cell_type": "markdown",
   "metadata": {},
   "source": [
    "### How matrices transform space"
   ]
  },
  {
   "cell_type": "markdown",
   "metadata": {},
   "source": [
    "* Can rewrite the matrix as follows:\n",
    "  $$\n",
    "  \\begin{pmatrix}2 & 3\\\\ 10 & 1\\end{pmatrix} \\begin{pmatrix}a\\\\ b\\end{pmatrix} = \\begin{pmatrix}8\\\\ 13\\end{pmatrix}\n",
    "  $$\n",
    "  \n",
    "  $$\n",
    "  A \\text{ } r = r^{\\prime}\n",
    "  $$\n",
    "  \n",
    "* Then we can multiple $r$ by some number $n$ which results in $nr^{\\prime}$:\n",
    "  \n",
    "  $$\n",
    "  A (n\\text{ }r) = nr^{\\prime}\n",
    "  $$\n",
    "  \n",
    "* If we multiple A by vector r + s, you get Ar + As:\n",
    "\n",
    "  $$A (r + s) = Ar + As$$\n",
    "  \n",
    "  * If you think of r + s being the original basis vectors, $\\hat{e}_1$ and $\\hat{e}_2$:\n",
    "  \n",
    "  $$A(n\\hat{e}_1+m\\hat{e}_2) = nA\\hat{e}_1 + mA\\hat{e}_2 = n\\hat{e}_1 + m\\hat{e}_2$$"
   ]
  },
  {
   "cell_type": "markdown",
   "metadata": {},
   "source": [
    "* Example:\n",
    "\n",
    "  $$\n",
    "  \\begin{pmatrix}2 & 3\\\\ 10 & 1\\end{pmatrix} \\begin{pmatrix}3\\\\ 2\\end{pmatrix} = \\begin{pmatrix}12\\\\ 32\\end{pmatrix}\n",
    "  $$\n",
    "  \n",
    "  * Can be rewritten with basis vectors, as follows:\n",
    "  \n",
    "  $$\n",
    "  \\begin{pmatrix}2 & 3\\\\ 10 & 1\\end{pmatrix}(3\\begin{pmatrix}1\\\\ 0\\end{pmatrix} + 2\\begin{pmatrix}0\\\\ 1\\end{pmatrix})\n",
    "  $$\n",
    "  \n",
    "  * Rewritten as:\n",
    "  \n",
    "  $$\n",
    "  3(\\begin{pmatrix}2 & 3\\\\ 10 & 1\\end{pmatrix} \\begin{pmatrix}1\\\\ 0\\end{pmatrix}) + 2 (\\begin{pmatrix}2 & 3\\\\ 10 & 1\\end{pmatrix} \\begin{pmatrix}0\\\\ 1\\end{pmatrix})\n",
    "  $$\n",
    "  \n",
    "  =\n",
    "  \n",
    "  $$\n",
    "  3 \\begin{pmatrix}2 \\\\ 10\\end{pmatrix} + 2 \\begin{pmatrix}3 \\\\ 1\\end{pmatrix}\n",
    "  $$\n",
    "  \n",
    "  =\n",
    "  \n",
    "  $$\n",
    "  \\begin{pmatrix}12 \\\\ 32\\end{pmatrix}\n",
    "  $$\n",
    "  \n",
    "* We can think of matrix multiplication as \"the vector sum of the transformed basis vectors\"."
   ]
  },
  {
   "cell_type": "markdown",
   "metadata": {},
   "source": [
    "### Types of matrix transformation"
   ]
  },
  {
   "cell_type": "markdown",
   "metadata": {},
   "source": [
    "* Identity matrix\n",
    "  * Composed of just the basis vectors of the space.\n",
    "  * If you multiplied it by some vector, vector wouldn't change:\n",
    "  \n",
    "  $$\n",
    "  \\begin{pmatrix}1 & 0 \\\\ 0 & 1\\end{pmatrix} \\begin{pmatrix}x \\\\ y\\end{pmatrix} = \\begin{pmatrix}x \\\\ y\\end{pmatrix}\n",
    "  $$\n",
    "  \n",
    "* If you had different numbers along the diagonal, you'd scale up by 3 along one axis and 2 along another.\n",
    "\n",
    "  $$\n",
    "  \\begin{pmatrix}3 & 0 \\\\ 0 & 2\\end{pmatrix}\n",
    "  $$\n",
    "  \n",
    "* Inversion matrix\n",
    "  * Negative values along the diagonal.\n",
    "  \n",
    "   $$\n",
    "   \\begin{pmatrix}-1 & 0 \\\\ 0 & -1\\end{pmatrix}\n",
    "   $$\n",
    "   \n",
    "* \"Mirrors\":\n",
    "  * Opposite diagonal values:\n",
    "  \n",
    "    $$\n",
    "   \\begin{pmatrix}0 & 1 \\\\ 1 & 0\\end{pmatrix}\n",
    "   $$\n",
    "   \n",
    "* \"Shear\":\n",
    "  $$\n",
    "   \\begin{pmatrix}0 & 1 \\\\ 1 & 1\\end{pmatrix}\n",
    "  $$\n",
    "  \n",
    "* Rotation:\n",
    "  $$\n",
    "  \\begin{pmatrix}0 & -1 \\\\ 1 & 0\\end{pmatrix}\n",
    "  $$\n",
    "  \n",
    "  * General expression for rotation in 2d:\n",
    "  \n",
    "  $$\n",
    "  \\begin{pmatrix}\\cos(90) & \\sin(90) \\\\ -\\sin(90) & \\cos(90)\\end{pmatrix}\n",
    "  $$\n",
    "\n",
    "* Applications for rotations and sheering:\n",
    "  * Face rotation.\n",
    "  * Data augmentation."
   ]
  },
  {
   "cell_type": "markdown",
   "metadata": {},
   "source": [
    "### Composition or combination of matrix transformations"
   ]
  },
  {
   "cell_type": "markdown",
   "metadata": {},
   "source": [
    "* Can do any type of matrix transformation by combining transformation.\n",
    "  * Combination of matrix transformations = composition.\n",
    "* If you had some vector $r$:\n",
    "  * Perform the first transformation, $A_1$, on the vector as follows: $A_1r$\n",
    "  * Then perform the next transformation, $A_2$, on that output: $A_2(A_1r)$\n",
    "* Concrete example:\n",
    "  1. Start with two sets of axes: $\\hat{e}_1 = \\begin{pmatrix}1 \\\\ 0\\end{pmatrix}$ and $\\hat{e_2} = \\begin{pmatrix}0 \\\\ 1\\end{pmatrix}$\n",
    "  2. Perform a 90° rotation on both, using $A_1 = \\begin{pmatrix}0 & 1\\\\ -1 & 0\\end{pmatrix}$ to get $\\begin{pmatrix}0 \\\\ -1\\end{pmatrix}$ and $\\begin{pmatrix}1 \\\\ 0\\end{pmatrix}$\n",
    "    * This gives you a transformation matrix of $\\begin{pmatrix}0 & 1\\\\ -1 & 0\\end{pmatrix}$\n",
    "  3. Perform another transformation, a shear, on the first matrix, leaving the first where it is and the second to $\\begin{pmatrix}1 \\\\ 1\\end{pmatrix}$\n",
    "    * Leaving you with a transformation matrix of $\\begin{pmatrix}1 & 1\\\\ 0 & 1\\end{pmatrix}$\n",
    "  4. Since the first transformation takes $\\hat{e}_1$ from $\\begin{pmatrix}1 \\\\ 0\\end{pmatrix}$ to $\\begin{pmatrix}0 \\\\ -1\\end{pmatrix}$, what happens when you apply the 2nd transformation?\n",
    "    * $\\begin{pmatrix}1 & 1\\\\ 0 & 1\\end{pmatrix} \\begin{pmatrix}0 \\\\ -1\\end{pmatrix} = \\begin{pmatrix}1 \\cdot 0 + 1 \\cdot (-1)\\\\ 0 \\cdot 0 + 1 \\cdot (-1)\\end{pmatrix} = \\begin{pmatrix}-1\\\\ -1\\end{pmatrix} $\n",
    "  5. The first transformation takes $\\hat{e}_2$ from $\\begin{pmatrix}0 \\\\ 1\\end{pmatrix}$ to $\\begin{pmatrix}1 \\\\ 0\\end{pmatrix}$, what happens when you apply the 2nd transformation?\n",
    "    * $\\begin{pmatrix}1 & 1\\\\ 0 & 1\\end{pmatrix} \\begin{pmatrix}1 \\\\ 0\\end{pmatrix} = \\begin{pmatrix}1 \\\\ 0\\end{pmatrix}$ \n",
    "  6. Combining those gives you the matrix $A_2A_1 = \\begin{pmatrix}-1 & 1\\\\ -1 & 0\\end{pmatrix}$\n",
    "  7. You can check that by performing a dot product of $A_2$ with $A_1$:\n",
    "    * $A_2A_1 = \\begin{pmatrix}1 & 1\\\\ 0 & 1\\end{pmatrix}\\begin{pmatrix}0 & 1\\\\ -1 & 0\\end{pmatrix} =  \\begin{pmatrix}-1 & 1\\\\ -1 & 0\\end{pmatrix}$\n",
    "* Order of transformations matter:\n",
    "  $A_2(A_1r) != A_1(A_2r)$"
   ]
  },
  {
   "cell_type": "code",
   "execution_count": null,
   "metadata": {},
   "outputs": [],
   "source": []
  }
 ],
 "metadata": {
  "kernelspec": {
   "display_name": "Python 3",
   "language": "python",
   "name": "python3"
  },
  "language_info": {
   "codemirror_mode": {
    "name": "ipython",
    "version": 3
   },
   "file_extension": ".py",
   "mimetype": "text/x-python",
   "name": "python",
   "nbconvert_exporter": "python",
   "pygments_lexer": "ipython3",
   "version": "3.6.2"
  }
 },
 "nbformat": 4,
 "nbformat_minor": 2
}

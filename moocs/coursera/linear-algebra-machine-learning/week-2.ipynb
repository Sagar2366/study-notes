{
 "cells": [
  {
   "cell_type": "markdown",
   "metadata": {},
   "source": [
    "# Week 2"
   ]
  },
  {
   "cell_type": "markdown",
   "metadata": {},
   "source": [
    "## Intro\n",
    "\n",
    "* Look at modulus or magnitude.\n",
    "* Combining vectors with dot products.\n",
    "* Scalar and vector projections\n",
    "* Look at vectors that can define space:\n",
    "  * basis vectors\n",
    "  * linear independence and linear combinations"
   ]
  },
  {
   "cell_type": "markdown",
   "metadata": {},
   "source": [
    "## Modulus and inner product\n",
    "\n",
    "* Length of vector: called the size.\n",
    "  * Can use pythagoras' theory to find length of vector:\n",
    "    * `r = [a, b]`\n",
    "    * `|r| = sqrt(a**2 + b**2)`\n",
    "    * Scales up to multiple dimensions.\n",
    "    \n",
    "* Dot product:\n",
    "  * Results in a single scalar value.\n",
    "  * `r.s = r_i * s_i + r_j * s_j`\n",
    "  * Example:\n",
    "    * `r = [4 3] s = [1 -2]`\n",
    "    * `r.s = 4*1 + 3*-2 = 4 + -6 = -2`\n",
    "  * Commutative:\n",
    "    * `r.s = s.r`\n",
    "  * Distributive:\n",
    "    * `r.(s+t) = r.s + r.t`\n",
    "  * Associative over scalar multiplication:\n",
    "    * Noting that s is a scalar:\n",
    "      * `r.(a * s) = a(r.s)`\n",
    "* Link between dot product and size of vector:\n",
    "  * `r.r = r_i * r_i + r_j * r_j = r_i^2 + r_j^2`\n",
    "  * Since we know size of the vector is the square root of all its value squared, we can deduce that:\n",
    "    * `r.r = |r|^2`"
   ]
  },
  {
   "cell_type": "markdown",
   "metadata": {},
   "source": [
    "## Cosine and dot product\n",
    "\n",
    "* Cosine rule from algebra:\n",
    "  * Given a triangle with sides a, b and c: $c^2 = a^2 + b^2 - 2ab \\cos \\theta$\n",
    "* Since the side c is `-a + b` or `b - a`, the following is true:\n",
    "  * $|r-s|^2 = |r|^2 |s|^2 - 2|r||s| \\cos \\theta$\n",
    "  * Rewritten: $(r-s).(r-s) = r.r -s.r -s.r -s.-s = |r|^2 -2s.r + |2|^2$\n",
    "  * Can compare that with the cosine rule expression:\n",
    "    * $-2s.r \\ -2 |r| |s | \\cos \\theta$\n",
    "    * $r.s = |r||s|\\cos\\theta$\n",
    "* Meaning: dot product takes the size of each vector and multiples by the $\\cos$ of the angle between them:\n",
    "  * If $\\theta=90$, meaning vectors are orthoganal, then $\\cos 90 = 0$, which means dot product would be 0: $r.s=|r||s| * 0$\n",
    "  * If $\\theta=0$, meaning vectors are pointing in the same direction, then $\\cos 90 = 1$, which means dot product would be 0: $r.s=|r||s| * 1$ or just vectors length added together.\n",
    "  * If $\\theta=180$, meaning vectors are pointing in opposite direction, then $\\cos 180 = -1$, which means dot product would result in $-1 r.s$."
   ]
  },
  {
   "cell_type": "markdown",
   "metadata": {},
   "source": [
    "### Projection"
   ]
  },
  {
   "cell_type": "code",
   "execution_count": null,
   "metadata": {},
   "outputs": [],
   "source": []
  }
 ],
 "metadata": {
  "kernelspec": {
   "display_name": "Python 2",
   "language": "python",
   "name": "python2"
  },
  "language_info": {
   "codemirror_mode": {
    "name": "ipython",
    "version": 2
   },
   "file_extension": ".py",
   "mimetype": "text/x-python",
   "name": "python",
   "nbconvert_exporter": "python",
   "pygments_lexer": "ipython2",
   "version": "2.7.13"
  }
 },
 "nbformat": 4,
 "nbformat_minor": 2
}

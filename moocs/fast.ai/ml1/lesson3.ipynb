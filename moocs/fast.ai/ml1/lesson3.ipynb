{
 "cells": [
  {
   "cell_type": "code",
   "execution_count": 1,
   "metadata": {},
   "outputs": [],
   "source": [
    "%load_ext autoreload\n",
    "%autoreload 2\n",
    "\n",
    "%matplotlib inline\n",
    "\n",
    "from fastai.imports import *\n",
    "from fastai.structured import *\n",
    "\n",
    "from pandas_summary import DataFrameSummary\n",
    "from sklearn.ensemble import RandomForestRegressor, RandomForestClassifier\n",
    "from IPython.display import display\n",
    "from pathlib import Path\n",
    "from sklearn.ensemble import ExtraTreesRegressor\n",
    "\n",
    "from sklearn import metrics"
   ]
  },
  {
   "cell_type": "markdown",
   "metadata": {},
   "source": [
    "# Lesson 3\n",
    "\n",
    "## 00:00:00 - Lesson 2 recap\n",
    "\n",
    "* Common refrain = things like Random Forests hide meaning from us - not the case: can understand data deeper and quicker.\n",
    "* Going to look at larger datasets."
   ]
  },
  {
   "cell_type": "markdown",
   "metadata": {},
   "source": [
    "## 00:02:32 - Audience questions\n",
    "\n",
    "* Q1: When should I use Random Forests?\n",
    "* A1: Almost always for structured data: good starting point.\n",
    "  * Deep learning for unstructured data."
   ]
  },
  {
   "cell_type": "markdown",
   "metadata": {},
   "source": [
    "## 00:04:42 - proc_df function bug\n",
    "\n",
    "* `proc_df` didn't have a way to reuse the missing data values in the test set.\n",
    "  * Now returns `nas` as a third return elemnt in the tuple"
   ]
  },
  {
   "cell_type": "code",
   "execution_count": 2,
   "metadata": {},
   "outputs": [],
   "source": [
    "PATH = Path('./data/bluebook/')\n",
    "df_raw = pd.read_csv(f'{PATH}/Train.csv', low_memory=False, parse_dates=['saledate'])\n",
    "add_datepart(df_raw, 'saledate')\n",
    "train_cats(df_raw)"
   ]
  },
  {
   "cell_type": "code",
   "execution_count": 3,
   "metadata": {},
   "outputs": [],
   "source": [
    "df, y, na_dict = proc_df(df_raw, 'SalePrice')"
   ]
  },
  {
   "cell_type": "code",
   "execution_count": 4,
   "metadata": {},
   "outputs": [
    {
     "data": {
      "text/plain": [
       "{'auctioneerID': 2.0, 'MachineHoursCurrentMeter': 0.0}"
      ]
     },
     "execution_count": 4,
     "metadata": {},
     "output_type": "execute_result"
    }
   ],
   "source": [
    "na_dict"
   ]
  },
  {
   "cell_type": "markdown",
   "metadata": {},
   "source": [
    "## 00:09:25 - Bigger datasets and Groceries competition\n",
    "\n",
    "* Ability to explain problem key to machine learning.\n",
    "* Favorita Grocery Sales Forecasting:\n",
    "  * Goal: Predict how much stock would be sold on each day for each item during a 2 week period.\n",
    "  * Data provided:\n",
    "    * how many units of each product on each sold was sold in the last year.\n",
    "    * Metadata for store (location, class of store)\n",
    "    * Metadata for each product (category of product)\n",
    "    * Metadata for each data (oil price on the date)\n",
    "\n",
    "* \"Relational dataset\" - number of things you can join together.\n",
    "* Star schema:\n",
    "  * Central transactions table `train.csv`\n",
    "    * Includes `unit_sales` by `date`, `store_nbr` and `item_nbr`\n",
    "  * Can join metadata to central table.\n",
    "* Snowflake schema:\n",
    "  * Tables join other tables."
   ]
  },
  {
   "cell_type": "code",
   "execution_count": 5,
   "metadata": {},
   "outputs": [],
   "source": [
    "PATH = Path('./data/grocery-sales')"
   ]
  },
  {
   "cell_type": "code",
   "execution_count": 6,
   "metadata": {},
   "outputs": [
    {
     "name": "stdout",
     "output_type": "stream",
     "text": [
      "test.csv.7z: Downloaded 5MB of 5MB to data/grocery-sales\n",
      "stores.csv.7z: Downloaded 648B of 648B to data/grocery-sales\n",
      "oil.csv.7z: Downloaded 4KB of 4KB to data/grocery-sales\n",
      "items.csv.7z: Downloaded 14KB of 14KB to data/grocery-sales\n",
      "holidays_events.csv.7z: Downloaded 2KB of 2KB to data/grocery-sales\n",
      "transactions.csv.7z: Downloaded 214KB of 214KB to data/grocery-sales\n",
      "train.csv.7z: Downloaded 452MB of 452MB to data/grocery-sales\n",
      "sample_submission.csv.7z: Downloaded 651KB of 651KB to data/grocery-sales\n"
     ]
    }
   ],
   "source": [
    "!kaggle competitions download -c favorita-grocery-sales-forecasting --path {PATH}"
   ]
  },
  {
   "cell_type": "code",
   "execution_count": 22,
   "metadata": {},
   "outputs": [],
   "source": [
    "for file in PATH.iterdir():\n",
    "    if not str(file).endswith('7z'):\n",
    "        continue\n",
    "\n",
    "    !7z x {file} -o{PATH} -aoa > /dev/null"
   ]
  },
  {
   "cell_type": "code",
   "execution_count": 30,
   "metadata": {},
   "outputs": [],
   "source": [
    "!mkdir -p {PATH}/tmp"
   ]
  },
  {
   "cell_type": "markdown",
   "metadata": {},
   "source": [
    "### 00:15:14 - `limit_memory` in `read_csv`\n",
    "\n",
    "* Set `limit_memory=False` will run out of memory on big datasets.\n",
    "  * Instead, want to tell Pandas what the dataframe types are by passing a `dtype` argument to `read_csv`.  "
   ]
  },
  {
   "cell_type": "code",
   "execution_count": 23,
   "metadata": {},
   "outputs": [],
   "source": [
    "types = {\n",
    "    'id': 'int64', 'item_nbr': 'int32', 'store_nbr': 'int8',\n",
    "    'unit_sales': 'float32', 'onpromotion': 'object'\n",
    "}"
   ]
  },
  {
   "cell_type": "code",
   "execution_count": 25,
   "metadata": {},
   "outputs": [
    {
     "name": "stdout",
     "output_type": "stream",
     "text": [
      "CPU times: user 2min 56s, sys: 34.9 s, total: 3min 31s\n",
      "Wall time: 4min\n"
     ]
    }
   ],
   "source": [
    "%%time\n",
    "df_all = pd.read_csv(\n",
    "    PATH / 'train.csv', parse_dates=['date'], dtype=types,\n",
    "    infer_datetime_format=True\n",
    ")"
   ]
  },
  {
   "cell_type": "code",
   "execution_count": 31,
   "metadata": {},
   "outputs": [
    {
     "name": "stdout",
     "output_type": "stream",
     "text": [
      "CPU times: user 2.03 s, sys: 31.5 s, total: 33.5 s\n",
      "Wall time: 55.6 s\n"
     ]
    }
   ],
   "source": [
    "df_all.onpromotion.fillna(False, inplace=True)\n",
    "df_all.onpromotion = df_all.onpromotion.map({'False': False, 'True': True})\n",
    "df_all.onpromotion = df_all.onpromotion.astype(bool)\n",
    "\n",
    "%time df_all.to_feather(PATH / 'tmp/raw_groceries')"
   ]
  },
  {
   "cell_type": "code",
   "execution_count": 32,
   "metadata": {},
   "outputs": [
    {
     "name": "stdout",
     "output_type": "stream",
     "text": [
      "CPU times: user 48.7 s, sys: 24.5 s, total: 1min 13s\n",
      "Wall time: 1min 8s\n"
     ]
    },
    {
     "data": {
      "text/html": [
       "<div>\n",
       "<style scoped>\n",
       "    .dataframe tbody tr th:only-of-type {\n",
       "        vertical-align: middle;\n",
       "    }\n",
       "\n",
       "    .dataframe tbody tr th {\n",
       "        vertical-align: top;\n",
       "    }\n",
       "\n",
       "    .dataframe thead th {\n",
       "        text-align: right;\n",
       "    }\n",
       "</style>\n",
       "<table border=\"1\" class=\"dataframe\">\n",
       "  <thead>\n",
       "    <tr style=\"text-align: right;\">\n",
       "      <th></th>\n",
       "      <th>id</th>\n",
       "      <th>date</th>\n",
       "      <th>store_nbr</th>\n",
       "      <th>item_nbr</th>\n",
       "      <th>unit_sales</th>\n",
       "      <th>onpromotion</th>\n",
       "    </tr>\n",
       "  </thead>\n",
       "  <tbody>\n",
       "    <tr>\n",
       "      <th>count</th>\n",
       "      <td>1.254970e+08</td>\n",
       "      <td>125497040</td>\n",
       "      <td>1.254970e+08</td>\n",
       "      <td>1.254970e+08</td>\n",
       "      <td>1.254970e+08</td>\n",
       "      <td>125497040</td>\n",
       "    </tr>\n",
       "    <tr>\n",
       "      <th>unique</th>\n",
       "      <td>NaN</td>\n",
       "      <td>1684</td>\n",
       "      <td>NaN</td>\n",
       "      <td>NaN</td>\n",
       "      <td>NaN</td>\n",
       "      <td>1</td>\n",
       "    </tr>\n",
       "    <tr>\n",
       "      <th>top</th>\n",
       "      <td>NaN</td>\n",
       "      <td>2017-07-01 00:00:00</td>\n",
       "      <td>NaN</td>\n",
       "      <td>NaN</td>\n",
       "      <td>NaN</td>\n",
       "      <td>True</td>\n",
       "    </tr>\n",
       "    <tr>\n",
       "      <th>freq</th>\n",
       "      <td>NaN</td>\n",
       "      <td>118194</td>\n",
       "      <td>NaN</td>\n",
       "      <td>NaN</td>\n",
       "      <td>NaN</td>\n",
       "      <td>125497040</td>\n",
       "    </tr>\n",
       "    <tr>\n",
       "      <th>first</th>\n",
       "      <td>NaN</td>\n",
       "      <td>2013-01-01 00:00:00</td>\n",
       "      <td>NaN</td>\n",
       "      <td>NaN</td>\n",
       "      <td>NaN</td>\n",
       "      <td>NaN</td>\n",
       "    </tr>\n",
       "    <tr>\n",
       "      <th>last</th>\n",
       "      <td>NaN</td>\n",
       "      <td>2017-08-15 00:00:00</td>\n",
       "      <td>NaN</td>\n",
       "      <td>NaN</td>\n",
       "      <td>NaN</td>\n",
       "      <td>NaN</td>\n",
       "    </tr>\n",
       "    <tr>\n",
       "      <th>mean</th>\n",
       "      <td>6.274852e+07</td>\n",
       "      <td>NaN</td>\n",
       "      <td>2.746458e+01</td>\n",
       "      <td>9.727692e+05</td>\n",
       "      <td>8.554856e+00</td>\n",
       "      <td>NaN</td>\n",
       "    </tr>\n",
       "    <tr>\n",
       "      <th>std</th>\n",
       "      <td>3.622788e+07</td>\n",
       "      <td>NaN</td>\n",
       "      <td>1.633051e+01</td>\n",
       "      <td>5.205336e+05</td>\n",
       "      <td>2.360515e+01</td>\n",
       "      <td>NaN</td>\n",
       "    </tr>\n",
       "    <tr>\n",
       "      <th>min</th>\n",
       "      <td>0.000000e+00</td>\n",
       "      <td>NaN</td>\n",
       "      <td>1.000000e+00</td>\n",
       "      <td>9.699500e+04</td>\n",
       "      <td>-1.537200e+04</td>\n",
       "      <td>NaN</td>\n",
       "    </tr>\n",
       "    <tr>\n",
       "      <th>25%</th>\n",
       "      <td>3.137426e+07</td>\n",
       "      <td>NaN</td>\n",
       "      <td>1.200000e+01</td>\n",
       "      <td>5.223830e+05</td>\n",
       "      <td>2.000000e+00</td>\n",
       "      <td>NaN</td>\n",
       "    </tr>\n",
       "    <tr>\n",
       "      <th>50%</th>\n",
       "      <td>6.274852e+07</td>\n",
       "      <td>NaN</td>\n",
       "      <td>2.800000e+01</td>\n",
       "      <td>9.595000e+05</td>\n",
       "      <td>4.000000e+00</td>\n",
       "      <td>NaN</td>\n",
       "    </tr>\n",
       "    <tr>\n",
       "      <th>75%</th>\n",
       "      <td>9.412278e+07</td>\n",
       "      <td>NaN</td>\n",
       "      <td>4.300000e+01</td>\n",
       "      <td>1.354380e+06</td>\n",
       "      <td>9.000000e+00</td>\n",
       "      <td>NaN</td>\n",
       "    </tr>\n",
       "    <tr>\n",
       "      <th>max</th>\n",
       "      <td>1.254970e+08</td>\n",
       "      <td>NaN</td>\n",
       "      <td>5.400000e+01</td>\n",
       "      <td>2.127114e+06</td>\n",
       "      <td>8.944000e+04</td>\n",
       "      <td>NaN</td>\n",
       "    </tr>\n",
       "  </tbody>\n",
       "</table>\n",
       "</div>"
      ],
      "text/plain": [
       "                  id                 date     store_nbr      item_nbr  \\\n",
       "count   1.254970e+08            125497040  1.254970e+08  1.254970e+08   \n",
       "unique           NaN                 1684           NaN           NaN   \n",
       "top              NaN  2017-07-01 00:00:00           NaN           NaN   \n",
       "freq             NaN               118194           NaN           NaN   \n",
       "first            NaN  2013-01-01 00:00:00           NaN           NaN   \n",
       "last             NaN  2017-08-15 00:00:00           NaN           NaN   \n",
       "mean    6.274852e+07                  NaN  2.746458e+01  9.727692e+05   \n",
       "std     3.622788e+07                  NaN  1.633051e+01  5.205336e+05   \n",
       "min     0.000000e+00                  NaN  1.000000e+00  9.699500e+04   \n",
       "25%     3.137426e+07                  NaN  1.200000e+01  5.223830e+05   \n",
       "50%     6.274852e+07                  NaN  2.800000e+01  9.595000e+05   \n",
       "75%     9.412278e+07                  NaN  4.300000e+01  1.354380e+06   \n",
       "max     1.254970e+08                  NaN  5.400000e+01  2.127114e+06   \n",
       "\n",
       "          unit_sales onpromotion  \n",
       "count   1.254970e+08   125497040  \n",
       "unique           NaN           1  \n",
       "top              NaN        True  \n",
       "freq             NaN   125497040  \n",
       "first            NaN         NaN  \n",
       "last             NaN         NaN  \n",
       "mean    8.554856e+00         NaN  \n",
       "std     2.360515e+01         NaN  \n",
       "min    -1.537200e+04         NaN  \n",
       "25%     2.000000e+00         NaN  \n",
       "50%     4.000000e+00         NaN  \n",
       "75%     9.000000e+00         NaN  \n",
       "max     8.944000e+04         NaN  "
      ]
     },
     "execution_count": 32,
     "metadata": {},
     "output_type": "execute_result"
    }
   ],
   "source": [
    "%time df_all.describe(include='all')"
   ]
  },
  {
   "cell_type": "code",
   "execution_count": null,
   "metadata": {},
   "outputs": [],
   "source": []
  }
 ],
 "metadata": {
  "kernelspec": {
   "display_name": "Python 3",
   "language": "python",
   "name": "python3"
  },
  "language_info": {
   "codemirror_mode": {
    "name": "ipython",
    "version": 3
   },
   "file_extension": ".py",
   "mimetype": "text/x-python",
   "name": "python",
   "nbconvert_exporter": "python",
   "pygments_lexer": "ipython3",
   "version": "3.6.5"
  }
 },
 "nbformat": 4,
 "nbformat_minor": 2
}

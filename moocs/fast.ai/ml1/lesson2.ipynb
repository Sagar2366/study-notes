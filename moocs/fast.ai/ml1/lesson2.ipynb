{
 "cells": [
  {
   "cell_type": "code",
   "execution_count": 1,
   "metadata": {},
   "outputs": [],
   "source": [
    "%load_ext autoreload\n",
    "%autoreload 2\n",
    "\n",
    "%matplotlib inline\n",
    "\n",
    "from fastai.imports import *\n",
    "from fastai.structured import *\n",
    "\n",
    "from pandas_summary import DataFrameSummary\n",
    "from sklearn.ensemble import RandomForestRegressor, RandomForestClassifier\n",
    "from IPython.display import display\n",
    "from pathlib import Path\n",
    "\n",
    "from sklearn import metrics"
   ]
  },
  {
   "cell_type": "markdown",
   "metadata": {},
   "source": [
    "# Lesson 2\n",
    "\n",
    "## 00:00:00 - What's coming\n",
    "\n",
    "* So far all we've learned: there's a thing called Random Forests that works quite well for some datasets.\n",
    "  * Diving deeper into RFs next.\n",
    "* After: how do we interpret Random Forests to understand our data?"
   ]
  },
  {
   "cell_type": "markdown",
   "metadata": {},
   "source": [
    "## 00:00:45 - Review\n",
    "\n",
    "* Learned about Fast.ai library.\n",
    "  * Highly opinionated: lots of research for best practises.\n",
    "* Lots of wrappers on top of existing code.\n",
    "* Most of today is about getting stuff into and out of Scikit-learn.\n",
    "\n",
    "## 00:01:44 - Fast.ai library\n",
    "\n",
    "* Set of notebooks under `fastai/courses/ml1`.\n",
    "* In that directory, there's a symlink to the parent `fastai` package directory.\n",
    "* If you want to use Fast.ai library, need to symlink:\n",
    "  ``ln -s ../fastai fastai``\n",
    "  \n",
    "## 00:03:35 - Audience question\n",
    "\n",
    "* Q1: Do you create symlinks with `ln -s`?\n",
    "* A1: Yes: `ln -s <source> <dest>`.\n",
    "  * Similar to shortcut in Windows and alias in Mac.\n",
    "  \n",
    "## 00:05:29 - Bluebooks revisited \n",
    "\n",
    "* Important to deeply understand evaluation metric for the project.\n",
    "* In this case it's root mean log squared error: `sqrt(log(acts) - log(preds))**2`"
   ]
  },
  {
   "cell_type": "code",
   "execution_count": 2,
   "metadata": {},
   "outputs": [],
   "source": [
    "PATH = Path('./data/bluebook/')"
   ]
  },
  {
   "cell_type": "code",
   "execution_count": 3,
   "metadata": {},
   "outputs": [],
   "source": [
    "df_raw = pd.read_csv(f'{PATH}/Train.csv', low_memory=False, parse_dates=['saledate'])"
   ]
  },
  {
   "cell_type": "code",
   "execution_count": 4,
   "metadata": {},
   "outputs": [
    {
     "data": {
      "text/html": [
       "<div>\n",
       "<style scoped>\n",
       "    .dataframe tbody tr th:only-of-type {\n",
       "        vertical-align: middle;\n",
       "    }\n",
       "\n",
       "    .dataframe tbody tr th {\n",
       "        vertical-align: top;\n",
       "    }\n",
       "\n",
       "    .dataframe thead th {\n",
       "        text-align: right;\n",
       "    }\n",
       "</style>\n",
       "<table border=\"1\" class=\"dataframe\">\n",
       "  <thead>\n",
       "    <tr style=\"text-align: right;\">\n",
       "      <th></th>\n",
       "      <th>SalesID</th>\n",
       "      <th>SalePrice</th>\n",
       "      <th>MachineID</th>\n",
       "      <th>ModelID</th>\n",
       "      <th>datasource</th>\n",
       "      <th>auctioneerID</th>\n",
       "      <th>YearMade</th>\n",
       "      <th>MachineHoursCurrentMeter</th>\n",
       "      <th>UsageBand</th>\n",
       "      <th>saledate</th>\n",
       "      <th>...</th>\n",
       "      <th>Undercarriage_Pad_Width</th>\n",
       "      <th>Stick_Length</th>\n",
       "      <th>Thumb</th>\n",
       "      <th>Pattern_Changer</th>\n",
       "      <th>Grouser_Type</th>\n",
       "      <th>Backhoe_Mounting</th>\n",
       "      <th>Blade_Type</th>\n",
       "      <th>Travel_Controls</th>\n",
       "      <th>Differential_Type</th>\n",
       "      <th>Steering_Controls</th>\n",
       "    </tr>\n",
       "  </thead>\n",
       "  <tbody>\n",
       "    <tr>\n",
       "      <th>0</th>\n",
       "      <td>1139246</td>\n",
       "      <td>66000</td>\n",
       "      <td>999089</td>\n",
       "      <td>3157</td>\n",
       "      <td>121</td>\n",
       "      <td>3.0</td>\n",
       "      <td>2004</td>\n",
       "      <td>68.0</td>\n",
       "      <td>Low</td>\n",
       "      <td>2006-11-16</td>\n",
       "      <td>...</td>\n",
       "      <td>NaN</td>\n",
       "      <td>NaN</td>\n",
       "      <td>NaN</td>\n",
       "      <td>NaN</td>\n",
       "      <td>NaN</td>\n",
       "      <td>NaN</td>\n",
       "      <td>NaN</td>\n",
       "      <td>NaN</td>\n",
       "      <td>Standard</td>\n",
       "      <td>Conventional</td>\n",
       "    </tr>\n",
       "    <tr>\n",
       "      <th>1</th>\n",
       "      <td>1139248</td>\n",
       "      <td>57000</td>\n",
       "      <td>117657</td>\n",
       "      <td>77</td>\n",
       "      <td>121</td>\n",
       "      <td>3.0</td>\n",
       "      <td>1996</td>\n",
       "      <td>4640.0</td>\n",
       "      <td>Low</td>\n",
       "      <td>2004-03-26</td>\n",
       "      <td>...</td>\n",
       "      <td>NaN</td>\n",
       "      <td>NaN</td>\n",
       "      <td>NaN</td>\n",
       "      <td>NaN</td>\n",
       "      <td>NaN</td>\n",
       "      <td>NaN</td>\n",
       "      <td>NaN</td>\n",
       "      <td>NaN</td>\n",
       "      <td>Standard</td>\n",
       "      <td>Conventional</td>\n",
       "    </tr>\n",
       "    <tr>\n",
       "      <th>2</th>\n",
       "      <td>1139249</td>\n",
       "      <td>10000</td>\n",
       "      <td>434808</td>\n",
       "      <td>7009</td>\n",
       "      <td>121</td>\n",
       "      <td>3.0</td>\n",
       "      <td>2001</td>\n",
       "      <td>2838.0</td>\n",
       "      <td>High</td>\n",
       "      <td>2004-02-26</td>\n",
       "      <td>...</td>\n",
       "      <td>NaN</td>\n",
       "      <td>NaN</td>\n",
       "      <td>NaN</td>\n",
       "      <td>NaN</td>\n",
       "      <td>NaN</td>\n",
       "      <td>NaN</td>\n",
       "      <td>NaN</td>\n",
       "      <td>NaN</td>\n",
       "      <td>NaN</td>\n",
       "      <td>NaN</td>\n",
       "    </tr>\n",
       "    <tr>\n",
       "      <th>3</th>\n",
       "      <td>1139251</td>\n",
       "      <td>38500</td>\n",
       "      <td>1026470</td>\n",
       "      <td>332</td>\n",
       "      <td>121</td>\n",
       "      <td>3.0</td>\n",
       "      <td>2001</td>\n",
       "      <td>3486.0</td>\n",
       "      <td>High</td>\n",
       "      <td>2011-05-19</td>\n",
       "      <td>...</td>\n",
       "      <td>NaN</td>\n",
       "      <td>NaN</td>\n",
       "      <td>NaN</td>\n",
       "      <td>NaN</td>\n",
       "      <td>NaN</td>\n",
       "      <td>NaN</td>\n",
       "      <td>NaN</td>\n",
       "      <td>NaN</td>\n",
       "      <td>NaN</td>\n",
       "      <td>NaN</td>\n",
       "    </tr>\n",
       "    <tr>\n",
       "      <th>4</th>\n",
       "      <td>1139253</td>\n",
       "      <td>11000</td>\n",
       "      <td>1057373</td>\n",
       "      <td>17311</td>\n",
       "      <td>121</td>\n",
       "      <td>3.0</td>\n",
       "      <td>2007</td>\n",
       "      <td>722.0</td>\n",
       "      <td>Medium</td>\n",
       "      <td>2009-07-23</td>\n",
       "      <td>...</td>\n",
       "      <td>NaN</td>\n",
       "      <td>NaN</td>\n",
       "      <td>NaN</td>\n",
       "      <td>NaN</td>\n",
       "      <td>NaN</td>\n",
       "      <td>NaN</td>\n",
       "      <td>NaN</td>\n",
       "      <td>NaN</td>\n",
       "      <td>NaN</td>\n",
       "      <td>NaN</td>\n",
       "    </tr>\n",
       "  </tbody>\n",
       "</table>\n",
       "<p>5 rows × 53 columns</p>\n",
       "</div>"
      ],
      "text/plain": [
       "   SalesID  SalePrice  MachineID  ModelID  datasource  auctioneerID  YearMade  \\\n",
       "0  1139246      66000     999089     3157         121           3.0      2004   \n",
       "1  1139248      57000     117657       77         121           3.0      1996   \n",
       "2  1139249      10000     434808     7009         121           3.0      2001   \n",
       "3  1139251      38500    1026470      332         121           3.0      2001   \n",
       "4  1139253      11000    1057373    17311         121           3.0      2007   \n",
       "\n",
       "   MachineHoursCurrentMeter UsageBand   saledate        ...         \\\n",
       "0                      68.0       Low 2006-11-16        ...          \n",
       "1                    4640.0       Low 2004-03-26        ...          \n",
       "2                    2838.0      High 2004-02-26        ...          \n",
       "3                    3486.0      High 2011-05-19        ...          \n",
       "4                     722.0    Medium 2009-07-23        ...          \n",
       "\n",
       "  Undercarriage_Pad_Width Stick_Length Thumb Pattern_Changer Grouser_Type  \\\n",
       "0                     NaN          NaN   NaN             NaN          NaN   \n",
       "1                     NaN          NaN   NaN             NaN          NaN   \n",
       "2                     NaN          NaN   NaN             NaN          NaN   \n",
       "3                     NaN          NaN   NaN             NaN          NaN   \n",
       "4                     NaN          NaN   NaN             NaN          NaN   \n",
       "\n",
       "  Backhoe_Mounting Blade_Type Travel_Controls Differential_Type  \\\n",
       "0              NaN        NaN             NaN          Standard   \n",
       "1              NaN        NaN             NaN          Standard   \n",
       "2              NaN        NaN             NaN               NaN   \n",
       "3              NaN        NaN             NaN               NaN   \n",
       "4              NaN        NaN             NaN               NaN   \n",
       "\n",
       "  Steering_Controls  \n",
       "0      Conventional  \n",
       "1      Conventional  \n",
       "2               NaN  \n",
       "3               NaN  \n",
       "4               NaN  \n",
       "\n",
       "[5 rows x 53 columns]"
      ]
     },
     "execution_count": 4,
     "metadata": {},
     "output_type": "execute_result"
    }
   ],
   "source": [
    "df_raw.head()"
   ]
  },
  {
   "cell_type": "code",
   "execution_count": 5,
   "metadata": {},
   "outputs": [],
   "source": [
    "add_datepart(df_raw, 'saledate')"
   ]
  },
  {
   "cell_type": "code",
   "execution_count": 6,
   "metadata": {},
   "outputs": [
    {
     "data": {
      "text/plain": [
       "0    2006\n",
       "1    2004\n",
       "2    2004\n",
       "3    2011\n",
       "4    2009\n",
       "Name: saleYear, dtype: int64"
      ]
     },
     "execution_count": 6,
     "metadata": {},
     "output_type": "execute_result"
    }
   ],
   "source": [
    "df_raw.saleYear.head()"
   ]
  },
  {
   "cell_type": "code",
   "execution_count": 7,
   "metadata": {},
   "outputs": [],
   "source": [
    "df_raw.SalePrice = np.log(df_raw.SalePrice)"
   ]
  },
  {
   "cell_type": "markdown",
   "metadata": {},
   "source": [
    "Can use `train_cats` from the Fast.ai library to replace strings with categories."
   ]
  },
  {
   "cell_type": "code",
   "execution_count": 8,
   "metadata": {},
   "outputs": [],
   "source": [
    "train_cats(df_raw)"
   ]
  },
  {
   "cell_type": "code",
   "execution_count": 9,
   "metadata": {},
   "outputs": [
    {
     "data": {
      "text/plain": [
       "Index(['High', 'Low', 'Medium'], dtype='object')"
      ]
     },
     "execution_count": 9,
     "metadata": {},
     "output_type": "execute_result"
    }
   ],
   "source": [
    "df_raw.UsageBand.cat.categories"
   ]
  },
  {
   "cell_type": "markdown",
   "metadata": {},
   "source": [
    "Let's you easily convert categories to codes."
   ]
  },
  {
   "cell_type": "code",
   "execution_count": 10,
   "metadata": {},
   "outputs": [
    {
     "data": {
      "text/plain": [
       "0    1\n",
       "1    1\n",
       "2    0\n",
       "3    0\n",
       "dtype: int8"
      ]
     },
     "execution_count": 10,
     "metadata": {},
     "output_type": "execute_result"
    }
   ],
   "source": [
    "df_raw.UsageBand.cat.codes[:4]"
   ]
  },
  {
   "cell_type": "markdown",
   "metadata": {},
   "source": [
    "`proc_df` will convert categorical columns into codes, convert missing values with the median and add a column that tell you if a value is missing or not."
   ]
  },
  {
   "cell_type": "code",
   "execution_count": 11,
   "metadata": {},
   "outputs": [],
   "source": [
    "df, y, na_dict = proc_df(df_raw, 'SalePrice')"
   ]
  },
  {
   "cell_type": "code",
   "execution_count": 12,
   "metadata": {},
   "outputs": [
    {
     "data": {
      "text/plain": [
       "0.9831486366130021"
      ]
     },
     "execution_count": 12,
     "metadata": {},
     "output_type": "execute_result"
    }
   ],
   "source": [
    "m = RandomForestRegressor(n_jobs=-1)\n",
    "m.fit(df, y)\n",
    "m.score(df, y)"
   ]
  },
  {
   "cell_type": "markdown",
   "metadata": {},
   "source": [
    "### 00:10:50 - $r^2$"
   ]
  },
  {
   "cell_type": "markdown",
   "metadata": {},
   "source": [
    "* $R^2 = 1 - \\frac{SS_{res}}{SS_{tot}}$\n",
    "* Model tells you how much better you are than just predicting the mean.\n",
    "* Range of values is 1 and below: possible to make a model much worse than the mean."
   ]
  },
  {
   "cell_type": "markdown",
   "metadata": {},
   "source": [
    "### 00:17:32 - Measuring overfitting"
   ]
  },
  {
   "cell_type": "markdown",
   "metadata": {},
   "source": [
    "* With only training performance, you don't know if your model is going to generalise well.\n",
    "\n",
    "<img src=\"./images/underfitting-vs-overfitting.png\" width=600px>\n",
    "\n",
    "  * Aka: overfitting\n",
    " \n",
    "* To solve this problem: create a good validation.\n",
    "* Validation set should be as similiar as possible to validation set.\n",
    "  * Time series: validation set should be the same time frame as a test set if possible.\n",
    "  \n",
    "* In real world: test set should not be looked at while training model. Should only be looked at at the very end of the project."
   ]
  },
  {
   "cell_type": "code",
   "execution_count": 13,
   "metadata": {},
   "outputs": [
    {
     "data": {
      "text/plain": [
       "((389125, 66), (389125, 66), (12000, 66))"
      ]
     },
     "execution_count": 13,
     "metadata": {},
     "output_type": "execute_result"
    }
   ],
   "source": [
    "def split_vals(a, n): return a[:n].copy(), a[n:].copy()\n",
    "\n",
    "n_valid = 12000\n",
    "n_trn = len(df) - n_valid\n",
    "raw_train, raw_valid = split_vals(df_raw, n_trn)\n",
    "X_train, X_valid = split_vals(df, n_trn)\n",
    "y_train, y_valid = split_vals(y, n_trn)\n",
    "\n",
    "X_train.shape, X_train.shape, X_valid.shape"
   ]
  },
  {
   "cell_type": "markdown",
   "metadata": {},
   "source": [
    "#### 00:23:56 - Audience questions\n",
    "\n",
    "* Q1: For categorical data, should you convert them into different columns: aka one-hot encoding.\n",
    "* A1: Will be covered later.\n",
    "\n",
    "* Q2: Re dividing set into train and validation, why not use pick them randomly?\n",
    "* A2: Because it is closer to the Kaggle test set: a random validation set would be much easier.\n",
    "\n",
    "* Q3: If our $r^2$ turns out bad on validation set and we keep trying to improve it, wouldn't we overfit our validation set?\n",
    "* A3: That's the point of the test set and actually Kaggle has a 4th set to deal with overfitting on the test set."
   ]
  },
  {
   "cell_type": "markdown",
   "metadata": {},
   "source": []
  },
  {
   "cell_type": "code",
   "execution_count": 14,
   "metadata": {},
   "outputs": [
    {
     "name": "stdout",
     "output_type": "stream",
     "text": [
      "CPU times: user 1min 35s, sys: 1.11 s, total: 1min 36s\n",
      "Wall time: 33.9 s\n",
      "RMSE train: 0.0902976506917136\n",
      "RMSE val: 0.24536677352706274\n",
      "R^2 val: 0.8924824206064098\n"
     ]
    }
   ],
   "source": [
    "def rmse(x, y): return math.sqrt(((x-y) ** 2).mean())\n",
    "\n",
    "m = RandomForestRegressor(n_jobs=-1)\n",
    "%time m.fit(X_train, y_train)\n",
    "\n",
    "print(f'RMSE train: {rmse(m.predict(X_train), y_train)}')\n",
    "print(f'RMSE val: {rmse(m.predict(X_valid), y_valid)}')\n",
    "print(f'R^2 val: {m.score(X_valid, y_valid)}')"
   ]
  },
  {
   "cell_type": "markdown",
   "metadata": {},
   "source": [
    "## 00:27:08 - Fast.ai style guide (why not use PEP8?)\n",
    "\n",
    "* Being able to look at something in one go has a lot of value.\n",
    "* Consistently use certain letters to mean certain things makes sense in data science.\n",
    "* Should still know and use PEP8 as a software engineer.\n",
    "\n",
    "## 00:29:28 - Speeding up training and development\n",
    "\n",
    "* Rule of thumb: if something takes more than 10 secs to run, it's too long to run interactively analysis.\n",
    "  * Solution: train on a smaller dataset while experimenting.\n",
    "  * Can pass `subset` param to `proc_df` to reduce the sample size.\n",
    "  * Want to ensure you resplit your validation set (otherwise it's cheating)."
   ]
  },
  {
   "cell_type": "code",
   "execution_count": 30,
   "metadata": {},
   "outputs": [],
   "source": [
    "df_trn, y_trn, nas = proc_df(df_raw, 'SalePrice', subset=30000)\n",
    "X_train, _ = split_vals(df_trn, 20000)\n",
    "y_train, _ = split_vals(y_trn, 20000)"
   ]
  },
  {
   "cell_type": "code",
   "execution_count": 16,
   "metadata": {},
   "outputs": [
    {
     "name": "stdout",
     "output_type": "stream",
     "text": [
      "CPU times: user 3.5 s, sys: 56.8 ms, total: 3.56 s\n",
      "Wall time: 1.35 s\n",
      "RMSE train: 0.1146559987770302\n",
      "RMSE val: 0.3795391824564153\n",
      "R^2 val: 0.7427465489478501\n"
     ]
    }
   ],
   "source": [
    "m = RandomForestRegressor(n_jobs=-1)\n",
    "%time m.fit(X_train, y_train)\n",
    "\n",
    "print(f'RMSE train: {rmse(m.predict(X_train), y_train)}')\n",
    "print(f'RMSE val: {rmse(m.predict(X_valid), y_valid)}')\n",
    "print(f'R^2 val: {m.score(X_valid, y_valid)}')"
   ]
  },
  {
   "cell_type": "markdown",
   "metadata": {},
   "source": [
    "## 00:31:50 - Viewing a single tree\n",
    "\n",
    "* \"Forest is made of trees\"\n",
    "* In Scikit-learn, trees are called estimators."
   ]
  },
  {
   "cell_type": "code",
   "execution_count": 23,
   "metadata": {},
   "outputs": [
    {
     "name": "stdout",
     "output_type": "stream",
     "text": [
      "RMSE val: 0.5826670748205182\n",
      "R^2 val: 0.3936980994743713\n"
     ]
    }
   ],
   "source": [
    "m = RandomForestRegressor(n_estimators=1, max_depth=3, bootstrap=False, n_jobs=-1)\n",
    "m.fit(X_train, y_train)\n",
    "\n",
    "print(f'RMSE val: {rmse(m.predict(X_valid), y_valid)}')\n",
    "print(f'R^2 val: {m.score(X_valid, y_valid)}')"
   ]
  },
  {
   "cell_type": "code",
   "execution_count": 24,
   "metadata": {},
   "outputs": [
    {
     "data": {
      "image/svg+xml": [
       "<?xml version=\"1.0\" encoding=\"UTF-8\" standalone=\"no\"?>\n",
       "<!DOCTYPE svg PUBLIC \"-//W3C//DTD SVG 1.1//EN\"\n",
       " \"http://www.w3.org/Graphics/SVG/1.1/DTD/svg11.dtd\">\n",
       "<!-- Generated by graphviz version 2.40.1 (20161225.0304)\n",
       " -->\n",
       "<!-- Title: Tree Pages: 1 -->\n",
       "<svg width=\"720pt\" height=\"434pt\"\n",
       " viewBox=\"0.00 0.00 720.00 434.45\" xmlns=\"http://www.w3.org/2000/svg\" xmlns:xlink=\"http://www.w3.org/1999/xlink\">\n",
       "<g id=\"graph0\" class=\"graph\" transform=\"scale(.8136 .8136) rotate(0) translate(4 530)\">\n",
       "<title>Tree</title>\n",
       "<polygon fill=\"#ffffff\" stroke=\"transparent\" points=\"-4,4 -4,-530 880.9719,-530 880.9719,4 -4,4\"/>\n",
       "<!-- 0 -->\n",
       "<g id=\"node1\" class=\"node\">\n",
       "<title>0</title>\n",
       "<polygon fill=\"#e58139\" fill-opacity=\"0.745098\" stroke=\"#000000\" points=\"166.4874,-322 25.4565,-322 25.4565,-258 166.4874,-258 166.4874,-322\"/>\n",
       "<text text-anchor=\"start\" x=\"33.2146\" y=\"-306.8\" font-family=\"Times,serif\" font-size=\"14.00\" fill=\"#000000\">Coupler_System ≤ 0.5</text>\n",
       "<text text-anchor=\"start\" x=\"61.4983\" y=\"-292.8\" font-family=\"Times,serif\" font-size=\"14.00\" fill=\"#000000\">mse = 0.454</text>\n",
       "<text text-anchor=\"start\" x=\"48.4724\" y=\"-278.8\" font-family=\"Times,serif\" font-size=\"14.00\" fill=\"#000000\">samples = 20000</text>\n",
       "<text text-anchor=\"start\" x=\"54.3719\" y=\"-264.8\" font-family=\"Times,serif\" font-size=\"14.00\" fill=\"#000000\">value = 10.118</text>\n",
       "</g>\n",
       "<!-- 1 -->\n",
       "<g id=\"node2\" class=\"node\">\n",
       "<title>1</title>\n",
       "<polygon fill=\"#e58139\" fill-opacity=\"0.800000\" stroke=\"#000000\" points=\"391.3373,-356 264.6066,-356 264.6066,-292 391.3373,-292 391.3373,-356\"/>\n",
       "<text text-anchor=\"start\" x=\"272.5393\" y=\"-340.8\" font-family=\"Times,serif\" font-size=\"14.00\" fill=\"#000000\">YearMade ≤ 1984.5</text>\n",
       "<text text-anchor=\"start\" x=\"300.4983\" y=\"-326.8\" font-family=\"Times,serif\" font-size=\"14.00\" fill=\"#000000\">mse = 0.4</text>\n",
       "<text text-anchor=\"start\" x=\"280.4724\" y=\"-312.8\" font-family=\"Times,serif\" font-size=\"14.00\" fill=\"#000000\">samples = 18321</text>\n",
       "<text text-anchor=\"start\" x=\"286.1155\" y=\"-298.8\" font-family=\"Times,serif\" font-size=\"14.00\" fill=\"#000000\">value = 10.202</text>\n",
       "</g>\n",
       "<!-- 0&#45;&gt;1 -->\n",
       "<g id=\"edge1\" class=\"edge\">\n",
       "<title>0&#45;&gt;1</title>\n",
       "<path fill=\"none\" stroke=\"#000000\" d=\"M166.5245,-300.3396C194.3076,-304.4113 226.2221,-309.0884 254.3015,-313.2035\"/>\n",
       "<polygon fill=\"#000000\" stroke=\"#000000\" points=\"254.0565,-316.7049 264.4583,-314.692 255.0715,-309.7788 254.0565,-316.7049\"/>\n",
       "<text text-anchor=\"middle\" x=\"244.4042\" y=\"-325.4195\" font-family=\"Times,serif\" font-size=\"14.00\" fill=\"#000000\">True</text>\n",
       "</g>\n",
       "<!-- 8 -->\n",
       "<g id=\"node9\" class=\"node\">\n",
       "<title>8</title>\n",
       "<polygon fill=\"#e58139\" fill-opacity=\"0.156863\" stroke=\"#000000\" points=\"391.3373,-234 264.6066,-234 264.6066,-170 391.3373,-170 391.3373,-234\"/>\n",
       "<text text-anchor=\"start\" x=\"272.5393\" y=\"-218.8\" font-family=\"Times,serif\" font-size=\"14.00\" fill=\"#000000\">YearMade ≤ 1998.5</text>\n",
       "<text text-anchor=\"start\" x=\"293.7547\" y=\"-204.8\" font-family=\"Times,serif\" font-size=\"14.00\" fill=\"#000000\">mse = 0.114</text>\n",
       "<text text-anchor=\"start\" x=\"283.9724\" y=\"-190.8\" font-family=\"Times,serif\" font-size=\"14.00\" fill=\"#000000\">samples = 1679</text>\n",
       "<text text-anchor=\"start\" x=\"289.6155\" y=\"-176.8\" font-family=\"Times,serif\" font-size=\"14.00\" fill=\"#000000\">value = 9.196</text>\n",
       "</g>\n",
       "<!-- 0&#45;&gt;8 -->\n",
       "<g id=\"edge8\" class=\"edge\">\n",
       "<title>0&#45;&gt;8</title>\n",
       "<path fill=\"none\" stroke=\"#000000\" d=\"M166.5245,-263.2387C194.5513,-252.6078 226.7823,-240.3823 255.0396,-229.664\"/>\n",
       "<polygon fill=\"#000000\" stroke=\"#000000\" points=\"256.3496,-232.9105 264.4583,-226.0914 253.867,-226.3655 256.3496,-232.9105\"/>\n",
       "<text text-anchor=\"middle\" x=\"241.6603\" y=\"-211.6323\" font-family=\"Times,serif\" font-size=\"14.00\" fill=\"#000000\">False</text>\n",
       "</g>\n",
       "<!-- 2 -->\n",
       "<g id=\"node3\" class=\"node\">\n",
       "<title>2</title>\n",
       "<polygon fill=\"#e58139\" fill-opacity=\"0.584314\" stroke=\"#000000\" points=\"634.9808,-465 514.9631,-465 514.9631,-401 634.9808,-401 634.9808,-465\"/>\n",
       "<text text-anchor=\"start\" x=\"522.718\" y=\"-449.8\" font-family=\"Times,serif\" font-size=\"14.00\" fill=\"#000000\">ModelID ≤ 4178.0</text>\n",
       "<text text-anchor=\"start\" x=\"540.4983\" y=\"-435.8\" font-family=\"Times,serif\" font-size=\"14.00\" fill=\"#000000\">mse = 0.325</text>\n",
       "<text text-anchor=\"start\" x=\"530.9724\" y=\"-421.8\" font-family=\"Times,serif\" font-size=\"14.00\" fill=\"#000000\">samples = 5438</text>\n",
       "<text text-anchor=\"start\" x=\"536.6155\" y=\"-407.8\" font-family=\"Times,serif\" font-size=\"14.00\" fill=\"#000000\">value = 9.867</text>\n",
       "</g>\n",
       "<!-- 1&#45;&gt;2 -->\n",
       "<g id=\"edge2\" class=\"edge\">\n",
       "<title>1&#45;&gt;2</title>\n",
       "<path fill=\"none\" stroke=\"#000000\" d=\"M391.5806,-352.0702C426.352,-367.4147 469.4808,-386.4472 505.1763,-402.1995\"/>\n",
       "<polygon fill=\"#000000\" stroke=\"#000000\" points=\"503.9945,-405.5036 514.5564,-406.3389 506.8207,-399.0994 503.9945,-405.5036\"/>\n",
       "</g>\n",
       "<!-- 5 -->\n",
       "<g id=\"node6\" class=\"node\">\n",
       "<title>5</title>\n",
       "<polygon fill=\"#e58139\" fill-opacity=\"0.890196\" stroke=\"#000000\" points=\"653.8177,-356 496.1262,-356 496.1262,-292 653.8177,-292 653.8177,-356\"/>\n",
       "<text text-anchor=\"start\" x=\"504.0491\" y=\"-340.8\" font-family=\"Times,serif\" font-size=\"14.00\" fill=\"#000000\">fiProductClassDesc ≤ 7.5</text>\n",
       "<text text-anchor=\"start\" x=\"540.4983\" y=\"-326.8\" font-family=\"Times,serif\" font-size=\"14.00\" fill=\"#000000\">mse = 0.364</text>\n",
       "<text text-anchor=\"start\" x=\"527.4724\" y=\"-312.8\" font-family=\"Times,serif\" font-size=\"14.00\" fill=\"#000000\">samples = 12883</text>\n",
       "<text text-anchor=\"start\" x=\"533.1155\" y=\"-298.8\" font-family=\"Times,serif\" font-size=\"14.00\" fill=\"#000000\">value = 10.344</text>\n",
       "</g>\n",
       "<!-- 1&#45;&gt;5 -->\n",
       "<g id=\"edge5\" class=\"edge\">\n",
       "<title>1&#45;&gt;5</title>\n",
       "<path fill=\"none\" stroke=\"#000000\" d=\"M391.5806,-324C420.343,-324 454.8239,-324 486.0858,-324\"/>\n",
       "<polygon fill=\"#000000\" stroke=\"#000000\" points=\"486.1113,-327.5001 496.1113,-324 486.1113,-320.5001 486.1113,-327.5001\"/>\n",
       "</g>\n",
       "<!-- 3 -->\n",
       "<g id=\"node4\" class=\"node\">\n",
       "<title>3</title>\n",
       "<polygon fill=\"#e58139\" fill-opacity=\"0.717647\" stroke=\"#000000\" points=\"857.971,-526 753.9729,-526 753.9729,-476 857.971,-476 857.971,-526\"/>\n",
       "<text text-anchor=\"start\" x=\"774.9983\" y=\"-510.8\" font-family=\"Times,serif\" font-size=\"14.00\" fill=\"#000000\">mse = 0.35</text>\n",
       "<text text-anchor=\"start\" x=\"761.9724\" y=\"-496.8\" font-family=\"Times,serif\" font-size=\"14.00\" fill=\"#000000\">samples = 2690</text>\n",
       "<text text-anchor=\"start\" x=\"764.1155\" y=\"-482.8\" font-family=\"Times,serif\" font-size=\"14.00\" fill=\"#000000\">value = 10.071</text>\n",
       "</g>\n",
       "<!-- 2&#45;&gt;3 -->\n",
       "<g id=\"edge3\" class=\"edge\">\n",
       "<title>2&#45;&gt;3</title>\n",
       "<path fill=\"none\" stroke=\"#000000\" d=\"M635.0615,-450.6887C668.5207,-460.5381 710.1104,-472.781 743.8853,-482.7234\"/>\n",
       "<polygon fill=\"#000000\" stroke=\"#000000\" points=\"743.0622,-486.1295 753.6436,-485.596 745.039,-479.4144 743.0622,-486.1295\"/>\n",
       "</g>\n",
       "<!-- 4 -->\n",
       "<g id=\"node5\" class=\"node\">\n",
       "<title>4</title>\n",
       "<polygon fill=\"#e58139\" fill-opacity=\"0.458824\" stroke=\"#000000\" points=\"857.971,-458 753.9729,-458 753.9729,-408 857.971,-408 857.971,-458\"/>\n",
       "<text text-anchor=\"start\" x=\"771.4983\" y=\"-442.8\" font-family=\"Times,serif\" font-size=\"14.00\" fill=\"#000000\">mse = 0.219</text>\n",
       "<text text-anchor=\"start\" x=\"761.9724\" y=\"-428.8\" font-family=\"Times,serif\" font-size=\"14.00\" fill=\"#000000\">samples = 2748</text>\n",
       "<text text-anchor=\"start\" x=\"767.6155\" y=\"-414.8\" font-family=\"Times,serif\" font-size=\"14.00\" fill=\"#000000\">value = 9.667</text>\n",
       "</g>\n",
       "<!-- 2&#45;&gt;4 -->\n",
       "<g id=\"edge4\" class=\"edge\">\n",
       "<title>2&#45;&gt;4</title>\n",
       "<path fill=\"none\" stroke=\"#000000\" d=\"M635.0615,-433C668.3771,-433 709.7535,-433 743.45,-433\"/>\n",
       "<polygon fill=\"#000000\" stroke=\"#000000\" points=\"743.6436,-436.5001 753.6436,-433 743.6435,-429.5001 743.6436,-436.5001\"/>\n",
       "</g>\n",
       "<!-- 6 -->\n",
       "<g id=\"node7\" class=\"node\">\n",
       "<title>6</title>\n",
       "<polygon fill=\"#e58139\" fill-opacity=\"0.627451\" stroke=\"#000000\" points=\"857.971,-390 753.9729,-390 753.9729,-340 857.971,-340 857.971,-390\"/>\n",
       "<text text-anchor=\"start\" x=\"771.4983\" y=\"-374.8\" font-family=\"Times,serif\" font-size=\"14.00\" fill=\"#000000\">mse = 0.125</text>\n",
       "<text text-anchor=\"start\" x=\"761.9724\" y=\"-360.8\" font-family=\"Times,serif\" font-size=\"14.00\" fill=\"#000000\">samples = 3784</text>\n",
       "<text text-anchor=\"start\" x=\"767.6155\" y=\"-346.8\" font-family=\"Times,serif\" font-size=\"14.00\" fill=\"#000000\">value = 9.932</text>\n",
       "</g>\n",
       "<!-- 5&#45;&gt;6 -->\n",
       "<g id=\"edge6\" class=\"edge\">\n",
       "<title>5&#45;&gt;6</title>\n",
       "<path fill=\"none\" stroke=\"#000000\" d=\"M653.823,-337.9952C683.2736,-343.2224 716.2707,-349.079 743.9888,-353.9987\"/>\n",
       "<polygon fill=\"#000000\" stroke=\"#000000\" points=\"743.4877,-357.4643 753.9455,-355.7659 744.711,-350.5721 743.4877,-357.4643\"/>\n",
       "</g>\n",
       "<!-- 7 -->\n",
       "<g id=\"node8\" class=\"node\">\n",
       "<title>7</title>\n",
       "<polygon fill=\"#e58139\" stroke=\"#000000\" points=\"857.971,-322 753.9729,-322 753.9729,-272 857.971,-272 857.971,-322\"/>\n",
       "<text text-anchor=\"start\" x=\"771.4983\" y=\"-306.8\" font-family=\"Times,serif\" font-size=\"14.00\" fill=\"#000000\">mse = 0.364</text>\n",
       "<text text-anchor=\"start\" x=\"761.9724\" y=\"-292.8\" font-family=\"Times,serif\" font-size=\"14.00\" fill=\"#000000\">samples = 9099</text>\n",
       "<text text-anchor=\"start\" x=\"764.1155\" y=\"-278.8\" font-family=\"Times,serif\" font-size=\"14.00\" fill=\"#000000\">value = 10.515</text>\n",
       "</g>\n",
       "<!-- 5&#45;&gt;7 -->\n",
       "<g id=\"edge7\" class=\"edge\">\n",
       "<title>5&#45;&gt;7</title>\n",
       "<path fill=\"none\" stroke=\"#000000\" d=\"M653.823,-314.7836C683.2736,-311.3414 716.2707,-307.4846 743.9888,-304.2448\"/>\n",
       "<polygon fill=\"#000000\" stroke=\"#000000\" points=\"744.4194,-307.7184 753.9455,-303.081 743.6067,-300.7657 744.4194,-307.7184\"/>\n",
       "</g>\n",
       "<!-- 9 -->\n",
       "<g id=\"node10\" class=\"node\">\n",
       "<title>9</title>\n",
       "<polygon fill=\"#e58139\" fill-opacity=\"0.054902\" stroke=\"#000000\" points=\"657.3177,-234 492.6262,-234 492.6262,-170 657.3177,-170 657.3177,-234\"/>\n",
       "<text text-anchor=\"start\" x=\"500.5491\" y=\"-218.8\" font-family=\"Times,serif\" font-size=\"14.00\" fill=\"#000000\">fiProductClassDesc ≤ 39.5</text>\n",
       "<text text-anchor=\"start\" x=\"540.4983\" y=\"-204.8\" font-family=\"Times,serif\" font-size=\"14.00\" fill=\"#000000\">mse = 0.089</text>\n",
       "<text text-anchor=\"start\" x=\"534.4724\" y=\"-190.8\" font-family=\"Times,serif\" font-size=\"14.00\" fill=\"#000000\">samples = 899</text>\n",
       "<text text-anchor=\"start\" x=\"536.6155\" y=\"-176.8\" font-family=\"Times,serif\" font-size=\"14.00\" fill=\"#000000\">value = 9.041</text>\n",
       "</g>\n",
       "<!-- 8&#45;&gt;9 -->\n",
       "<g id=\"edge9\" class=\"edge\">\n",
       "<title>8&#45;&gt;9</title>\n",
       "<path fill=\"none\" stroke=\"#000000\" d=\"M391.5806,-202C419.1911,-202 452.0713,-202 482.3149,-202\"/>\n",
       "<polygon fill=\"#000000\" stroke=\"#000000\" points=\"482.459,-205.5001 492.459,-202 482.4589,-198.5001 482.459,-205.5001\"/>\n",
       "</g>\n",
       "<!-- 12 -->\n",
       "<g id=\"node13\" class=\"node\">\n",
       "<title>12</title>\n",
       "<polygon fill=\"#e58139\" fill-opacity=\"0.270588\" stroke=\"#000000\" points=\"657.3177,-125 492.6262,-125 492.6262,-61 657.3177,-61 657.3177,-125\"/>\n",
       "<text text-anchor=\"start\" x=\"500.5491\" y=\"-109.8\" font-family=\"Times,serif\" font-size=\"14.00\" fill=\"#000000\">fiProductClassDesc ≤ 40.5</text>\n",
       "<text text-anchor=\"start\" x=\"540.4983\" y=\"-95.8\" font-family=\"Times,serif\" font-size=\"14.00\" fill=\"#000000\">mse = 0.083</text>\n",
       "<text text-anchor=\"start\" x=\"534.4724\" y=\"-81.8\" font-family=\"Times,serif\" font-size=\"14.00\" fill=\"#000000\">samples = 780</text>\n",
       "<text text-anchor=\"start\" x=\"536.6155\" y=\"-67.8\" font-family=\"Times,serif\" font-size=\"14.00\" fill=\"#000000\">value = 9.375</text>\n",
       "</g>\n",
       "<!-- 8&#45;&gt;12 -->\n",
       "<g id=\"edge12\" class=\"edge\">\n",
       "<title>8&#45;&gt;12</title>\n",
       "<path fill=\"none\" stroke=\"#000000\" d=\"M391.5806,-173.9298C422.5457,-160.265 460.1387,-143.6754 493.2075,-129.0823\"/>\n",
       "<polygon fill=\"#000000\" stroke=\"#000000\" points=\"494.6696,-132.2628 502.4053,-125.0233 491.8434,-125.8586 494.6696,-132.2628\"/>\n",
       "</g>\n",
       "<!-- 10 -->\n",
       "<g id=\"node11\" class=\"node\">\n",
       "<title>10</title>\n",
       "<polygon fill=\"transparent\" stroke=\"#000000\" points=\"854.471,-254 757.4729,-254 757.4729,-204 854.471,-204 854.471,-254\"/>\n",
       "<text text-anchor=\"start\" x=\"771.4983\" y=\"-238.8\" font-family=\"Times,serif\" font-size=\"14.00\" fill=\"#000000\">mse = 0.066</text>\n",
       "<text text-anchor=\"start\" x=\"765.4724\" y=\"-224.8\" font-family=\"Times,serif\" font-size=\"14.00\" fill=\"#000000\">samples = 478</text>\n",
       "<text text-anchor=\"start\" x=\"767.6155\" y=\"-210.8\" font-family=\"Times,serif\" font-size=\"14.00\" fill=\"#000000\">value = 8.954</text>\n",
       "</g>\n",
       "<!-- 9&#45;&gt;10 -->\n",
       "<g id=\"edge10\" class=\"edge\">\n",
       "<title>9&#45;&gt;10</title>\n",
       "<path fill=\"none\" stroke=\"#000000\" d=\"M657.3899,-211.6333C687.0321,-215.0979 719.8492,-218.9337 747.0859,-222.1172\"/>\n",
       "<polygon fill=\"#000000\" stroke=\"#000000\" points=\"746.8944,-225.6186 757.2331,-223.3033 747.7071,-218.6659 746.8944,-225.6186\"/>\n",
       "</g>\n",
       "<!-- 11 -->\n",
       "<g id=\"node12\" class=\"node\">\n",
       "<title>11</title>\n",
       "<polygon fill=\"#e58139\" fill-opacity=\"0.117647\" stroke=\"#000000\" points=\"854.471,-186 757.4729,-186 757.4729,-136 854.471,-136 854.471,-186\"/>\n",
       "<text text-anchor=\"start\" x=\"771.4983\" y=\"-170.8\" font-family=\"Times,serif\" font-size=\"14.00\" fill=\"#000000\">mse = 0.098</text>\n",
       "<text text-anchor=\"start\" x=\"765.4724\" y=\"-156.8\" font-family=\"Times,serif\" font-size=\"14.00\" fill=\"#000000\">samples = 421</text>\n",
       "<text text-anchor=\"start\" x=\"771.1155\" y=\"-142.8\" font-family=\"Times,serif\" font-size=\"14.00\" fill=\"#000000\">value = 9.14</text>\n",
       "</g>\n",
       "<!-- 9&#45;&gt;11 -->\n",
       "<g id=\"edge11\" class=\"edge\">\n",
       "<title>9&#45;&gt;11</title>\n",
       "<path fill=\"none\" stroke=\"#000000\" d=\"M657.3899,-187.3717C687.0321,-182.1105 719.8492,-176.2859 747.0859,-171.4516\"/>\n",
       "<polygon fill=\"#000000\" stroke=\"#000000\" points=\"747.9987,-174.8444 757.2331,-169.6506 746.7753,-167.9521 747.9987,-174.8444\"/>\n",
       "</g>\n",
       "<!-- 13 -->\n",
       "<g id=\"node14\" class=\"node\">\n",
       "<title>13</title>\n",
       "<polygon fill=\"#e58139\" fill-opacity=\"0.215686\" stroke=\"#000000\" points=\"854.471,-118 757.4729,-118 757.4729,-68 854.471,-68 854.471,-118\"/>\n",
       "<text text-anchor=\"start\" x=\"774.9983\" y=\"-102.8\" font-family=\"Times,serif\" font-size=\"14.00\" fill=\"#000000\">mse = 0.08</text>\n",
       "<text text-anchor=\"start\" x=\"765.4724\" y=\"-88.8\" font-family=\"Times,serif\" font-size=\"14.00\" fill=\"#000000\">samples = 449</text>\n",
       "<text text-anchor=\"start\" x=\"767.6155\" y=\"-74.8\" font-family=\"Times,serif\" font-size=\"14.00\" fill=\"#000000\">value = 9.289</text>\n",
       "</g>\n",
       "<!-- 12&#45;&gt;13 -->\n",
       "<g id=\"edge13\" class=\"edge\">\n",
       "<title>12&#45;&gt;13</title>\n",
       "<path fill=\"none\" stroke=\"#000000\" d=\"M657.3899,-93C687.0321,-93 719.8492,-93 747.0859,-93\"/>\n",
       "<polygon fill=\"#000000\" stroke=\"#000000\" points=\"747.2331,-96.5001 757.2331,-93 747.2331,-89.5001 747.2331,-96.5001\"/>\n",
       "</g>\n",
       "<!-- 14 -->\n",
       "<g id=\"node15\" class=\"node\">\n",
       "<title>14</title>\n",
       "<polygon fill=\"#e58139\" fill-opacity=\"0.345098\" stroke=\"#000000\" points=\"854.471,-50 757.4729,-50 757.4729,0 854.471,0 854.471,-50\"/>\n",
       "<text text-anchor=\"start\" x=\"771.4983\" y=\"-34.8\" font-family=\"Times,serif\" font-size=\"14.00\" fill=\"#000000\">mse = 0.063</text>\n",
       "<text text-anchor=\"start\" x=\"765.4724\" y=\"-20.8\" font-family=\"Times,serif\" font-size=\"14.00\" fill=\"#000000\">samples = 331</text>\n",
       "<text text-anchor=\"start\" x=\"767.6155\" y=\"-6.8\" font-family=\"Times,serif\" font-size=\"14.00\" fill=\"#000000\">value = 9.491</text>\n",
       "</g>\n",
       "<!-- 12&#45;&gt;14 -->\n",
       "<g id=\"edge14\" class=\"edge\">\n",
       "<title>12&#45;&gt;14</title>\n",
       "<path fill=\"none\" stroke=\"#000000\" d=\"M657.3899,-68.7384C687.1627,-59.9742 720.1384,-50.267 747.4455,-42.2286\"/>\n",
       "<polygon fill=\"#000000\" stroke=\"#000000\" points=\"748.6285,-45.5289 757.2331,-39.3474 746.6517,-38.8138 748.6285,-45.5289\"/>\n",
       "</g>\n",
       "</g>\n",
       "</svg>\n"
      ],
      "text/plain": [
       "<graphviz.files.Source at 0x1c2777e0f0>"
      ]
     },
     "metadata": {},
     "output_type": "display_data"
    }
   ],
   "source": [
    "draw_tree(m.estimators_[0], df_trn, precision=3)"
   ]
  },
  {
   "cell_type": "markdown",
   "metadata": {},
   "source": [
    "* Algorithm has determined that the best split it can make is the `Coupler_System` split at 0.5.\n",
    "* Uses weighted average of the MSE of the two groups to determine if a split is good or not.\n",
    "  * Then for the remaining features, it trys to find the next best split.\n",
    "* Stop when you hit some limit (`max_depth=3`) or when leaf nodes only have 1 thing in them.\n",
    "  * Can do that by removing the `max_depth` param:"
   ]
  },
  {
   "cell_type": "code",
   "execution_count": 25,
   "metadata": {},
   "outputs": [
    {
     "data": {
      "text/plain": [
       "RandomForestRegressor(bootstrap=False, criterion='mse', max_depth=None,\n",
       "           max_features='auto', max_leaf_nodes=None,\n",
       "           min_impurity_decrease=0.0, min_impurity_split=None,\n",
       "           min_samples_leaf=1, min_samples_split=2,\n",
       "           min_weight_fraction_leaf=0.0, n_estimators=1, n_jobs=-1,\n",
       "           oob_score=False, random_state=None, verbose=0, warm_start=False)"
      ]
     },
     "execution_count": 25,
     "metadata": {},
     "output_type": "execute_result"
    }
   ],
   "source": [
    "m = RandomForestRegressor(n_estimators=1, bootstrap=False, n_jobs=-1)\n",
    "m.fit(X_train, y_train)"
   ]
  },
  {
   "cell_type": "code",
   "execution_count": 28,
   "metadata": {},
   "outputs": [
    {
     "name": "stdout",
     "output_type": "stream",
     "text": [
      "RMSE train: 1.0\n",
      "RMSE val: 0.46551812634738715\n",
      "R^2 val: 0.612990909435976\n"
     ]
    }
   ],
   "source": [
    "print(f'RMSE train: {m.score(X_train, y_train)}')\n",
    "print(f'RMSE val: {rmse(m.predict(X_valid), y_valid)}')\n",
    "print(f'R^2 val: {m.score(X_valid, y_valid)}')"
   ]
  },
  {
   "cell_type": "markdown",
   "metadata": {},
   "source": [
    "* Which gives us a perfect RMSE value, but obviously overfits a lot (though still performs better than `max_depth`).\n",
    "* Approach to making trees better: forests."
   ]
  },
  {
   "cell_type": "markdown",
   "metadata": {},
   "source": [
    "## 00:47:08 - Bagging\n",
    "\n",
    "* Forests uses a statistical technique called \"bagging\".\n",
    "* Random Forests = \"way of bagging trees\".\n",
    "* Bagging:\n",
    "  * Idea of creating multiple models that are predictive but not correlated with each other.\n",
    "  * What if you created massive deep trees on only a small subset of the data (similar to the overfit tree above)?\n",
    "    * That's what a random forest does.\n",
    "    * All have errors but when averaged they should cancel each other out (in theory).\n",
    "* By default, `RandomForestRegressor` creates 10 \"estimators\" (aka random trees)."
   ]
  },
  {
   "cell_type": "code",
   "execution_count": 32,
   "metadata": {},
   "outputs": [
    {
     "name": "stdout",
     "output_type": "stream",
     "text": [
      "R^2 train: 0.9721396726011831\n",
      "RMSE val: 0.3402005833666654\n",
      "R^2 val: 0.7933106583334829\n"
     ]
    }
   ],
   "source": [
    "m = RandomForestRegressor(n_jobs=-1)\n",
    "m.fit(X_train, y_train)\n",
    "print(f'R^2 train: {m.score(X_train, y_train)}')\n",
    "print(f'RMSE val: {rmse(m.predict(X_valid), y_valid)}')\n",
    "print(f'R^2 val: {m.score(X_valid, y_valid)}')"
   ]
  },
  {
   "cell_type": "markdown",
   "metadata": {},
   "source": [
    "### 00:51:27 - Audience questions\n",
    "\n",
    "* Q1: Are we taking 10 crappy models on random subsets and combining them to create a good model?\n",
    "* A1: Yes.\n",
    "\n",
    "* Q2: Is there a certain number of trees you need to get a good RMSE?\n",
    "* A2: Will look at hyperparameters soon.\n",
    "\n",
    "* Q3: Can subsets have overlap?\n",
    "* A3: Scikit-learn, picks out n rows with \"replacement\", which means that on average 63.2% of rows are represented.\n",
    "\n",
    "* Q4: Is a tree simply finding points most like your current point?\n",
    "* A4: Yes, but you're trying to find a model which tells you which variables are important and how they work together."
   ]
  },
  {
   "cell_type": "markdown",
   "metadata": {},
   "source": []
  }
 ],
 "metadata": {
  "kernelspec": {
   "display_name": "Python 3",
   "language": "python",
   "name": "python3"
  },
  "language_info": {
   "codemirror_mode": {
    "name": "ipython",
    "version": 3
   },
   "file_extension": ".py",
   "mimetype": "text/x-python",
   "name": "python",
   "nbconvert_exporter": "python",
   "pygments_lexer": "ipython3",
   "version": "3.6.5"
  }
 },
 "nbformat": 4,
 "nbformat_minor": 2
}

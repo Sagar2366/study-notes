{
 "cells": [
  {
   "cell_type": "markdown",
   "metadata": {},
   "source": [
    "# Lesson 3"
   ]
  },
  {
   "cell_type": "code",
   "execution_count": 1,
   "metadata": {},
   "outputs": [],
   "source": [
    "# Put these at the top of every notebook to get automatic reloading and inline plotting\n",
    "%reload_ext autoreload\n",
    "%autoreload 2\n",
    "%matplotlib inline"
   ]
  },
  {
   "cell_type": "markdown",
   "metadata": {},
   "source": [
    "## 00:00:00 - Examples of students study materials\n",
    "\n",
    "* [AWS fastai GPU Image Setup](https://github.com/reshamas/fastai_deeplearn_part1/blob/master/tools/aws_ami_gpu_setup.md).\n",
    "* [tmux on AWS](https://github.com/reshamas/fastai_deeplearn_part1/blob/master/tools/tmux.md).\n",
    "* [Case Study: A world class image classifier for dogs and cats (err.., anything)](https://medium.com/@apiltamang/case-study-a-world-class-image-classifier-for-dogs-and-cats-err-anything-9cf39ee4690e)\n",
    "  * Summary of last lessons.\n",
    "* [Estimating an Optimal Learning Rate For a Deep Neural Network](https://towardsdatascience.com/estimating-optimal-learning-rate-for-a-deep-neural-network-ce32f2556ce0)\n",
    "* [A practitioner's guide to PyTorch](https://towardsdatascience.com/a-practitioners-guide-to-pytorch-1d0f6a238040)\n",
    "* [Visualizing Learning rate vs Batch size](https://miguel-data-sc.github.io/2017-11-05-first/)\n",
    "* [Do smoother areas of the error surface lead to better generalization?](https://medium.com/@radekosmulski/do-smoother-areas-of-the-error-surface-lead-to-better-generalization-b5f93b9edf5b)\n",
    "* [Convolutional Neural Network in 5 minutes](https://hackernoon.com/convolutional-neural-network-in-5-minutes-8f867eb9ca39)\n",
    "* [Decoding the ResNet architecture](http://teleported.in/posts/decoding-resnet-architecture/)\n",
    "\n",
    "* [Fast.AI beginner forum](http://forums.fast.ai/c/part1v2-beg)."
   ]
  },
  {
   "cell_type": "markdown",
   "metadata": {},
   "source": [
    "## 00:06:30 - Recap of lessons so far\n",
    "\n",
    "* So far looked at image classification and CNNs as a practitioner.\n",
    "* Going to look at CNN theory today.\n",
    "* Then, intro to CNN for structured data.\n",
    "* Language RNN intro.\n",
    "* Collaborative filtering intro.\n",
    "* Then a deep dive into those topics, basically in reverse."
   ]
  },
  {
   "cell_type": "markdown",
   "metadata": {},
   "source": [
    "## 00:08:30 - Review of previous week's assignment\n",
    "\n",
    "* Make sure you know how to download data (see [Kaggle API](https://github.com/Kaggle/kaggle-api)).\n",
    "  * Tip for just downloading the dataset you want: install [CurlWget](https://chrome.google.com/webstore/detail/curlwget/jmocjfidanebdlinpbcdkcmgdifblncg?hl=en).\n",
    "     * After starting a download, it stores all your headers and cookies needed to download something on the command-line.\n",
    "  * Can put the data anywhere and symlink to it in your project directory: `ln -s /some/path/to/data data/my-data`.\n",
    "  * Add `-l` flag to `ls` to show the symlink source.\n",
    "* Introduces `bn.freeze`: use if your images are very similar to ImageNet images.\n",
    "  * Causes the batch normalization moving averages to not be updated."
   ]
  },
  {
   "cell_type": "markdown",
   "metadata": {},
   "source": [
    "## 00:21:52 - Dogs and Cats in Keras/Tensorflow"
   ]
  },
  {
   "cell_type": "markdown",
   "metadata": {},
   "source": [
    "* See [notebook](https://github.com/fastai/fastai/blob/master/courses/dl1/keras_lesson1.ipynb) for walkthrough."
   ]
  },
  {
   "cell_type": "code",
   "execution_count": 1,
   "metadata": {},
   "outputs": [],
   "source": []
  },
  {
   "cell_type": "code",
   "execution_count": null,
   "metadata": {},
   "outputs": [],
   "source": []
  }
 ],
 "metadata": {
  "kernelspec": {
   "display_name": "Python 3",
   "language": "python",
   "name": "python3"
  },
  "language_info": {
   "codemirror_mode": {
    "name": "ipython",
    "version": 3
   },
   "file_extension": ".py",
   "mimetype": "text/x-python",
   "name": "python",
   "nbconvert_exporter": "python",
   "pygments_lexer": "ipython3",
   "version": "3.6.4"
  }
 },
 "nbformat": 4,
 "nbformat_minor": 2
}

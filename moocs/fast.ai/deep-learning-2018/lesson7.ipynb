{
 "cells": [
  {
   "cell_type": "markdown",
   "metadata": {},
   "source": [
    "# Lesson 7"
   ]
  },
  {
   "cell_type": "code",
   "execution_count": 1,
   "metadata": {},
   "outputs": [],
   "source": [
    "%reload_ext autoreload\n",
    "%autoreload 2\n",
    "%matplotlib inline\n",
    "\n",
    "from fastai.fastai.learner import *\n",
    "from fastai.fastai.column_data import *\n",
    "from fastai.fastai.io import *\n",
    "from fastai.fastai.lm_rnn import *"
   ]
  },
  {
   "cell_type": "markdown",
   "metadata": {},
   "source": [
    "## 00:00:00 - Part 1 recap\n",
    "\n",
    "* Part 1 theme = classification and regression with DL.\n",
    "  * Identify and learning best practises.\n",
    "* First 4 lessons: image classification, structured data and NLP in practise.\n",
    "* Last 3 lessons: understanding more detail about what is going on under the hood.\n",
    "\n",
    "## 00:01:01 - Part 2 preview\n",
    "\n",
    "* Move from classification focus to generative models:\n",
    "  * Chat responses.\n",
    "  * Images.\n",
    "  * Text.\n",
    "* Move from best practises to speculative stuff:\n",
    "  * Recent papers that haven't been fully tested.\n",
    "* Learn how to read papers.\n",
    "\n",
    "## 00:02:51 - RNNs (recap of Lesson 6)\n",
    "\n",
    "* RNNs are just standard fully-connected networks.\n",
    "* Recap of lesson from last week (see Lesson 6 notebook).\n",
    "\n",
    "### 00:06:20 - Multi-output model\n",
    "\n",
    "* Split into non-overlapping pieces, the use a piece to predict the next chars offset by 1.\n",
    "* Problem with RNN model created earlier: each time we start a new sequence, we have to learn the hidden state from scratch:\n",
    "  ```\n",
    "  def forward(self, *cs):\n",
    "      bs = cs[0].size(0)\n",
    "      \n",
    "      # Problem: we are created a brand new hidden state each forward prop\n",
    "      h = V(torch.zeros(1, bs, n_hidden)\n",
    "      \n",
    "      inp = self.e(torch.stack(cs))\n",
    "      outp, h = self.rnn(inp, h)\n",
    "  ```\n",
    "  * Can improve on that by saving the state of `self.h` in the constructor:"
   ]
  },
  {
   "cell_type": "code",
   "execution_count": 2,
   "metadata": {},
   "outputs": [],
   "source": [
    "class CharSeqStatefulRnn(nn.Module):\n",
    "    def __init__(self, vocab_size, n_fac, bs):\n",
    "        self.vocab_size = vocab_size\n",
    "        \n",
    "        super().__init__()\n",
    "        \n",
    "        self.e = nn.Embedding(vocab_size, n_fac)\n",
    "        self.rnn = nn.RNN(n_fac, n_hidden)\n",
    "        self.l_out = nn.Linear(n_hidden, vocab_size)\n",
    "        self.init_hidden(bs)\n",
    "        \n",
    "    def forward(self, cs):\n",
    "        bs = cs[0].size[0]\n",
    "        \n",
    "        # This handles the last batch, if we don't have enough\n",
    "        # text for a batch size.\n",
    "        if self.h.size(1) != bs:\n",
    "            self.init_hidden(bs)\n",
    "            \n",
    "        outp, h = self.rnn(self.e(cs), self.h)\n",
    "        \n",
    "        # Store results of hidden layer and throw away history of operations.\n",
    "        # Called: backprop through time.\n",
    "        self.h = repackage_var(h)\n",
    "        \n",
    "        return F.log_softmax(self.l_out(outp), dim=-1).view(-1, self.vocab_size)\n",
    "    \n",
    "    def init_hidden(self, bs):\n",
    "        self.h = (V(torch.zeros(1, bs, n_hidden)))"
   ]
  },
  {
   "cell_type": "markdown",
   "metadata": {},
   "source": [
    "### 00:10:50 - Backprop through time\n",
    "\n",
    "* In multi-output model, unrolled RNN is going to be the size of the corpus. Eg if it's a million words, `self.h` would have a million layers, which would be expensive to run backprop etc.\n",
    "  * Want to remember state but not history: `Variable(h.data) if type(h) == Variable else tuple(repackage_var(v) for v in h)`\n",
    "    * By passing `h.data` into a new `Variable` class, you lose the history.\n",
    "* Process of running back prop through hidden state history is backprop through time.\n",
    "* Usually set a cap on how many layers to run bptt on.\n",
    "  * In original RNN lesson, we had a var called `bptt = 70`, which sets how many layers to run backprop through.\n",
    "* Longer values may let you capture more state about the problem, but may also results in exploding / vanishing gradients."
   ]
  },
  {
   "cell_type": "markdown",
   "metadata": {},
   "source": [
    "### 00:16:00 - Minibatching in RNNs\n",
    "\n",
    "* How do you get the data into the model, given we want to do a mini-batch of sections?\n",
    "* Reminder about how Torch text breaks up documents for batching:\n",
    "  * Split the corpus into 64 equal sized chunks.\n",
    "  * Stack the \"chunks\" - each mini batch splits the chunks of size `bptt`."
   ]
  },
  {
   "cell_type": "markdown",
   "metadata": {},
   "source": [
    "### 00:20:31 - Augmentation for NLP (audience question)\n",
    "\n",
    "* No good way known: Jeremy planning to study it.\n",
    "* Recent Kaggle winner won it by randomly inserting parts of rows."
   ]
  },
  {
   "cell_type": "markdown",
   "metadata": {},
   "source": [
    "### 00:21:38 - Choosing a `bptt` size (audience question)\n",
    "\n",
    "* Question: how do you choose a `bptt` size?\n",
    "* Answers:\n",
    "  * Memory: Matrix size for a minibatch has a bptt x bs size, so pick one that your GPU can handle.\n",
    "  * Stability: If training is unstable: loss shotting off to NaN can try reducing (less layers to gradient explode through).\n",
    "  * Performance: Consider reducing if each batch is training too slowly."
   ]
  },
  {
   "cell_type": "markdown",
   "metadata": {},
   "source": [
    "## 00:23:24 - Training model with Torchtext tooling\n",
    "\n",
    "* Back to Torchtext for preparing dataset.\n",
    "* Have a choice when preparing dataset:\n",
    "  * Write your own dataset subclass\n",
    "  * Change your data to fit the dataset classes you have."
   ]
  },
  {
   "cell_type": "code",
   "execution_count": 3,
   "metadata": {},
   "outputs": [],
   "source": [
    "from torchtext import vocab, data\n",
    "\n",
    "from fastai.fastai.nlp import *\n",
    "from fastai.fastai.lm_rnn import *\n",
    "\n",
    "PATH = 'data/nietzche/'\n",
    "\n",
    "TRN_PATH = 'trn/'\n",
    "VAL_PATH = 'val/'\n",
    "\n",
    "TRN = f'{PATH}{TRN_PATH}'\n",
    "VAL = f'{PATH}{VAL_PATH}'"
   ]
  },
  {
   "cell_type": "markdown",
   "metadata": {},
   "source": [
    "### Preparing dataset (not covered in lecture)"
   ]
  },
  {
   "cell_type": "markdown",
   "metadata": {},
   "source": [
    "* Prepared data by copying nietzsche.txt data to `trn` and `val` folder, then deleting last 20% of rows in `trn` and deleted first 80% of rows in `val`.\n",
    "* Useful to not have a random shuffled validation set: val set is actual ordered text."
   ]
  },
  {
   "cell_type": "code",
   "execution_count": 8,
   "metadata": {},
   "outputs": [],
   "source": [
    "!mkdir -p {TRN}"
   ]
  },
  {
   "cell_type": "code",
   "execution_count": 10,
   "metadata": {},
   "outputs": [],
   "source": [
    "!mkdir -p {VAL}"
   ]
  },
  {
   "cell_type": "code",
   "execution_count": 11,
   "metadata": {},
   "outputs": [
    {
     "name": "stderr",
     "output_type": "stream",
     "text": [
      "nietzsche.txt: 606kB [00:04, 133kB/s]                             \n"
     ]
    }
   ],
   "source": [
    "get_data('https://s3.amazonaws.com/text-datasets/nietzsche.txt', f'{PATH}nietzsche.txt')"
   ]
  },
  {
   "cell_type": "code",
   "execution_count": 12,
   "metadata": {},
   "outputs": [
    {
     "name": "stdout",
     "output_type": "stream",
     "text": [
      "    9934 data/nietzche/nietzsche.txt\r\n"
     ]
    }
   ],
   "source": [
    "!wc -l {PATH}nietzsche.txt"
   ]
  },
  {
   "cell_type": "code",
   "execution_count": 13,
   "metadata": {},
   "outputs": [],
   "source": [
    "# Use ceil over round because that line ends a sentence.\n",
    "trn_rows = math.ceil(9934 * 0.8)"
   ]
  },
  {
   "cell_type": "code",
   "execution_count": 14,
   "metadata": {},
   "outputs": [],
   "source": [
    "!head -n {trn_rows} {PATH}nietzsche.txt > {TRN}/train.txt"
   ]
  },
  {
   "cell_type": "code",
   "execution_count": 15,
   "metadata": {},
   "outputs": [
    {
     "name": "stdout",
     "output_type": "stream",
     "text": [
      "that the easy life which the Jesuit manuals advocate is for the benefit,\r\n",
      "not of the Jesuits but the laity. Indeed, it may be questioned whether\r\n",
      "we enlightened ones would become equally competent workers as the result\r\n",
      "of similar tactics and organization, and equally worthy of admiration as\r\n",
      "the result of self mastery, indefatigable industry and devotion.\r\n"
     ]
    }
   ],
   "source": [
    "!tail -n 5 {TRN}/train.txt"
   ]
  },
  {
   "cell_type": "code",
   "execution_count": 16,
   "metadata": {},
   "outputs": [],
   "source": [
    "!tail -n {9934 - trn_rows} {PATH}nietzsche.txt > {VAL}/val.txt"
   ]
  },
  {
   "cell_type": "code",
   "execution_count": 17,
   "metadata": {},
   "outputs": [
    {
     "name": "stdout",
     "output_type": "stream",
     "text": [
      "\r\n",
      "56\r\n",
      "\r\n",
      "=Victory of Knowledge over Radical Evil.=--It proves a material gain to\r\n",
      "him who would attain knowledge to have had during a considerable period\r\n"
     ]
    }
   ],
   "source": [
    "!head -n 5 {VAL}/val.txt"
   ]
  },
  {
   "cell_type": "markdown",
   "metadata": {},
   "source": [
    "* In Torchtext, you create a `Field`.\n",
    "  * Description for how to process text.\n",
    "  * `tokenize` - since you want a character model, can just use the list function in Python to tokenise:"
   ]
  },
  {
   "cell_type": "code",
   "execution_count": 18,
   "metadata": {},
   "outputs": [
    {
     "data": {
      "text/plain": [
       "['y', 'o', ' ', 'w', 'a', 's', 's', 'u', 'p']"
      ]
     },
     "execution_count": 18,
     "metadata": {},
     "output_type": "execute_result"
    }
   ],
   "source": [
    "list('yo wassup')"
   ]
  },
  {
   "cell_type": "code",
   "execution_count": 4,
   "metadata": {},
   "outputs": [],
   "source": [
    "TEXT = data.Field(lower=True, tokenize=list)"
   ]
  },
  {
   "cell_type": "markdown",
   "metadata": {},
   "source": [
    "* Settings:\n",
    "  * `bs` - batch size (same setting as last notebook).\n",
    "  * `bptt` - size of backprop through time.\n",
    "  * `n_fac` - size of embedding.\n",
    "  * `n_hidden` - size of hidden state."
   ]
  },
  {
   "cell_type": "code",
   "execution_count": 5,
   "metadata": {},
   "outputs": [],
   "source": [
    "bs=64; bptt=8; n_fac=42; n_hidden=256"
   ]
  },
  {
   "cell_type": "markdown",
   "metadata": {},
   "source": [
    "* Create Fast.ai dataset:"
   ]
  },
  {
   "cell_type": "code",
   "execution_count": 6,
   "metadata": {},
   "outputs": [],
   "source": [
    "FILES = dict(train=TRN_PATH, validation=VAL_PATH, test=VAL_PATH)\n",
    "md = LanguageModelData.from_text_files(PATH, TEXT, **FILES, bs=bs, bptt=bptt, min_freq=3)"
   ]
  },
  {
   "cell_type": "markdown",
   "metadata": {},
   "source": [
    "* Length of data loader is how many batches to go through (should be equal to token num / batch size / bptt):"
   ]
  },
  {
   "cell_type": "code",
   "execution_count": 22,
   "metadata": {},
   "outputs": [
    {
     "data": {
      "text/plain": [
       "943.3046875"
      ]
     },
     "execution_count": 22,
     "metadata": {},
     "output_type": "execute_result"
    }
   ],
   "source": [
    "len(md.trn_ds[0].text) / bs / bptt"
   ]
  },
  {
   "cell_type": "markdown",
   "metadata": {},
   "source": [
    "  * Not exactly that in Torchtext: bptt randomised a little bit:"
   ]
  },
  {
   "cell_type": "code",
   "execution_count": 23,
   "metadata": {},
   "outputs": [
    {
     "data": {
      "text/plain": [
       "942"
      ]
     },
     "execution_count": 23,
     "metadata": {},
     "output_type": "execute_result"
    }
   ],
   "source": [
    "len(md.trn_dl)"
   ]
  },
  {
   "cell_type": "markdown",
   "metadata": {},
   "source": [
    "Num unique tokens:"
   ]
  },
  {
   "cell_type": "code",
   "execution_count": 24,
   "metadata": {},
   "outputs": [
    {
     "data": {
      "text/plain": [
       "55"
      ]
     },
     "execution_count": 24,
     "metadata": {},
     "output_type": "execute_result"
    }
   ],
   "source": [
    "md.nt"
   ]
  },
  {
   "cell_type": "code",
   "execution_count": 25,
   "metadata": {},
   "outputs": [
    {
     "data": {
      "text/plain": [
       "(1, 482972)"
      ]
     },
     "execution_count": 25,
     "metadata": {},
     "output_type": "execute_result"
    }
   ],
   "source": [
    "len(md.trn_ds), len(md.trn_ds[0].text)"
   ]
  },
  {
   "cell_type": "markdown",
   "metadata": {},
   "source": [
    "* `TEXT` also contains an extra attribute called `vocab` containing:\n",
    "  * list of all unique items in vocab (`TEXT.vocab.itos`).\n",
    "  * reverse mapping from each item to number (`TEXT.vocab.stoi`)."
   ]
  },
  {
   "cell_type": "code",
   "execution_count": 26,
   "metadata": {},
   "outputs": [
    {
     "data": {
      "text/plain": [
       "['<unk>',\n",
       " '<pad>',\n",
       " ' ',\n",
       " 'e',\n",
       " 't',\n",
       " 'i',\n",
       " 'a',\n",
       " 'o',\n",
       " 'n',\n",
       " 's',\n",
       " 'r',\n",
       " 'h',\n",
       " 'l',\n",
       " 'd',\n",
       " 'c',\n",
       " 'u',\n",
       " 'f',\n",
       " 'm',\n",
       " 'p',\n",
       " 'g',\n",
       " ',',\n",
       " 'y',\n",
       " 'w',\n",
       " 'b',\n",
       " 'v',\n",
       " '-',\n",
       " '.',\n",
       " '\"',\n",
       " 'k',\n",
       " 'x',\n",
       " ';',\n",
       " ':',\n",
       " 'q',\n",
       " 'j',\n",
       " '!',\n",
       " '?',\n",
       " '(',\n",
       " ')',\n",
       " \"'\",\n",
       " 'z',\n",
       " '1',\n",
       " '2',\n",
       " '=',\n",
       " '_',\n",
       " '3',\n",
       " '[',\n",
       " ']',\n",
       " '4',\n",
       " '5',\n",
       " '6',\n",
       " '8',\n",
       " '7',\n",
       " '9',\n",
       " '0',\n",
       " 'ä']"
      ]
     },
     "execution_count": 26,
     "metadata": {},
     "output_type": "execute_result"
    }
   ],
   "source": [
    "TEXT.vocab.itos"
   ]
  },
  {
   "cell_type": "code",
   "execution_count": 27,
   "metadata": {},
   "outputs": [
    {
     "data": {
      "text/plain": [
       "defaultdict(<function torchtext.vocab._default_unk_index()>,\n",
       "            {'<unk>': 0,\n",
       "             '<pad>': 1,\n",
       "             ' ': 2,\n",
       "             'e': 3,\n",
       "             't': 4,\n",
       "             'i': 5,\n",
       "             'a': 6,\n",
       "             'o': 7,\n",
       "             'n': 8,\n",
       "             's': 9,\n",
       "             'r': 10,\n",
       "             'h': 11,\n",
       "             'l': 12,\n",
       "             'd': 13,\n",
       "             'c': 14,\n",
       "             'u': 15,\n",
       "             'f': 16,\n",
       "             'm': 17,\n",
       "             'p': 18,\n",
       "             'g': 19,\n",
       "             ',': 20,\n",
       "             'y': 21,\n",
       "             'w': 22,\n",
       "             'b': 23,\n",
       "             'v': 24,\n",
       "             '-': 25,\n",
       "             '.': 26,\n",
       "             '\"': 27,\n",
       "             'k': 28,\n",
       "             'x': 29,\n",
       "             ';': 30,\n",
       "             ':': 31,\n",
       "             'q': 32,\n",
       "             'j': 33,\n",
       "             '!': 34,\n",
       "             '?': 35,\n",
       "             '(': 36,\n",
       "             ')': 37,\n",
       "             \"'\": 38,\n",
       "             'z': 39,\n",
       "             '1': 40,\n",
       "             '2': 41,\n",
       "             '=': 42,\n",
       "             '_': 43,\n",
       "             '3': 44,\n",
       "             '[': 45,\n",
       "             ']': 46,\n",
       "             '4': 47,\n",
       "             '5': 48,\n",
       "             '6': 49,\n",
       "             '8': 50,\n",
       "             '7': 51,\n",
       "             '9': 52,\n",
       "             '0': 53,\n",
       "             'ä': 54,\n",
       "             'æ': 0,\n",
       "             'ë': 0,\n",
       "             'é': 0,\n",
       "             '<eos>': 0})"
      ]
     },
     "execution_count": 27,
     "metadata": {},
     "output_type": "execute_result"
    }
   ],
   "source": [
    "TEXT.vocab.stoi"
   ]
  },
  {
   "cell_type": "code",
   "execution_count": 28,
   "metadata": {},
   "outputs": [],
   "source": [
    "class CharSeqStatefulRnn(nn.Module):\n",
    "    def __init__(self, vocab_size, n_fac, bs):\n",
    "        self.vocab_size = vocab_size\n",
    "        super().__init__()\n",
    "        self.e = nn.Embedding(vocab_size, n_fac)\n",
    "        self.rnn = nn.RNN(n_fac, n_hidden)\n",
    "        self.l_out = nn.Linear(n_hidden, vocab_size)\n",
    "        self.init_hidden(bs)\n",
    "        \n",
    "    def forward(self, cs):\n",
    "        bs = cs[0].size(0)\n",
    "        \n",
    "        # Check for final batch (might not equal batch size)\n",
    "        if self.h.size(1) != bs:\n",
    "            self.init_hidden(bs)\n",
    "\n",
    "        outp, h = self.rnn(self.e(cs), self.h)\n",
    "        \n",
    "        # Get rid of history\n",
    "        self.h = repackage_var(h)\n",
    "        \n",
    "        # Have to use `.view` to make output rank 2 tensor which is what's required by loss func.\n",
    "        return F.log_softmax(self.l_out(outp), dim=-1).view(-1, self.vocab_size)\n",
    "    \n",
    "    def init_hidden(self, bs):\n",
    "        self.h = V(torch.zeros(1, bs, n_hidden))"
   ]
  },
  {
   "cell_type": "code",
   "execution_count": 29,
   "metadata": {},
   "outputs": [],
   "source": [
    "m = CharSeqStatefulRnn(md.nt, n_fac, 512)\n",
    "opt = optim.Adam(m.parameters(), 1e-3)"
   ]
  },
  {
   "cell_type": "markdown",
   "metadata": {},
   "source": [
    "* Output uses `.view` because loss function can't handle rank 3 tensors: has to be rank 2 (or rank 4).\n",
    "* `dim` arg is required in `log_softmax` for Pytorch >= 0.3."
   ]
  },
  {
   "cell_type": "code",
   "execution_count": 30,
   "metadata": {},
   "outputs": [
    {
     "data": {
      "application/vnd.jupyter.widget-view+json": {
       "model_id": "5de5e0a3c1114b45ae622387f3326315",
       "version_major": 2,
       "version_minor": 0
      },
      "text/plain": [
       "HBox(children=(IntProgress(value=0, description='Epoch', max=4), HTML(value='')))"
      ]
     },
     "metadata": {},
     "output_type": "display_data"
    },
    {
     "name": "stdout",
     "output_type": "stream",
     "text": [
      "epoch      trn_loss   val_loss                              \n",
      "    0      1.888207   1.841773  \n",
      "    1      1.700326   1.702858                              \n",
      "    2      1.626937   1.633559                              \n",
      "    3      1.570071   1.592698                              \n",
      "\n"
     ]
    },
    {
     "data": {
      "text/plain": [
       "[array([1.5927])]"
      ]
     },
     "execution_count": 30,
     "metadata": {},
     "output_type": "execute_result"
    }
   ],
   "source": [
    "fit(m, md, 4, opt, F.nll_loss)"
   ]
  },
  {
   "cell_type": "code",
   "execution_count": 31,
   "metadata": {},
   "outputs": [],
   "source": [
    "set_lrs(opt, 1e-4)"
   ]
  },
  {
   "cell_type": "code",
   "execution_count": 32,
   "metadata": {},
   "outputs": [
    {
     "data": {
      "application/vnd.jupyter.widget-view+json": {
       "model_id": "4d70c611921e4a0aaf9bf22b53eb0967",
       "version_major": 2,
       "version_minor": 0
      },
      "text/plain": [
       "HBox(children=(IntProgress(value=0, description='Epoch', max=4), HTML(value='')))"
      ]
     },
     "metadata": {},
     "output_type": "display_data"
    },
    {
     "name": "stdout",
     "output_type": "stream",
     "text": [
      "epoch      trn_loss   val_loss                              \n",
      "    0      1.491152   1.555128  \n",
      "    1      1.489325   1.548967                              \n",
      "    2      1.49295    1.544409                              \n",
      "    3      1.479563   1.54059                               \n",
      "\n"
     ]
    },
    {
     "data": {
      "text/plain": [
       "[array([1.54059])]"
      ]
     },
     "execution_count": 32,
     "metadata": {},
     "output_type": "execute_result"
    }
   ],
   "source": [
    "fit(m, md, 4, opt, F.nll_loss)"
   ]
  },
  {
   "cell_type": "markdown",
   "metadata": {},
   "source": [
    "### 00:42:49 - RNN unpacked"
   ]
  },
  {
   "cell_type": "code",
   "execution_count": 33,
   "metadata": {},
   "outputs": [],
   "source": [
    "# Roughly equivalent to what PyTorch is doing\n",
    "\n",
    "def RNNCell(input, hidden, w_ih, w_hh, b_ih, b_hh):\n",
    "    return F.tanh(F.linear(input, w_ih, b_ih) + F.linear(hidden, w_hh, b_hh))"
   ]
  },
  {
   "cell_type": "code",
   "execution_count": 34,
   "metadata": {},
   "outputs": [],
   "source": [
    "class CharSeqStatefulRnn2(nn.Module):\n",
    "    def __init__(self, vocab_size, n_fac, bs):\n",
    "        super().__init__()\n",
    "        self.vocab_size = vocab_size\n",
    "        self.e = nn.Embedding(vocab_size, n_fac)\n",
    "        self.rnn = nn.RNNCell(n_fac, n_hidden)\n",
    "        self.l_out = nn.Linear(n_hidden, vocab_size)\n",
    "        self.init_hidden(bs)\n",
    "        \n",
    "    def forward(self, cs):\n",
    "        bs = cs[0].size(0)\n",
    "        if self.h.size(1) != bs:\n",
    "            self.init_hidden(bs)\n",
    "            \n",
    "        o = self.h\n",
    "        \n",
    "        outp = []\n",
    "        for c in cs:\n",
    "            o = self.rnn(self.e(c), o)\n",
    "            outp.append(o)\n",
    "        outp = self.l_out(torch.stack(outp))\n",
    "        \n",
    "        self.h = repackage_var(o)\n",
    "        return F.log_softmax(outp, dim=-1).view(-1, self.vocab_size)\n",
    "    \n",
    "    def init_hidden(self, bs):\n",
    "        self.h = V(torch.zeros(1, bs, n_hidden))"
   ]
  },
  {
   "cell_type": "code",
   "execution_count": 35,
   "metadata": {},
   "outputs": [],
   "source": [
    "m = CharSeqStatefulRnn2(md.nt, n_fac, 512)\n",
    "opt = optim.Adam(m.parameters(), 1e-3)"
   ]
  },
  {
   "cell_type": "markdown",
   "metadata": {},
   "source": [
    "### 00:44:05 - Why use Tanh (audience question)\n",
    "\n",
    "* Shape is similar to sigmoid but goes between -1 and 1.\n",
    "* Force it into a range to help avoid a gradient explosion, which may happen with a `relu`.\n",
    "\n",
    "\n",
    "## 00:46:43 - GRUCell\n",
    "\n",
    "* `RNNCell` is not commonly used in practise - even with `tanh` activation function, it tends to have trouble with gradient explosion.\n",
    "* Instead: use `GRUCell`:"
   ]
  },
  {
   "cell_type": "markdown",
   "metadata": {},
   "source": [
    "<img src=\"http://www.wildml.com/wp-content/uploads/2015/10/Screen-Shot-2015-10-23-at-10.36.51-AM.png\" width=400px>\n",
    "\n",
    "GRU Gating. Chung, Junyoung, et al. “Empirical evaluation of gated recurrent neural networks on sequence modeling.” (2014)"
   ]
  },
  {
   "cell_type": "markdown",
   "metadata": {},
   "source": [
    "* Contains a neural net in a neural net that learns how much to remember of hidden state:\n",
    "  * If you see a full stop, throw away hidden state (for example).\n",
    "* `r` (reset gate):\n",
    "  * input normally gets multiplied by weight matrix to create new activations.\n",
    "  * With reset gate, input doesn't get added to previous activation directly.\n",
    "  * Previous activations are first multiplied by the reset gate (between 0 and 1) before being added to input + hidden concat.\n",
    "\n",
    "  * Equation for reset: $r_t = \\sigma(W_r\\dot[h_t-1,x_t])$\n",
    "  \n",
    "  * Equal to matrix product of a weight matrix and concat of hidden state and new input.\n",
    "  * Basically a one layer neural net / logistic regression model: can be thought of a neural network within a neural network.\n",
    "  \n",
    "* `z` (update gate)\n",
    "  * decides to what degree do you use your new hidden state vs leaving it how it was.\n",
    "  * In other words, how important is it to remember the current input?\n",
    "  * Equation for update: $z_t = \\sigma(W_z\\dot[h_t-1,x_t])$\n",
    "  \n",
    "* Final update equation is a linear interpolation using $z_t$:\n",
    "\n",
    "  $$\n",
    "  \\hat{h}_t = \\text{tanh}(W\\cdot[r_t * h_t - 1, x_t]) \\\\\n",
    "  h_t = (1 - z_t) * h_t - 1 + z_t * \\hat{h}_t\n",
    "  $$\n",
    "  \n",
    "* Definition from PyTorch source code:"
   ]
  },
  {
   "cell_type": "code",
   "execution_count": 36,
   "metadata": {},
   "outputs": [],
   "source": [
    "# Roughly equivalent to what PyTorch is doing\n",
    "\n",
    "def GRUCell(input, hidden, w_ih, w_hh, b_ih, b_hh):\n",
    "    gi = F.linear(input, w_ih, b_ih)\n",
    "    gh = F.linear(hidden, w_hh, b_hh)\n",
    "    i_r, i_i, i_n = gi.chunk(3, 1)\n",
    "    h_r, h_i, h_n = gh.chunk(3, 1)\n",
    "    \n",
    "    resetgate = F.sigmoid(i_r + h_r)\n",
    "    inputgate = F.sigmoid(i_i + h_i)\n",
    "    newgate = F.tanh(i_n + resetgate * h_n)\n",
    "    return newgate + inputgate * (hidden - newgate)"
   ]
  },
  {
   "cell_type": "markdown",
   "metadata": {},
   "source": [
    "### 00:52:36 - Replace RNNCell with GRUCell in char model"
   ]
  },
  {
   "cell_type": "code",
   "execution_count": 40,
   "metadata": {},
   "outputs": [],
   "source": [
    "class CharSeqStatefulGRU(nn.Module):\n",
    "    def __init__(self, vocab_size, n_fac, bs):\n",
    "        super().__init__()\n",
    "        self.vocab_size = vocab_size\n",
    "        self.e = nn.Embedding(vocab_size, n_fac)\n",
    "        self.rnn = nn.GRU(n_fac, n_hidden)\n",
    "        self.l_out = nn.Linear(n_hidden, vocab_size)\n",
    "        self.init_hidden(bs)\n",
    "        \n",
    "    def forward(self, cs):\n",
    "        bs = cs[0].size(0)\n",
    "        \n",
    "        if self.h.size(1) != bs:\n",
    "            self.init_hidden(bs)\n",
    "        \n",
    "        outp, h = self.rnn(self.e(cs), self.h)\n",
    "        self.h = repackage_var(h)\n",
    "        return F.log_softmax(self.l_out(outp), dim=-1).view(-1, self.vocab_size)\n",
    "        \n",
    "    def init_hidden(self, bs):\n",
    "        self.h = V(torch.zeros(1, bs, n_hidden))"
   ]
  },
  {
   "cell_type": "code",
   "execution_count": 41,
   "metadata": {},
   "outputs": [],
   "source": [
    "m = CharSeqStatefulGRU(md.nt, n_fac, 512)\n",
    "opt = optim.Adam(m.parameters(), 1e-3)"
   ]
  },
  {
   "cell_type": "code",
   "execution_count": 42,
   "metadata": {},
   "outputs": [
    {
     "data": {
      "application/vnd.jupyter.widget-view+json": {
       "model_id": "071fc54e72c34d10bd6c9215dbc2527d",
       "version_major": 2,
       "version_minor": 0
      },
      "text/plain": [
       "HBox(children=(IntProgress(value=0, description='Epoch', max=6), HTML(value='')))"
      ]
     },
     "metadata": {},
     "output_type": "display_data"
    },
    {
     "name": "stdout",
     "output_type": "stream",
     "text": [
      "epoch      trn_loss   val_loss                              \n",
      "    0      1.763317   1.73463   \n",
      "    1      1.584763   1.587772                              \n",
      "    2      1.507426   1.527286                              \n",
      "    3      1.44299    1.493351                              \n",
      "    4      1.411237   1.477861                              \n",
      "    5      1.377668   1.462053                              \n",
      "\n"
     ]
    },
    {
     "data": {
      "text/plain": [
       "[array([1.46205])]"
      ]
     },
     "execution_count": 42,
     "metadata": {},
     "output_type": "execute_result"
    }
   ],
   "source": [
    "fit(m, md, 6, opt, F.nll_loss)"
   ]
  },
  {
   "cell_type": "code",
   "execution_count": 43,
   "metadata": {},
   "outputs": [],
   "source": [
    "set_lrs(opt, 1e-4)"
   ]
  },
  {
   "cell_type": "code",
   "execution_count": 44,
   "metadata": {},
   "outputs": [
    {
     "data": {
      "application/vnd.jupyter.widget-view+json": {
       "model_id": "ab33bf8fe2ab4aefa51f40bd1e33624e",
       "version_major": 2,
       "version_minor": 0
      },
      "text/plain": [
       "HBox(children=(IntProgress(value=0, description='Epoch', max=3), HTML(value='')))"
      ]
     },
     "metadata": {},
     "output_type": "display_data"
    },
    {
     "name": "stdout",
     "output_type": "stream",
     "text": [
      "epoch      trn_loss   val_loss                              \n",
      "    0      1.293411   1.43032   \n",
      "    1      1.296709   1.425804                              \n",
      "    2      1.297761   1.42388                               \n",
      "\n"
     ]
    },
    {
     "data": {
      "text/plain": [
       "[array([1.42388])]"
      ]
     },
     "execution_count": 44,
     "metadata": {},
     "output_type": "execute_result"
    }
   ],
   "source": [
    "fit(m, md, 3, opt, F.nll_loss)"
   ]
  },
  {
   "cell_type": "markdown",
   "metadata": {},
   "source": [
    "* Slightly better results than the RNN.\n",
    "* GRU (or LSTM coming up sooner) most commonly used in NLP models."
   ]
  },
  {
   "cell_type": "markdown",
   "metadata": {},
   "source": [
    "### 00:53:15 - Audience questions\n",
    "\n",
    "* Q1: Are $r_t$ and $z_t$ scalars?\n",
    "* A1: Yes, but there is one per mini-batch."
   ]
  },
  {
   "cell_type": "markdown",
   "metadata": {},
   "source": [
    "## 00:54:20 - LSTM\n",
    "\n",
    "* LSTM has one more bit of state called the \"cell state\".\n",
    "  * Have to return a tuple of results in `init_hidden`."
   ]
  },
  {
   "cell_type": "code",
   "execution_count": 7,
   "metadata": {},
   "outputs": [],
   "source": [
    "from fastai.fastai import sgdr\n",
    "\n",
    "n_hidden = 512"
   ]
  },
  {
   "cell_type": "code",
   "execution_count": 8,
   "metadata": {},
   "outputs": [],
   "source": [
    "class CharSeqStatefulLSTM(nn.Module):\n",
    "    def __init__(self, vocab_size, n_fac, bs, nl):\n",
    "        super().__init__()\n",
    "        \n",
    "        self.vocab_size, self.nl = vocab_size, nl\n",
    "        self.e = nn.Embedding(vocab_size, n_fac)\n",
    "        self.rnn = nn.LSTM(n_fac, n_hidden, nl, dropout=0.5)\n",
    "        self.l_out = nn.Linear(n_hidden, vocab_size)\n",
    "        self.init_hidden(bs)\n",
    "        \n",
    "    def forward(self, cs):\n",
    "        bs = cs[0].size(0)\n",
    "        if self.h[0].size(1) != bs:\n",
    "            self.init_hidden(bs)\n",
    "        outp, h = self.rnn(self.e(cs), self.h)\n",
    "        self.h = repackage_var(h)\n",
    "        return F.log_softmax(self.l_out(outp), dim=-1).view(-1, self.vocab_size)\n",
    "    \n",
    "    def init_hidden(self, bs):\n",
    "        self.h = (\n",
    "            V(torch.zeros(self.nl, bs, n_hidden)),\n",
    "            V(torch.zeros(self.nl, bs, n_hidden)))"
   ]
  },
  {
   "cell_type": "markdown",
   "metadata": {},
   "source": [
    "* Dropout added to LSTM.\n",
    "* Doubled size of hidden layer (since we have added 0.5 dropout)."
   ]
  },
  {
   "cell_type": "markdown",
   "metadata": {},
   "source": [
    "### 00:55:22 - SGDR without layer class\n",
    "\n",
    "* Create model as usual:"
   ]
  },
  {
   "cell_type": "code",
   "execution_count": 9,
   "metadata": {},
   "outputs": [],
   "source": [
    "m = CharSeqStatefulLSTM(md.nt, n_fac, 512, 2)"
   ]
  },
  {
   "cell_type": "markdown",
   "metadata": {},
   "source": [
    "* Create a `LayerOptimizer` (from Fast.ai library), instead of straight up using optimiser:"
   ]
  },
  {
   "cell_type": "code",
   "execution_count": 10,
   "metadata": {},
   "outputs": [],
   "source": [
    "lo = LayerOptimizer(optim.Adam, m, 1e-2, 1e-5)"
   ]
  },
  {
   "cell_type": "markdown",
   "metadata": {},
   "source": [
    "* Can get optimizer as `opt` property:"
   ]
  },
  {
   "cell_type": "code",
   "execution_count": 61,
   "metadata": {},
   "outputs": [
    {
     "data": {
      "text/plain": [
       "<torch.optim.adam.Adam at 0x1280eb4a8>"
      ]
     },
     "execution_count": 61,
     "metadata": {},
     "output_type": "execute_result"
    }
   ],
   "source": [
    "lo.opt"
   ]
  },
  {
   "cell_type": "code",
   "execution_count": 62,
   "metadata": {},
   "outputs": [],
   "source": [
    "os.makedirs(f'{PATH}models', exist_ok=True)"
   ]
  },
  {
   "cell_type": "code",
   "execution_count": 63,
   "metadata": {},
   "outputs": [
    {
     "data": {
      "application/vnd.jupyter.widget-view+json": {
       "model_id": "28f4898e70134969aa4568e31e940f3e",
       "version_major": 2,
       "version_minor": 0
      },
      "text/plain": [
       "HBox(children=(IntProgress(value=0, description='Epoch', max=2), HTML(value='')))"
      ]
     },
     "metadata": {},
     "output_type": "display_data"
    },
    {
     "name": "stdout",
     "output_type": "stream",
     "text": [
      "epoch      trn_loss   val_loss                              \n",
      "    0      1.854885   1.764697  \n",
      "    1      1.732086   1.652179                              \n",
      "\n"
     ]
    },
    {
     "data": {
      "text/plain": [
       "[array([1.65218])]"
      ]
     },
     "execution_count": 63,
     "metadata": {},
     "output_type": "execute_result"
    }
   ],
   "source": [
    "fit(m, md, 2, lo.opt, F.nll_loss)"
   ]
  },
  {
   "cell_type": "markdown",
   "metadata": {},
   "source": [
    "* Can now pass in some callbacks to `fit`:"
   ]
  },
  {
   "cell_type": "code",
   "execution_count": 64,
   "metadata": {},
   "outputs": [
    {
     "data": {
      "application/vnd.jupyter.widget-view+json": {
       "model_id": "77d269d95ad14be7ad12cb30e89f8b71",
       "version_major": 2,
       "version_minor": 0
      },
      "text/plain": [
       "HBox(children=(IntProgress(value=0, description='Epoch', max=15), HTML(value='')))"
      ]
     },
     "metadata": {},
     "output_type": "display_data"
    },
    {
     "name": "stdout",
     "output_type": "stream",
     "text": [
      "epoch      trn_loss   val_loss                              \n",
      "    0      1.565338   1.51022   \n",
      "    1      1.61342    1.538189                              \n",
      "    2      1.490595   1.451748                              \n",
      "    3      1.623194   1.54809                               \n",
      "    4      1.554314   1.495793                              \n",
      "    5      1.477065   1.43544                               \n",
      "    6      1.416116   1.400936                              \n",
      "    7      1.612903   1.549347                              \n",
      "    8      1.566523   1.513589                              \n",
      "    9      1.542427   1.489778                              \n",
      "    10     1.507537   1.460011                              \n",
      "    11     1.45998    1.431109                              \n",
      "    12     1.410097   1.394869                              \n",
      "    13     1.374622   1.373576                              \n",
      "    14     1.345632   1.360652                              \n",
      "\n"
     ]
    },
    {
     "data": {
      "text/plain": [
       "[array([1.36065])]"
      ]
     },
     "execution_count": 64,
     "metadata": {},
     "output_type": "execute_result"
    }
   ],
   "source": [
    "on_end = lambda sched, cycle: save_model(m, f'{PATH}models/cyc_{cycle}')\n",
    "cb = [CosAnneal(lo, len(md.trn_dl), cycle_mult=2, on_cycle_end=on_end)]\n",
    "fit(m, md, 2**4-1, lo.opt, F.nll_loss, callbacks=cb)"
   ]
  },
  {
   "cell_type": "markdown",
   "metadata": {},
   "source": [
    "* Arguments as follows:\n",
    "  * `lo` - update learning rate in layer optimizer.\n",
    "  * `len(md.trn_dl)` - length of epoch (whatever rate of dataloader is).\n",
    "  * `cycle_mult=2` - standard cycle mult.\n",
    "  * `on_cycle_end=on_end` - save weights when cycle ends."
   ]
  },
  {
   "cell_type": "code",
   "execution_count": null,
   "metadata": {},
   "outputs": [
    {
     "data": {
      "application/vnd.jupyter.widget-view+json": {
       "model_id": "5f6b6488c8e04cc09403dfad0e87b0bb",
       "version_major": 2,
       "version_minor": 0
      },
      "text/plain": [
       "HBox(children=(IntProgress(value=0, description='Epoch', max=63), HTML(value='')))"
      ]
     },
     "metadata": {},
     "output_type": "display_data"
    },
    {
     "name": "stdout",
     "output_type": "stream",
     "text": [
      "epoch      trn_loss   val_loss                              \n",
      "    0      1.57463    1.533422  \n",
      "    1      1.535375   1.478451                              \n",
      "    2      1.495207   1.448808                              \n",
      "    3      1.464812   1.432218                              \n",
      "    4      1.425538   1.403789                              \n",
      "    5      1.386791   1.377412                              \n",
      "    6      1.346996   1.359503                              \n",
      "    7      1.32857    1.34903                               \n",
      "    8      1.552141   1.498031                              \n",
      "    9      1.526762   1.482692                              \n",
      "    10     1.525706   1.471479                              \n",
      "    11     1.509032   1.461257                              \n",
      "    12     1.502557   1.453063                              \n",
      "    13     1.483918   1.443074                              \n",
      "    14     1.467885   1.430042                              \n",
      "    15     1.445563   1.413022                              \n",
      "    16     1.419337   1.402428                              \n",
      "    17     1.40149    1.386911                              \n",
      "    18     1.376409   1.372953                              \n",
      "    19     1.354392   1.359293                              \n",
      "    20     1.32747    1.346968                              \n",
      "    21     1.305442   1.338304                              \n",
      "    22     1.283839   1.329015                              \n",
      "    23     1.276729   1.325489                              \n",
      "    24     1.266738   1.324501                              \n",
      "    25     1.528302   1.47201                               \n",
      "    26     1.50884    1.475318                              \n",
      "    27     1.50238    1.462258                              \n",
      "    28     1.49306    1.465251                              \n",
      "    29     1.507163   1.446598                              \n",
      "    30     1.4992     1.45503                               \n",
      "    31     1.495542   1.453896                              \n",
      "    32     1.480358   1.44494                               \n",
      "    33     1.470415   1.437302                              \n",
      "    34     1.480966   1.436689                              \n",
      "    35     1.464899   1.432348                              \n",
      "    36     1.451919   1.417774                              \n",
      "    37     1.448809   1.40755                               \n",
      "    38     1.433666   1.410944                              \n",
      "    39     1.423299   1.401437                              \n",
      "    40     1.41187    1.395385                              \n",
      "    41     1.39917    1.38752                               \n",
      "    42     1.379507   1.37581                               \n",
      "    43     1.371394   1.374723                              \n",
      " 35%|███▌      | 333/942 [01:09<02:07,  4.78it/s, loss=1.35]"
     ]
    }
   ],
   "source": [
    "fit(m, md, 2**6-1, lo.opt, F.nll_loss, callbacks=cb)"
   ]
  },
  {
   "cell_type": "markdown",
   "metadata": {},
   "source": [
    "### 00:59:55 - Testing LSTM"
   ]
  },
  {
   "cell_type": "code",
   "execution_count": 15,
   "metadata": {},
   "outputs": [],
   "source": [
    "load_model(m, f'{PATH}models/cyc_2')"
   ]
  },
  {
   "cell_type": "code",
   "execution_count": 20,
   "metadata": {},
   "outputs": [],
   "source": [
    "def get_next(inp):\n",
    "    idxs = TEXT.numericalize(inp, device=-1)\n",
    "    p = m(VV(idxs.transpose(0, 1)))\n",
    "    r = torch.multinomial(p[-1].exp(), 1)\n",
    "    return TEXT.vocab.itos[to_np(r)[0]]"
   ]
  },
  {
   "cell_type": "code",
   "execution_count": 21,
   "metadata": {},
   "outputs": [
    {
     "data": {
      "text/plain": [
       "'e'"
      ]
     },
     "execution_count": 21,
     "metadata": {},
     "output_type": "execute_result"
    }
   ],
   "source": [
    "get_next('for thos')"
   ]
  },
  {
   "cell_type": "code",
   "execution_count": 22,
   "metadata": {},
   "outputs": [],
   "source": [
    "def get_next_n(inp, n):\n",
    "    res = inp\n",
    "    for i in range(n):\n",
    "        c = get_next(inp)\n",
    "        res += c\n",
    "        inp = inp[1:] + c\n",
    "    return res"
   ]
  },
  {
   "cell_type": "code",
   "execution_count": 23,
   "metadata": {},
   "outputs": [
    {
     "name": "stdout",
     "output_type": "stream",
     "text": [
      "for those mean in his fear mankind,  and againclusion. from the sciences the orgens of prejudice itself art is, as maxter in men of the valuation of refared moralitation\",--the capacticalistical: p'oce and disfreddescy at only feeling.--whohaxexcite just!210. of libehatisome, andlong at does a similar actually so, sirchs of his manavopus whatohe gret uprestates gloom, seriouspoching and thought writtole a\n"
     ]
    }
   ],
   "source": [
    "print(get_next_n('for thos', 400))"
   ]
  },
  {
   "cell_type": "markdown",
   "metadata": {},
   "source": [
    "* if results are \"okay\" but not great, probably means you are nearly there :)"
   ]
  },
  {
   "cell_type": "markdown",
   "metadata": {},
   "source": [
    "## 01:01:58  - Computer Vision (again)"
   ]
  },
  {
   "cell_type": "markdown",
   "metadata": {},
   "source": [
    "* CIFAR10: well known set in academica.\n",
    "  * Been around before ImageNet was around."
   ]
  },
  {
   "cell_type": "code",
   "execution_count": null,
   "metadata": {},
   "outputs": [],
   "source": [
    "PATH = 'data/cifar10'\n",
    "os.makedirs(PATH, exist_ok=True)"
   ]
  },
  {
   "cell_type": "code",
   "execution_count": null,
   "metadata": {},
   "outputs": [],
   "source": [
    "classes = ('plane', 'car', 'bird', 'cat', 'deer', 'dog', 'frog', 'horse', 'ship', 'truck')"
   ]
  },
  {
   "cell_type": "code",
   "execution_count": null,
   "metadata": {},
   "outputs": [],
   "source": [
    "stats = (\n",
    "    np.array([0.4914, 0.48216, 0.44653]),\n",
    "    np.array([0.24703, 0.24349, 0.26159]))"
   ]
  }
 ],
 "metadata": {
  "kernelspec": {
   "display_name": "Python 3",
   "language": "python",
   "name": "python3"
  },
  "language_info": {
   "codemirror_mode": {
    "name": "ipython",
    "version": 3
   },
   "file_extension": ".py",
   "mimetype": "text/x-python",
   "name": "python",
   "nbconvert_exporter": "python",
   "pygments_lexer": "ipython3",
   "version": "3.6.5"
  }
 },
 "nbformat": 4,
 "nbformat_minor": 2
}

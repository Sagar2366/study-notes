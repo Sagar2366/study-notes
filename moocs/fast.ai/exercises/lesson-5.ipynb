{
 "cells": [
  {
   "cell_type": "code",
   "execution_count": 1,
   "metadata": {
    "collapsed": false
   },
   "outputs": [
    {
     "name": "stderr",
     "output_type": "stream",
     "text": [
      "Using gpu device 0: Tesla K80 (CNMeM is disabled, cuDNN 5103)\n",
      "/home/ubuntu/anaconda2/lib/python2.7/site-packages/theano/sandbox/cuda/__init__.py:600: UserWarning: Your cuDNN version is more recent than the one Theano officially supports. If you see any problems, try updating Theano or downgrading cuDNN to version 5.\n",
      "  warnings.warn(warn)\n",
      "WARNING (theano.sandbox.cuda): Ignoring call to use(3), GPU number 0 is already in use.\n"
     ]
    }
   ],
   "source": [
    "from theano.sandbox import cuda\n",
    "cuda.use('gpu3')"
   ]
  },
  {
   "cell_type": "code",
   "execution_count": 2,
   "metadata": {
    "collapsed": false
   },
   "outputs": [
    {
     "name": "stderr",
     "output_type": "stream",
     "text": [
      "Using Theano backend.\n"
     ]
    }
   ],
   "source": [
    "%matplotlib inline\n",
    "\n",
    "import utils; reload(utils)\n",
    "from utils import *\n",
    "from __future__ import division, print_function"
   ]
  },
  {
   "cell_type": "code",
   "execution_count": 3,
   "metadata": {
    "collapsed": true
   },
   "outputs": [],
   "source": [
    "model_path = './models/'\n",
    "%mkdir -p $model_path"
   ]
  },
  {
   "cell_type": "markdown",
   "metadata": {},
   "source": [
    "## Setup data"
   ]
  },
  {
   "cell_type": "code",
   "execution_count": 5,
   "metadata": {
    "collapsed": false
   },
   "outputs": [],
   "source": [
    "from keras.datasets import imdb\n",
    "word_index = imdb.get_word_index()"
   ]
  },
  {
   "cell_type": "code",
   "execution_count": 6,
   "metadata": {
    "collapsed": false
   },
   "outputs": [],
   "source": [
    "idx_arr = sorted(word_index, key=word_index.get)"
   ]
  },
  {
   "cell_type": "code",
   "execution_count": 8,
   "metadata": {
    "collapsed": false
   },
   "outputs": [],
   "source": [
    "idx2word = {v: k for k, v in word_index.iteritems()}"
   ]
  },
  {
   "cell_type": "code",
   "execution_count": 9,
   "metadata": {
    "collapsed": false
   },
   "outputs": [
    {
     "name": "stdout",
     "output_type": "stream",
     "text": [
      "A local file was found, but it seems to be incomplete or outdated.\n",
      "Downloading data from https://s3.amazonaws.com/text-datasets/imdb_full.pkl\n",
      "65159168/65552540 [============================>.] - ETA: 0s"
     ]
    }
   ],
   "source": [
    "path = get_file(\n",
    "    'imdb_fill.pkl',\n",
    "    origin='https://s3.amazonaws.com/text-datasets/imdb_full.pkl',\n",
    "    md5_hash='d091312047c43cf9e4e39fef92437263')"
   ]
  },
  {
   "cell_type": "code",
   "execution_count": 10,
   "metadata": {
    "collapsed": true
   },
   "outputs": [],
   "source": [
    "f = open(path, 'rb')\n",
    "(x_train, labels_train), (x_test, labels_test) = pickle.load(f)"
   ]
  },
  {
   "cell_type": "code",
   "execution_count": 11,
   "metadata": {
    "collapsed": false
   },
   "outputs": [
    {
     "data": {
      "text/plain": [
       "['the', 'and', 'a', 'of', 'to', 'is', 'br', 'in', 'it', 'i']"
      ]
     },
     "execution_count": 11,
     "metadata": {},
     "output_type": "execute_result"
    }
   ],
   "source": [
    "idx_arr[:10]"
   ]
  },
  {
   "cell_type": "code",
   "execution_count": 12,
   "metadata": {
    "collapsed": false
   },
   "outputs": [
    {
     "data": {
      "text/plain": [
       "'breadth'"
      ]
     },
     "execution_count": 12,
     "metadata": {},
     "output_type": "execute_result"
    }
   ],
   "source": [
    "idx2word[23002]"
   ]
  },
  {
   "cell_type": "code",
   "execution_count": 13,
   "metadata": {
    "collapsed": false
   },
   "outputs": [
    {
     "data": {
      "text/plain": [
       "\"bromwell high is a cartoon comedy it ran at the same time as some other programs about school life such as teachers my 35 years in the teaching profession lead me to believe that bromwell high's satire is much closer to reality than is teachers the scramble to survive financially the insightful students who can see right through their pathetic teachers' pomp the pettiness of the whole situation all remind me of the schools i knew and their students when i saw the episode in which a student repeatedly tried to burn down the school i immediately recalled at high a classic line inspector i'm here to sack one of your teachers student welcome to bromwell high i expect that many adults of my age think that bromwell high is far fetched what a pity that it isn't\""
      ]
     },
     "execution_count": 13,
     "metadata": {},
     "output_type": "execute_result"
    }
   ],
   "source": [
    "' '.join(idx2word[o] for o in x_train[0])"
   ]
  },
  {
   "cell_type": "code",
   "execution_count": 14,
   "metadata": {
    "collapsed": false
   },
   "outputs": [
    {
     "data": {
      "text/plain": [
       "[1, 1, 1, 1, 1, 1, 1, 1, 1, 1]"
      ]
     },
     "execution_count": 14,
     "metadata": {},
     "output_type": "execute_result"
    }
   ],
   "source": [
    "labels_train[:10]"
   ]
  },
  {
   "cell_type": "code",
   "execution_count": 15,
   "metadata": {
    "collapsed": true
   },
   "outputs": [],
   "source": [
    "# Truncate the vocab down to 5000\n",
    "vocab_size = 5000"
   ]
  },
  {
   "cell_type": "code",
   "execution_count": 16,
   "metadata": {
    "collapsed": true
   },
   "outputs": [],
   "source": [
    "trn = [np.array([i if i < vocab_size - 1 else vocab_size - 1 for i in s]) for s in x_train]\n",
    "test = [np.array([i if i < vocab_size - 1 else vocab_size - 1 for i in s]) for s in x_test]"
   ]
  },
  {
   "cell_type": "markdown",
   "metadata": {},
   "source": [
    "Look at the distribution of lengths of sequences."
   ]
  },
  {
   "cell_type": "code",
   "execution_count": 17,
   "metadata": {
    "collapsed": false
   },
   "outputs": [
    {
     "data": {
      "text/plain": [
       "(2493, 10, 237.71364)"
      ]
     },
     "execution_count": 17,
     "metadata": {},
     "output_type": "execute_result"
    }
   ],
   "source": [
    "lens = np.array(map(len, trn))\n",
    "(lens.max(), lens.min(), lens.mean())"
   ]
  },
  {
   "cell_type": "markdown",
   "metadata": {},
   "source": [
    "Truncate posts. Setting the truncation length to twice the mean."
   ]
  },
  {
   "cell_type": "code",
   "execution_count": 18,
   "metadata": {
    "collapsed": true
   },
   "outputs": [],
   "source": [
    "seq_len = 500\n",
    "\n",
    "trn = sequence.pad_sequences(trn,  maxlen=seq_len, value=0)\n",
    "test = sequence.pad_sequences(test, maxlen=seq_len, value=0)"
   ]
  },
  {
   "cell_type": "code",
   "execution_count": 19,
   "metadata": {
    "collapsed": false
   },
   "outputs": [
    {
     "data": {
      "text/plain": [
       "(25000, 500)"
      ]
     },
     "execution_count": 19,
     "metadata": {},
     "output_type": "execute_result"
    }
   ],
   "source": [
    "trn.shape"
   ]
  },
  {
   "cell_type": "markdown",
   "metadata": {},
   "source": [
    "## Create simple models\n",
    "\n",
    "### Single hidden layer NN"
   ]
  },
  {
   "cell_type": "code",
   "execution_count": 20,
   "metadata": {
    "collapsed": false
   },
   "outputs": [],
   "source": [
    "model = Sequential([\n",
    "    Embedding(vocab_size, 32, input_length=seq_len),\n",
    "    Flatten(),\n",
    "    Dense(100, activation='relu'),\n",
    "    Dropout(0.7),\n",
    "    Dense(1, activation='sigmoid')])"
   ]
  },
  {
   "cell_type": "code",
   "execution_count": 21,
   "metadata": {
    "collapsed": false
   },
   "outputs": [],
   "source": [
    "model.compile(loss='binary_crossentropy', optimizer=Adam(), metrics=['accuracy'])"
   ]
  },
  {
   "cell_type": "code",
   "execution_count": 22,
   "metadata": {
    "collapsed": false
   },
   "outputs": [
    {
     "name": "stdout",
     "output_type": "stream",
     "text": [
      "____________________________________________________________________________________________________\n",
      "Layer (type)                     Output Shape          Param #     Connected to                     \n",
      "====================================================================================================\n",
      "embedding_1 (Embedding)          (None, 500, 32)       160000      embedding_input_1[0][0]          \n",
      "____________________________________________________________________________________________________\n",
      "flatten_1 (Flatten)              (None, 16000)         0           embedding_1[0][0]                \n",
      "____________________________________________________________________________________________________\n",
      "dense_1 (Dense)                  (None, 100)           1600100     flatten_1[0][0]                  \n",
      "____________________________________________________________________________________________________\n",
      "dropout_1 (Dropout)              (None, 100)           0           dense_1[0][0]                    \n",
      "____________________________________________________________________________________________________\n",
      "dense_2 (Dense)                  (None, 1)             101         dropout_1[0][0]                  \n",
      "====================================================================================================\n",
      "Total params: 1760201\n",
      "____________________________________________________________________________________________________\n"
     ]
    }
   ],
   "source": [
    "model.summary()"
   ]
  },
  {
   "cell_type": "code",
   "execution_count": 23,
   "metadata": {
    "collapsed": false
   },
   "outputs": [
    {
     "name": "stdout",
     "output_type": "stream",
     "text": [
      "Train on 25000 samples, validate on 25000 samples\n",
      "Epoch 1/2\n",
      "25000/25000 [==============================] - 4s - loss: 0.4698 - acc: 0.7430 - val_loss: 0.2975 - val_acc: 0.8744\n",
      "Epoch 2/2\n",
      "25000/25000 [==============================] - 3s - loss: 0.1993 - acc: 0.9249 - val_loss: 0.2975 - val_acc: 0.8764\n"
     ]
    },
    {
     "data": {
      "text/plain": [
       "<keras.callbacks.History at 0x7fb6a4567b90>"
      ]
     },
     "execution_count": 23,
     "metadata": {},
     "output_type": "execute_result"
    }
   ],
   "source": [
    "model.fit(trn, labels_train, validation_data=(test, labels_test), nb_epoch=2, batch_size=64)"
   ]
  },
  {
   "cell_type": "markdown",
   "metadata": {},
   "source": [
    "## Single conv layer with max pooling"
   ]
  },
  {
   "cell_type": "code",
   "execution_count": 24,
   "metadata": {
    "collapsed": false
   },
   "outputs": [],
   "source": [
    "conv1 = Sequential([\n",
    "    Embedding(vocab_size, 32, input_length=seq_len, dropout=0.2),\n",
    "    Dropout(0.2),\n",
    "    # Sentence is in 1D\n",
    "    # 64 filters, 5 words at a time\n",
    "    Convolution1D(64, 5, border_mode='same', activation='relu'),\n",
    "    Dropout(0.2),\n",
    "    MaxPooling1D(),\n",
    "    Flatten(),\n",
    "    Dense(100, activation='relu'),\n",
    "    Dropout(0.7),\n",
    "    Dense(1, activation='sigmoid')])"
   ]
  },
  {
   "cell_type": "code",
   "execution_count": 25,
   "metadata": {
    "collapsed": false
   },
   "outputs": [
    {
     "name": "stdout",
     "output_type": "stream",
     "text": [
      "____________________________________________________________________________________________________\n",
      "Layer (type)                     Output Shape          Param #     Connected to                     \n",
      "====================================================================================================\n",
      "embedding_2 (Embedding)          (None, 500, 32)       160000      embedding_input_2[0][0]          \n",
      "____________________________________________________________________________________________________\n",
      "dropout_2 (Dropout)              (None, 500, 32)       0           embedding_2[0][0]                \n",
      "____________________________________________________________________________________________________\n",
      "convolution1d_1 (Convolution1D)  (None, 500, 64)       10304       dropout_2[0][0]                  \n",
      "____________________________________________________________________________________________________\n",
      "dropout_3 (Dropout)              (None, 500, 64)       0           convolution1d_1[0][0]            \n",
      "____________________________________________________________________________________________________\n",
      "maxpooling1d_1 (MaxPooling1D)    (None, 250, 64)       0           dropout_3[0][0]                  \n",
      "____________________________________________________________________________________________________\n",
      "flatten_2 (Flatten)              (None, 16000)         0           maxpooling1d_1[0][0]             \n",
      "____________________________________________________________________________________________________\n",
      "dense_3 (Dense)                  (None, 100)           1600100     flatten_2[0][0]                  \n",
      "____________________________________________________________________________________________________\n",
      "dropout_4 (Dropout)              (None, 100)           0           dense_3[0][0]                    \n",
      "____________________________________________________________________________________________________\n",
      "dense_4 (Dense)                  (None, 1)             101         dropout_4[0][0]                  \n",
      "====================================================================================================\n",
      "Total params: 1770505\n",
      "____________________________________________________________________________________________________\n"
     ]
    }
   ],
   "source": [
    "conv1.summary()"
   ]
  },
  {
   "cell_type": "code",
   "execution_count": 26,
   "metadata": {
    "collapsed": true
   },
   "outputs": [],
   "source": [
    "conv1.compile(loss='binary_crossentropy', optimizer=Adam(), metrics=['accuracy'])"
   ]
  },
  {
   "cell_type": "code",
   "execution_count": 27,
   "metadata": {
    "collapsed": false
   },
   "outputs": [
    {
     "name": "stdout",
     "output_type": "stream",
     "text": [
      "Train on 25000 samples, validate on 25000 samples\n",
      "Epoch 1/2\n",
      "25000/25000 [==============================] - 12s - loss: 0.5282 - acc: 0.7065 - val_loss: 0.2936 - val_acc: 0.8819\n",
      "Epoch 2/2\n",
      "25000/25000 [==============================] - 11s - loss: 0.3011 - acc: 0.8783 - val_loss: 0.2665 - val_acc: 0.8940\n"
     ]
    },
    {
     "data": {
      "text/plain": [
       "<keras.callbacks.History at 0x7fb69e74b250>"
      ]
     },
     "execution_count": 27,
     "metadata": {},
     "output_type": "execute_result"
    }
   ],
   "source": [
    "conv1.fit(trn, labels_train, validation_data=(test, labels_test), nb_epoch=2, batch_size=64)"
   ]
  },
  {
   "cell_type": "code",
   "execution_count": 28,
   "metadata": {
    "collapsed": true
   },
   "outputs": [],
   "source": [
    "conv1.save_weights(model_path + 'conv1.h5')"
   ]
  },
  {
   "cell_type": "code",
   "execution_count": 29,
   "metadata": {
    "collapsed": true
   },
   "outputs": [],
   "source": [
    "conv1.load_weights(model_path + 'conv1.h5')"
   ]
  },
  {
   "cell_type": "markdown",
   "metadata": {},
   "source": [
    "## Pretrained vectors\n",
    "\n",
    "Below we replicate the previous CNN, using pre-trained embeddings."
   ]
  },
  {
   "cell_type": "code",
   "execution_count": 30,
   "metadata": {
    "collapsed": true
   },
   "outputs": [],
   "source": [
    "def get_glove_dataset(dataset):\n",
    "    \"\"\"\n",
    "    Download the requested glove dataset from files.fast.ai\n",
    "    and return a location that can be passed to load_vectors.\n",
    "    \"\"\"\n",
    "    # see wordvectors.ipynb for info on how these files were\n",
    "    # generated from the original glove data.\n",
    "    md5sums = {'6B.50d': '8e1557d1228decbda7db6dfd81cd9909',\n",
    "               '6B.100d': 'c92dbbeacde2b0384a43014885a60b2c',\n",
    "               '6B.200d': 'af271b46c04b0b2e41a84d8cd806178d',\n",
    "               '6B.300d': '30290210376887dcc6d0a5a6374d8255'}\n",
    "    glove_path = os.path.abspath('data/glove/results')\n",
    "    %mkdir -p $glove_path\n",
    "    return get_file(dataset,\n",
    "                    'http://files.fast.ai/models/glove/' + dataset + '.tgz',\n",
    "                    cache_subdir=glove_path,\n",
    "                    md5_hash=md5sums.get(dataset, None),\n",
    "                    untar=True)"
   ]
  },
  {
   "cell_type": "code",
   "execution_count": 31,
   "metadata": {
    "collapsed": true
   },
   "outputs": [],
   "source": [
    "def load_vectors(loc):\n",
    "    return (\n",
    "        load_array(loc+'.dat'),\n",
    "        pickle.load(open(loc+'_words.pkl','rb')),\n",
    "        pickle.load(open(loc+'_idx.pkl','rb')))"
   ]
  },
  {
   "cell_type": "code",
   "execution_count": 39,
   "metadata": {
    "collapsed": false
   },
   "outputs": [
    {
     "name": "stdout",
     "output_type": "stream",
     "text": [
      "Untaring file...\n"
     ]
    }
   ],
   "source": [
    "vecs, words, wordidx = load_vectors(get_glove_dataset('6B.50d'))"
   ]
  },
  {
   "cell_type": "markdown",
   "metadata": {},
   "source": [
    "Since the glove and Imdb word ids have different indexes, we create a function that creates an embedding matrix using the indexes from Imdb and embedding from Glove (if they exist)."
   ]
  },
  {
   "cell_type": "code",
   "execution_count": 40,
   "metadata": {
    "collapsed": true
   },
   "outputs": [],
   "source": [
    "def create_emb():\n",
    "    n_fact = vecs.shape[1]\n",
    "    emb = np.zeros((vocab_size, n_fact))\n",
    "\n",
    "    for i in range(1,len(emb)):\n",
    "        word = idx2word[i]\n",
    "        if word and re.match(r\"^[a-zA-Z0-9\\-]*$\", word):\n",
    "            src_idx = wordidx[word]\n",
    "            emb[i] = vecs[src_idx]\n",
    "        else:\n",
    "            # If we can't find the word in glove, randomly initialize\n",
    "            emb[i] = normal(scale=0.6, size=(n_fact,))\n",
    "\n",
    "    # This is our \"rare word\" id - we want to randomly initialize\n",
    "    emb[-1] = normal(scale=0.6, size=(n_fact,))\n",
    "    emb/=3\n",
    "    return emb"
   ]
  },
  {
   "cell_type": "code",
   "execution_count": 41,
   "metadata": {
    "collapsed": true
   },
   "outputs": [],
   "source": [
    "emb = create_emb()"
   ]
  },
  {
   "cell_type": "markdown",
   "metadata": {},
   "source": [
    "Pass the embedding matrix to Embedding constructor and set to non-trainable."
   ]
  },
  {
   "cell_type": "code",
   "execution_count": 42,
   "metadata": {
    "collapsed": true
   },
   "outputs": [],
   "source": [
    "model = Sequential([\n",
    "    Embedding(vocab_size, 50, input_length=seq_len, dropout=0.2, \n",
    "              weights=[emb], trainable=False),\n",
    "    Dropout(0.25),\n",
    "    Convolution1D(64, 5, border_mode='same', activation='relu'),\n",
    "    Dropout(0.25),\n",
    "    MaxPooling1D(),\n",
    "    Flatten(),\n",
    "    Dense(100, activation='relu'),\n",
    "    Dropout(0.7),\n",
    "    Dense(1, activation='sigmoid')])"
   ]
  },
  {
   "cell_type": "code",
   "execution_count": 43,
   "metadata": {
    "collapsed": false
   },
   "outputs": [],
   "source": [
    "model.compile(loss='binary_crossentropy', optimizer=Adam(), metrics=['accuracy'])"
   ]
  },
  {
   "cell_type": "code",
   "execution_count": 44,
   "metadata": {
    "collapsed": false
   },
   "outputs": [
    {
     "name": "stdout",
     "output_type": "stream",
     "text": [
      "Train on 25000 samples, validate on 25000 samples\n",
      "Epoch 1/2\n",
      "25000/25000 [==============================] - 12s - loss: 0.6096 - acc: 0.6546 - val_loss: 0.5088 - val_acc: 0.7715\n",
      "Epoch 2/2\n",
      "25000/25000 [==============================] - 12s - loss: 0.5080 - acc: 0.7585 - val_loss: 0.4643 - val_acc: 0.7997\n"
     ]
    },
    {
     "data": {
      "text/plain": [
       "<keras.callbacks.History at 0x7fb6936bad50>"
      ]
     },
     "execution_count": 44,
     "metadata": {},
     "output_type": "execute_result"
    }
   ],
   "source": [
    "model.fit(trn, labels_train, validation_data=(test, labels_test), nb_epoch=2, batch_size=64)"
   ]
  },
  {
   "cell_type": "markdown",
   "metadata": {},
   "source": [
    "Class claims to beat the previous model, but I'm not seeing that. See how fine tuning the embedding goes."
   ]
  },
  {
   "cell_type": "code",
   "execution_count": 45,
   "metadata": {
    "collapsed": true
   },
   "outputs": [],
   "source": [
    "model.layers[0].trainable=True"
   ]
  },
  {
   "cell_type": "code",
   "execution_count": 46,
   "metadata": {
    "collapsed": true
   },
   "outputs": [],
   "source": [
    "model.optimizer.lr=1e-4"
   ]
  },
  {
   "cell_type": "code",
   "execution_count": 47,
   "metadata": {
    "collapsed": false
   },
   "outputs": [
    {
     "name": "stdout",
     "output_type": "stream",
     "text": [
      "Train on 25000 samples, validate on 25000 samples\n",
      "Epoch 1/1\n",
      "25000/25000 [==============================] - 12s - loss: 0.4825 - acc: 0.7748 - val_loss: 0.4500 - val_acc: 0.8156\n"
     ]
    },
    {
     "data": {
      "text/plain": [
       "<keras.callbacks.History at 0x7fb68bfb85d0>"
      ]
     },
     "execution_count": 47,
     "metadata": {},
     "output_type": "execute_result"
    }
   ],
   "source": [
    "model.fit(trn, labels_train, validation_data=(test, labels_test), nb_epoch=1, batch_size=64)"
   ]
  },
  {
   "cell_type": "code",
   "execution_count": 48,
   "metadata": {
    "collapsed": true
   },
   "outputs": [],
   "source": [
    "model.save_weights(model_path + 'glove50.h5')"
   ]
  },
  {
   "cell_type": "markdown",
   "metadata": {},
   "source": [
    "## Multi-size CNN\n",
    "\n",
    "An implementation of a \"multi-size\" CNN."
   ]
  },
  {
   "cell_type": "code",
   "execution_count": 49,
   "metadata": {
    "collapsed": true
   },
   "outputs": [],
   "source": [
    "from keras.layers import Merge"
   ]
  },
  {
   "cell_type": "markdown",
   "metadata": {},
   "source": [
    "Use the functional API to create multiple conv layers of different sizes, and then concatenate them."
   ]
  },
  {
   "cell_type": "code",
   "execution_count": 50,
   "metadata": {
    "collapsed": true
   },
   "outputs": [],
   "source": [
    "graph_in = Input ((vocab_size, 50))\n",
    "convs = [] \n",
    "for fsz in range (3, 6): \n",
    "    x = Convolution1D(64, fsz, border_mode='same', activation=\"relu\")(graph_in)\n",
    "    x = MaxPooling1D()(x) \n",
    "    x = Flatten()(x) \n",
    "    convs.append(x)\n",
    "out = Merge(mode=\"concat\")(convs) \n",
    "graph = Model(graph_in, out)"
   ]
  },
  {
   "cell_type": "code",
   "execution_count": 51,
   "metadata": {
    "collapsed": true
   },
   "outputs": [],
   "source": [
    "emb = create_emb()"
   ]
  },
  {
   "cell_type": "markdown",
   "metadata": {},
   "source": [
    "Replace the conv/max-pool layer in our original CNN with the concatenated conv layers."
   ]
  },
  {
   "cell_type": "code",
   "execution_count": 52,
   "metadata": {
    "collapsed": true
   },
   "outputs": [],
   "source": [
    "model = Sequential ([\n",
    "    Embedding(vocab_size, 50, input_length=seq_len, dropout=0.2, weights=[emb]),\n",
    "    Dropout (0.2),\n",
    "    graph,\n",
    "    Dropout (0.5),\n",
    "    Dense (100, activation=\"relu\"),\n",
    "    Dropout (0.7),\n",
    "    Dense (1, activation='sigmoid')\n",
    "    ])"
   ]
  },
  {
   "cell_type": "code",
   "execution_count": 53,
   "metadata": {
    "collapsed": true
   },
   "outputs": [],
   "source": [
    "model.compile(loss='binary_crossentropy', optimizer=Adam(), metrics=['accuracy'])"
   ]
  },
  {
   "cell_type": "code",
   "execution_count": 54,
   "metadata": {
    "collapsed": false
   },
   "outputs": [
    {
     "name": "stdout",
     "output_type": "stream",
     "text": [
      "Train on 25000 samples, validate on 25000 samples\n",
      "Epoch 1/2\n",
      "25000/25000 [==============================] - 29s - loss: 0.5364 - acc: 0.7098 - val_loss: 0.3272 - val_acc: 0.8613\n",
      "Epoch 2/2\n",
      "25000/25000 [==============================] - 29s - loss: 0.3218 - acc: 0.8693 - val_loss: 0.2688 - val_acc: 0.8909\n"
     ]
    },
    {
     "data": {
      "text/plain": [
       "<keras.callbacks.History at 0x7fb68353c550>"
      ]
     },
     "execution_count": 54,
     "metadata": {},
     "output_type": "execute_result"
    }
   ],
   "source": [
    "model.fit(trn, labels_train, validation_data=(test, labels_test), nb_epoch=2, batch_size=64)"
   ]
  },
  {
   "cell_type": "markdown",
   "metadata": {},
   "source": [
    "## LSTM\n",
    "\n",
    "Coming up in the next lesson."
   ]
  },
  {
   "cell_type": "code",
   "execution_count": 55,
   "metadata": {
    "collapsed": false
   },
   "outputs": [
    {
     "name": "stdout",
     "output_type": "stream",
     "text": [
      "____________________________________________________________________________________________________\n",
      "Layer (type)                     Output Shape          Param #     Connected to                     \n",
      "====================================================================================================\n",
      "embedding_6 (Embedding)          (None, 500, 32)       160000      embedding_input_6[0][0]          \n",
      "____________________________________________________________________________________________________\n",
      "lstm_1 (LSTM)                    (None, 100)           53200       embedding_6[0][0]                \n",
      "____________________________________________________________________________________________________\n",
      "dense_11 (Dense)                 (None, 1)             101         lstm_1[0][0]                     \n",
      "====================================================================================================\n",
      "Total params: 213301\n",
      "____________________________________________________________________________________________________\n"
     ]
    }
   ],
   "source": [
    "model = Sequential([\n",
    "    Embedding(vocab_size, 32, input_length=seq_len, mask_zero=True,\n",
    "              W_regularizer=l2(1e-6), dropout=0.2),\n",
    "    LSTM(100, consume_less='gpu'),\n",
    "    Dense(1, activation='sigmoid')])\n",
    "model.compile(loss='binary_crossentropy', optimizer='adam', metrics=['accuracy'])\n",
    "model.summary()"
   ]
  },
  {
   "cell_type": "code",
   "execution_count": 56,
   "metadata": {
    "collapsed": false
   },
   "outputs": [
    {
     "name": "stdout",
     "output_type": "stream",
     "text": [
      "===============================\n",
      "===============================\n",
      "/home/ubuntu/.theano/compiledir_Linux-4.4--generic-x86_64-with-debian-stretch-sid-x86_64-2.7.12-64/tmp3ihEsS/mod.cpp:788:1: internal compiler error: Segmentation fault\n",
      " }\n",
      " ^\n",
      "Please submit a full bug report,\n",
      "with preprocessed source if appropriate.\n",
      "See <file:///usr/share/doc/gcc-5/README.Bugs> for instructions.\n",
      "\n"
     ]
    },
    {
     "name": "stderr",
     "output_type": "stream",
     "text": [
      "00001\t#include <Python.h>\n",
      "00002\t#include <iostream>\n",
      "00003\t#include \"theano_mod_helper.h\"\n",
      "00004\t#include <math.h>\n",
      "00005\t#include <numpy/arrayobject.h>\n",
      "00006\t#include <numpy/arrayscalars.h>\n",
      "00007\t#include <vector>\n",
      "00008\t#include <algorithm>\n",
      "00009\t//////////////////////\n",
      "00010\t////  Support Code\n",
      "00011\t//////////////////////\n",
      "00012\t\n",
      "00013\t#define THEANO_MACRO_MOD(x,y) (x % y)\n",
      "00014\t\n",
      "00015\t    namespace {\n",
      "00016\t    struct __struct_compiled_op_109774dadea06f52449f19787893597b {\n",
      "00017\t        PyObject* __ERROR;\n",
      "00018\t\n",
      "00019\t        PyObject* storage_V3;\n",
      "00020\tPyObject* storage_V5;\n",
      "00021\tPyObject* storage_V7;\n",
      "00022\tPyObject* storage_V9;\n",
      "00023\tPyObject* storage_V1;\n",
      "00024\t        \n",
      "00025\t\n",
      "00026\t        __struct_compiled_op_109774dadea06f52449f19787893597b() {\n",
      "00027\t            // This is only somewhat safe because we:\n",
      "00028\t            //  1) Are not a virtual class\n",
      "00029\t            //  2) Do not use any virtual classes in the members\n",
      "00030\t            //  3) Deal with mostly POD and pointers\n",
      "00031\t\n",
      "00032\t            // If this changes, we would have to revise this, but for\n",
      "00033\t            // now I am tired of chasing segfaults because\n",
      "00034\t            // initialization code had an error and some pointer has\n",
      "00035\t            // a junk value.\n",
      "00036\t            memset(this, 0, sizeof(*this));\n",
      "00037\t        }\n",
      "00038\t        ~__struct_compiled_op_109774dadea06f52449f19787893597b(void) {\n",
      "00039\t            cleanup();\n",
      "00040\t        }\n",
      "00041\t\n",
      "00042\t        int init(PyObject* __ERROR, PyObject* storage_V3, PyObject* storage_V5, PyObject* storage_V7, PyObject* storage_V9, PyObject* storage_V1) {\n",
      "00043\t            Py_XINCREF(storage_V3);\n",
      "00044\tPy_XINCREF(storage_V5);\n",
      "00045\tPy_XINCREF(storage_V7);\n",
      "00046\tPy_XINCREF(storage_V9);\n",
      "00047\tPy_XINCREF(storage_V1);\n",
      "00048\t            this->storage_V3 = storage_V3;\n",
      "00049\tthis->storage_V5 = storage_V5;\n",
      "00050\tthis->storage_V7 = storage_V7;\n",
      "00051\tthis->storage_V9 = storage_V9;\n",
      "00052\tthis->storage_V1 = storage_V1;\n",
      "00053\t            \n",
      "00054\t\n",
      "00055\t\n",
      "00056\t\n",
      "00057\t\n",
      "00058\t\n",
      "00059\t\n",
      "00060\t            this->__ERROR = __ERROR;\n",
      "00061\t            return 0;\n",
      "00062\t        }\n",
      "00063\t        void cleanup(void) {\n",
      "00064\t            __label_1:\n",
      "00065\t\n",
      "00066\tdouble __DUMMY_1;\n",
      "00067\t__label_3:\n",
      "00068\t\n",
      "00069\tdouble __DUMMY_3;\n",
      "00070\t__label_5:\n",
      "00071\t\n",
      "00072\tdouble __DUMMY_5;\n",
      "00073\t__label_7:\n",
      "00074\t\n",
      "00075\tdouble __DUMMY_7;\n",
      "00076\t__label_9:\n",
      "00077\t\n",
      "00078\tdouble __DUMMY_9;\n",
      "00079\t__label_12:\n",
      "00080\t\n",
      "00081\tdouble __DUMMY_12;\n",
      "00082\t\n",
      "00083\t            Py_XDECREF(this->storage_V3);\n",
      "00084\tPy_XDECREF(this->storage_V5);\n",
      "00085\tPy_XDECREF(this->storage_V7);\n",
      "00086\tPy_XDECREF(this->storage_V9);\n",
      "00087\tPy_XDECREF(this->storage_V1);\n",
      "00088\t        }\n",
      "00089\t        int run(void) {\n",
      "00090\t            int __failure = 0;\n",
      "00091\t            \n",
      "00092\t    PyObject* py_V1;\n",
      "00093\t    \n",
      "00094\t        PyArrayObject* V1;\n",
      "00095\t        \n",
      "00096\t            typedef npy_int64 dtype_V1;\n",
      "00097\t            \n",
      "00098\t    PyObject* py_V3;\n",
      "00099\t    \n",
      "00100\t        PyArrayObject* V3;\n",
      "00101\t        \n",
      "00102\t            typedef npy_int64 dtype_V3;\n",
      "00103\t            \n",
      "00104\t    PyObject* py_V5;\n",
      "00105\t    \n",
      "00106\t        PyArrayObject* V5;\n",
      "00107\t        \n",
      "00108\t            typedef npy_int8 dtype_V5;\n",
      "00109\t            \n",
      "00110\t    PyObject* py_V7;\n",
      "00111\t    \n",
      "00112\t        PyArrayObject* V7;\n",
      "00113\t        \n",
      "00114\t            typedef npy_int64 dtype_V7;\n",
      "00115\t            \n",
      "00116\t    PyObject* py_V9;\n",
      "00117\t    \n",
      "00118\t        PyArrayObject* V9;\n",
      "00119\t        \n",
      "00120\t            typedef npy_int64 dtype_V9;\n",
      "00121\t            \n",
      "00122\t{\n",
      "00123\t\n",
      "00124\t    py_V1 = PyList_GET_ITEM(storage_V1, 0);\n",
      "00125\t    {Py_XINCREF(py_V1);}\n",
      "00126\t    \n",
      "00127\t        if (py_V1 == Py_None)\n",
      "00128\t        {\n",
      "00129\t            \n",
      "00130\t        V1 = NULL;\n",
      "00131\t        \n",
      "00132\t        }\n",
      "00133\t        else\n",
      "00134\t        {\n",
      "00135\t            \n",
      "00136\t            V1 = NULL;\n",
      "00137\t            if (py_V1 == Py_None) {\n",
      "00138\t                // We can either fail here or set V1 to NULL and rely on Ops\n",
      "00139\t                // using tensors to handle the NULL case, but if they fail to do so\n",
      "00140\t                // they'll end up with nasty segfaults, so this is public service.\n",
      "00141\t                PyErr_SetString(PyExc_ValueError, \"expected an ndarray, not None\");\n",
      "00142\t                {\n",
      "00143\t        __failure = 2;\n",
      "00144\t        if (!PyErr_Occurred()) {\n",
      "00145\t            PyErr_SetString(PyExc_RuntimeError,\n",
      "00146\t                \"Unexpected error in an Op's C code. \"\n",
      "00147\t                \"No Python exception was set.\");\n",
      "00148\t            }\n",
      "00149\t        goto __label_2;}\n",
      "00150\t            }\n",
      "00151\t            if (!PyArray_Check(py_V1)) {\n",
      "00152\t                PyErr_SetString(PyExc_ValueError, \"expected an ndarray\");\n",
      "00153\t                {\n",
      "00154\t        __failure = 2;\n",
      "00155\t        if (!PyErr_Occurred()) {\n",
      "00156\t            PyErr_SetString(PyExc_RuntimeError,\n",
      "00157\t                \"Unexpected error in an Op's C code. \"\n",
      "00158\t                \"No Python exception was set.\");\n",
      "00159\t            }\n",
      "00160\t        goto __label_2;}\n",
      "00161\t            }\n",
      "00162\t            // We expect NPY_INT64\n",
      "00163\t            if (!PyArray_ISALIGNED((PyArrayObject*) py_V1)) {\n",
      "00164\t                PyArrayObject * tmp = (PyArrayObject*) py_V1;\n",
      "00165\t                PyErr_Format(PyExc_NotImplementedError,\n",
      "00166\t                             \"expected an aligned array of type %ld \"\n",
      "00167\t                             \"(NPY_INT64), got non-aligned array of type %ld\"\n",
      "00168\t                             \" with %ld dimensions, with 3 last dims \"\n",
      "00169\t                             \"%ld, %ld, %ld\"\n",
      "00170\t                             \" and 3 last strides %ld %ld, %ld.\",\n",
      "00171\t                             (long int) NPY_INT64,\n",
      "00172\t                             (long int) PyArray_TYPE((PyArrayObject*) py_V1),\n",
      "00173\t                             (long int) PyArray_NDIM(tmp),\n",
      "00174\t                             (long int) PyArray_NDIM(tmp) >= 3 ?\n",
      "00175\t            PyArray_DIMS(tmp)[PyArray_NDIM(tmp)-3] : -1,\n",
      "00176\t                             (long int) PyArray_NDIM(tmp) >= 2 ?\n",
      "00177\t            PyArray_DIMS(tmp)[PyArray_NDIM(tmp)-2] : -1,\n",
      "00178\t                             (long int) PyArray_NDIM(tmp) >= 1 ?\n",
      "00179\t            PyArray_DIMS(tmp)[PyArray_NDIM(tmp)-1] : -1,\n",
      "00180\t                             (long int) PyArray_NDIM(tmp) >= 3 ?\n",
      "00181\t            PyArray_STRIDES(tmp)[PyArray_NDIM(tmp)-3] : -1,\n",
      "00182\t                             (long int) PyArray_NDIM(tmp) >= 2 ?\n",
      "00183\t            PyArray_STRIDES(tmp)[PyArray_NDIM(tmp)-2] : -1,\n",
      "00184\t                             (long int) PyArray_NDIM(tmp) >= 1 ?\n",
      "00185\t            PyArray_STRIDES(tmp)[PyArray_NDIM(tmp)-1] : -1\n",
      "00186\t            );\n",
      "00187\t                {\n",
      "00188\t        __failure = 2;\n",
      "00189\t        if (!PyErr_Occurred()) {\n",
      "00190\t            PyErr_SetString(PyExc_RuntimeError,\n",
      "00191\t                \"Unexpected error in an Op's C code. \"\n",
      "00192\t                \"No Python exception was set.\");\n",
      "00193\t            }\n",
      "00194\t        goto __label_2;}\n",
      "00195\t            }\n",
      "00196\t            // This is a TypeError to be consistent with DEBUG_MODE\n",
      "00197\t            // Note: DEBUG_MODE also tells the name of the container\n",
      "00198\t            if (PyArray_TYPE((PyArrayObject*) py_V1) != NPY_INT64) {\n",
      "00199\t                PyErr_Format(PyExc_TypeError,\n",
      "00200\t                             \"expected type_num %d (NPY_INT64) got %d\",\n",
      "00201\t                             NPY_INT64, PyArray_TYPE((PyArrayObject*) py_V1));\n",
      "00202\t                {\n",
      "00203\t        __failure = 2;\n",
      "00204\t        if (!PyErr_Occurred()) {\n",
      "00205\t            PyErr_SetString(PyExc_RuntimeError,\n",
      "00206\t                \"Unexpected error in an Op's C code. \"\n",
      "00207\t                \"No Python exception was set.\");\n",
      "00208\t            }\n",
      "00209\t        goto __label_2;}\n",
      "00210\t            }\n",
      "00211\t            \n",
      "00212\t        V1 = (PyArrayObject*)(py_V1);\n",
      "00213\t        Py_XINCREF(V1);\n",
      "00214\t        \n",
      "00215\t        }\n",
      "00216\t        \n",
      "00217\t{\n",
      "00218\t\n",
      "00219\t    py_V3 = PyList_GET_ITEM(storage_V3, 0);\n",
      "00220\t    {Py_XINCREF(py_V3);}\n",
      "00221\t    \n",
      "00222\t            V3 = NULL;\n",
      "00223\t            if (py_V3 == Py_None) {\n",
      "00224\t                // We can either fail here or set V3 to NULL and rely on Ops\n",
      "00225\t                // using tensors to handle the NULL case, but if they fail to do so\n",
      "00226\t                // they'll end up with nasty segfaults, so this is public service.\n",
      "00227\t                PyErr_SetString(PyExc_ValueError, \"expected an ndarray, not None\");\n",
      "00228\t                {\n",
      "00229\t        __failure = 4;\n",
      "00230\t        if (!PyErr_Occurred()) {\n",
      "00231\t            PyErr_SetString(PyExc_RuntimeError,\n",
      "00232\t                \"Unexpected error in an Op's C code. \"\n",
      "00233\t                \"No Python exception was set.\");\n",
      "00234\t            }\n",
      "00235\t        goto __label_4;}\n",
      "00236\t            }\n",
      "00237\t            if (!PyArray_Check(py_V3)) {\n",
      "00238\t                PyErr_SetString(PyExc_ValueError, \"expected an ndarray\");\n",
      "00239\t                {\n",
      "00240\t        __failure = 4;\n",
      "00241\t        if (!PyErr_Occurred()) {\n",
      "00242\t            PyErr_SetString(PyExc_RuntimeError,\n",
      "00243\t                \"Unexpected error in an Op's C code. \"\n",
      "00244\t                \"No Python exception was set.\");\n",
      "00245\t            }\n",
      "00246\t        goto __label_4;}\n",
      "00247\t            }\n",
      "00248\t            // We expect NPY_INT64\n",
      "00249\t            if (!PyArray_ISALIGNED((PyArrayObject*) py_V3)) {\n",
      "00250\t                PyArrayObject * tmp = (PyArrayObject*) py_V3;\n",
      "00251\t                PyErr_Format(PyExc_NotImplementedError,\n",
      "00252\t                             \"expected an aligned array of type %ld \"\n",
      "00253\t                             \"(NPY_INT64), got non-aligned array of type %ld\"\n",
      "00254\t                             \" with %ld dimensions, with 3 last dims \"\n",
      "00255\t                             \"%ld, %ld, %ld\"\n",
      "00256\t                             \" and 3 last strides %ld %ld, %ld.\",\n",
      "00257\t                             (long int) NPY_INT64,\n",
      "00258\t                             (long int) PyArray_TYPE((PyArrayObject*) py_V3),\n",
      "00259\t                             (long int) PyArray_NDIM(tmp),\n",
      "00260\t                             (long int) PyArray_NDIM(tmp) >= 3 ?\n",
      "00261\t            PyArray_DIMS(tmp)[PyArray_NDIM(tmp)-3] : -1,\n",
      "00262\t                             (long int) PyArray_NDIM(tmp) >= 2 ?\n",
      "00263\t            PyArray_DIMS(tmp)[PyArray_NDIM(tmp)-2] : -1,\n",
      "00264\t                             (long int) PyArray_NDIM(tmp) >= 1 ?\n",
      "00265\t            PyArray_DIMS(tmp)[PyArray_NDIM(tmp)-1] : -1,\n",
      "00266\t                             (long int) PyArray_NDIM(tmp) >= 3 ?\n",
      "00267\t            PyArray_STRIDES(tmp)[PyArray_NDIM(tmp)-3] : -1,\n",
      "00268\t                             (long int) PyArray_NDIM(tmp) >= 2 ?\n",
      "00269\t            PyArray_STRIDES(tmp)[PyArray_NDIM(tmp)-2] : -1,\n",
      "00270\t                             (long int) PyArray_NDIM(tmp) >= 1 ?\n",
      "00271\t            PyArray_STRIDES(tmp)[PyArray_NDIM(tmp)-1] : -1\n",
      "00272\t            );\n",
      "00273\t                {\n",
      "00274\t        __failure = 4;\n",
      "00275\t        if (!PyErr_Occurred()) {\n",
      "00276\t            PyErr_SetString(PyExc_RuntimeError,\n",
      "00277\t                \"Unexpected error in an Op's C code. \"\n",
      "00278\t                \"No Python exception was set.\");\n",
      "00279\t            }\n",
      "00280\t        goto __label_4;}\n",
      "00281\t            }\n",
      "00282\t            // This is a TypeError to be consistent with DEBUG_MODE\n",
      "00283\t            // Note: DEBUG_MODE also tells the name of the container\n",
      "00284\t            if (PyArray_TYPE((PyArrayObject*) py_V3) != NPY_INT64) {\n",
      "00285\t                PyErr_Format(PyExc_TypeError,\n",
      "00286\t                             \"expected type_num %d (NPY_INT64) got %d\",\n",
      "00287\t                             NPY_INT64, PyArray_TYPE((PyArrayObject*) py_V3));\n",
      "00288\t                {\n",
      "00289\t        __failure = 4;\n",
      "00290\t        if (!PyErr_Occurred()) {\n",
      "00291\t            PyErr_SetString(PyExc_RuntimeError,\n",
      "00292\t                \"Unexpected error in an Op's C code. \"\n",
      "00293\t                \"No Python exception was set.\");\n",
      "00294\t            }\n",
      "00295\t        goto __label_4;}\n",
      "00296\t            }\n",
      "00297\t            \n",
      "00298\t        V3 = (PyArrayObject*)(py_V3);\n",
      "00299\t        Py_XINCREF(V3);\n",
      "00300\t        \n",
      "00301\t{\n",
      "00302\t\n",
      "00303\t    py_V5 = PyList_GET_ITEM(storage_V5, 0);\n",
      "00304\t    {Py_XINCREF(py_V5);}\n",
      "00305\t    \n",
      "00306\t            V5 = NULL;\n",
      "00307\t            if (py_V5 == Py_None) {\n",
      "00308\t                // We can either fail here or set V5 to NULL and rely on Ops\n",
      "00309\t                // using tensors to handle the NULL case, but if they fail to do so\n",
      "00310\t                // they'll end up with nasty segfaults, so this is public service.\n",
      "00311\t                PyErr_SetString(PyExc_ValueError, \"expected an ndarray, not None\");\n",
      "00312\t                {\n",
      "00313\t        __failure = 6;\n",
      "00314\t        if (!PyErr_Occurred()) {\n",
      "00315\t            PyErr_SetString(PyExc_RuntimeError,\n",
      "00316\t                \"Unexpected error in an Op's C code. \"\n",
      "00317\t                \"No Python exception was set.\");\n",
      "00318\t            }\n",
      "00319\t        goto __label_6;}\n",
      "00320\t            }\n",
      "00321\t            if (!PyArray_Check(py_V5)) {\n",
      "00322\t                PyErr_SetString(PyExc_ValueError, \"expected an ndarray\");\n",
      "00323\t                {\n",
      "00324\t        __failure = 6;\n",
      "00325\t        if (!PyErr_Occurred()) {\n",
      "00326\t            PyErr_SetString(PyExc_RuntimeError,\n",
      "00327\t                \"Unexpected error in an Op's C code. \"\n",
      "00328\t                \"No Python exception was set.\");\n",
      "00329\t            }\n",
      "00330\t        goto __label_6;}\n",
      "00331\t            }\n",
      "00332\t            // We expect NPY_INT8\n",
      "00333\t            if (!PyArray_ISALIGNED((PyArrayObject*) py_V5)) {\n",
      "00334\t                PyArrayObject * tmp = (PyArrayObject*) py_V5;\n",
      "00335\t                PyErr_Format(PyExc_NotImplementedError,\n",
      "00336\t                             \"expected an aligned array of type %ld \"\n",
      "00337\t                             \"(NPY_INT8), got non-aligned array of type %ld\"\n",
      "00338\t                             \" with %ld dimensions, with 3 last dims \"\n",
      "00339\t                             \"%ld, %ld, %ld\"\n",
      "00340\t                             \" and 3 last strides %ld %ld, %ld.\",\n",
      "00341\t                             (long int) NPY_INT8,\n",
      "00342\t                             (long int) PyArray_TYPE((PyArrayObject*) py_V5),\n",
      "00343\t                             (long int) PyArray_NDIM(tmp),\n",
      "00344\t                             (long int) PyArray_NDIM(tmp) >= 3 ?\n",
      "00345\t            PyArray_DIMS(tmp)[PyArray_NDIM(tmp)-3] : -1,\n",
      "00346\t                             (long int) PyArray_NDIM(tmp) >= 2 ?\n",
      "00347\t            PyArray_DIMS(tmp)[PyArray_NDIM(tmp)-2] : -1,\n",
      "00348\t                             (long int) PyArray_NDIM(tmp) >= 1 ?\n",
      "00349\t            PyArray_DIMS(tmp)[PyArray_NDIM(tmp)-1] : -1,\n",
      "00350\t                             (long int) PyArray_NDIM(tmp) >= 3 ?\n",
      "00351\t            PyArray_STRIDES(tmp)[PyArray_NDIM(tmp)-3] : -1,\n",
      "00352\t                             (long int) PyArray_NDIM(tmp) >= 2 ?\n",
      "00353\t            PyArray_STRIDES(tmp)[PyArray_NDIM(tmp)-2] : -1,\n",
      "00354\t                             (long int) PyArray_NDIM(tmp) >= 1 ?\n",
      "00355\t            PyArray_STRIDES(tmp)[PyArray_NDIM(tmp)-1] : -1\n",
      "00356\t            );\n",
      "00357\t                {\n",
      "00358\t        __failure = 6;\n",
      "00359\t        if (!PyErr_Occurred()) {\n",
      "00360\t            PyErr_SetString(PyExc_RuntimeError,\n",
      "00361\t                \"Unexpected error in an Op's C code. \"\n",
      "00362\t                \"No Python exception was set.\");\n",
      "00363\t            }\n",
      "00364\t        goto __label_6;}\n",
      "00365\t            }\n",
      "00366\t            // This is a TypeError to be consistent with DEBUG_MODE\n",
      "00367\t            // Note: DEBUG_MODE also tells the name of the container\n",
      "00368\t            if (PyArray_TYPE((PyArrayObject*) py_V5) != NPY_INT8) {\n",
      "00369\t                PyErr_Format(PyExc_TypeError,\n",
      "00370\t                             \"expected type_num %d (NPY_INT8) got %d\",\n",
      "00371\t                             NPY_INT8, PyArray_TYPE((PyArrayObject*) py_V5));\n",
      "00372\t                {\n",
      "00373\t        __failure = 6;\n",
      "00374\t        if (!PyErr_Occurred()) {\n",
      "00375\t            PyErr_SetString(PyExc_RuntimeError,\n",
      "00376\t                \"Unexpected error in an Op's C code. \"\n",
      "00377\t                \"No Python exception was set.\");\n",
      "00378\t            }\n",
      "00379\t        goto __label_6;}\n",
      "00380\t            }\n",
      "00381\t            \n",
      "00382\t        V5 = (PyArrayObject*)(py_V5);\n",
      "00383\t        Py_XINCREF(V5);\n",
      "00384\t        \n",
      "00385\t{\n",
      "00386\t\n",
      "00387\t    py_V7 = PyList_GET_ITEM(storage_V7, 0);\n",
      "00388\t    {Py_XINCREF(py_V7);}\n",
      "00389\t    \n",
      "00390\t            V7 = NULL;\n",
      "00391\t            if (py_V7 == Py_None) {\n",
      "00392\t                // We can either fail here or set V7 to NULL and rely on Ops\n",
      "00393\t                // using tensors to handle the NULL case, but if they fail to do so\n",
      "00394\t                // they'll end up with nasty segfaults, so this is public service.\n",
      "00395\t                PyErr_SetString(PyExc_ValueError, \"expected an ndarray, not None\");\n",
      "00396\t                {\n",
      "00397\t        __failure = 8;\n",
      "00398\t        if (!PyErr_Occurred()) {\n",
      "00399\t            PyErr_SetString(PyExc_RuntimeError,\n",
      "00400\t                \"Unexpected error in an Op's C code. \"\n",
      "00401\t                \"No Python exception was set.\");\n",
      "00402\t            }\n",
      "00403\t        goto __label_8;}\n",
      "00404\t            }\n",
      "00405\t            if (!PyArray_Check(py_V7)) {\n",
      "00406\t                PyErr_SetString(PyExc_ValueError, \"expected an ndarray\");\n",
      "00407\t                {\n",
      "00408\t        __failure = 8;\n",
      "00409\t        if (!PyErr_Occurred()) {\n",
      "00410\t            PyErr_SetString(PyExc_RuntimeError,\n",
      "00411\t                \"Unexpected error in an Op's C code. \"\n",
      "00412\t                \"No Python exception was set.\");\n",
      "00413\t            }\n",
      "00414\t        goto __label_8;}\n",
      "00415\t            }\n",
      "00416\t            // We expect NPY_INT64\n",
      "00417\t            if (!PyArray_ISALIGNED((PyArrayObject*) py_V7)) {\n",
      "00418\t                PyArrayObject * tmp = (PyArrayObject*) py_V7;\n",
      "00419\t                PyErr_Format(PyExc_NotImplementedError,\n",
      "00420\t                             \"expected an aligned array of type %ld \"\n",
      "00421\t                             \"(NPY_INT64), got non-aligned array of type %ld\"\n",
      "00422\t                             \" with %ld dimensions, with 3 last dims \"\n",
      "00423\t                             \"%ld, %ld, %ld\"\n",
      "00424\t                             \" and 3 last strides %ld %ld, %ld.\",\n",
      "00425\t                             (long int) NPY_INT64,\n",
      "00426\t                             (long int) PyArray_TYPE((PyArrayObject*) py_V7),\n",
      "00427\t                             (long int) PyArray_NDIM(tmp),\n",
      "00428\t                             (long int) PyArray_NDIM(tmp) >= 3 ?\n",
      "00429\t            PyArray_DIMS(tmp)[PyArray_NDIM(tmp)-3] : -1,\n",
      "00430\t                             (long int) PyArray_NDIM(tmp) >= 2 ?\n",
      "00431\t            PyArray_DIMS(tmp)[PyArray_NDIM(tmp)-2] : -1,\n",
      "00432\t                             (long int) PyArray_NDIM(tmp) >= 1 ?\n",
      "00433\t            PyArray_DIMS(tmp)[PyArray_NDIM(tmp)-1] : -1,\n",
      "00434\t                             (long int) PyArray_NDIM(tmp) >= 3 ?\n",
      "00435\t            PyArray_STRIDES(tmp)[PyArray_NDIM(tmp)-3] : -1,\n",
      "00436\t                             (long int) PyArray_NDIM(tmp) >= 2 ?\n",
      "00437\t            PyArray_STRIDES(tmp)[PyArray_NDIM(tmp)-2] : -1,\n",
      "00438\t                             (long int) PyArray_NDIM(tmp) >= 1 ?\n",
      "00439\t            PyArray_STRIDES(tmp)[PyArray_NDIM(tmp)-1] : -1\n",
      "00440\t            );\n",
      "00441\t                {\n",
      "00442\t        __failure = 8;\n",
      "00443\t        if (!PyErr_Occurred()) {\n",
      "00444\t            PyErr_SetString(PyExc_RuntimeError,\n",
      "00445\t                \"Unexpected error in an Op's C code. \"\n",
      "00446\t                \"No Python exception was set.\");\n",
      "00447\t            }\n",
      "00448\t        goto __label_8;}\n",
      "00449\t            }\n",
      "00450\t            // This is a TypeError to be consistent with DEBUG_MODE\n",
      "00451\t            // Note: DEBUG_MODE also tells the name of the container\n",
      "00452\t            if (PyArray_TYPE((PyArrayObject*) py_V7) != NPY_INT64) {\n",
      "00453\t                PyErr_Format(PyExc_TypeError,\n",
      "00454\t                             \"expected type_num %d (NPY_INT64) got %d\",\n",
      "00455\t                             NPY_INT64, PyArray_TYPE((PyArrayObject*) py_V7));\n",
      "00456\t                {\n",
      "00457\t        __failure = 8;\n",
      "00458\t        if (!PyErr_Occurred()) {\n",
      "00459\t            PyErr_SetString(PyExc_RuntimeError,\n",
      "00460\t                \"Unexpected error in an Op's C code. \"\n",
      "00461\t                \"No Python exception was set.\");\n",
      "00462\t            }\n",
      "00463\t        goto __label_8;}\n",
      "00464\t            }\n",
      "00465\t            \n",
      "00466\t        V7 = (PyArrayObject*)(py_V7);\n",
      "00467\t        Py_XINCREF(V7);\n",
      "00468\t        \n",
      "00469\t{\n",
      "00470\t\n",
      "00471\t    py_V9 = PyList_GET_ITEM(storage_V9, 0);\n",
      "00472\t    {Py_XINCREF(py_V9);}\n",
      "00473\t    \n",
      "00474\t            V9 = NULL;\n",
      "00475\t            if (py_V9 == Py_None) {\n",
      "00476\t                // We can either fail here or set V9 to NULL and rely on Ops\n",
      "00477\t                // using tensors to handle the NULL case, but if they fail to do so\n",
      "00478\t                // they'll end up with nasty segfaults, so this is public service.\n",
      "00479\t                PyErr_SetString(PyExc_ValueError, \"expected an ndarray, not None\");\n",
      "00480\t                {\n",
      "00481\t        __failure = 10;\n",
      "00482\t        if (!PyErr_Occurred()) {\n",
      "00483\t            PyErr_SetString(PyExc_RuntimeError,\n",
      "00484\t                \"Unexpected error in an Op's C code. \"\n",
      "00485\t                \"No Python exception was set.\");\n",
      "00486\t            }\n",
      "00487\t        goto __label_10;}\n",
      "00488\t            }\n",
      "00489\t            if (!PyArray_Check(py_V9)) {\n",
      "00490\t                PyErr_SetString(PyExc_ValueError, \"expected an ndarray\");\n",
      "00491\t                {\n",
      "00492\t        __failure = 10;\n",
      "00493\t        if (!PyErr_Occurred()) {\n",
      "00494\t            PyErr_SetString(PyExc_RuntimeError,\n",
      "00495\t                \"Unexpected error in an Op's C code. \"\n",
      "00496\t                \"No Python exception was set.\");\n",
      "00497\t            }\n",
      "00498\t        goto __label_10;}\n",
      "00499\t            }\n",
      "00500\t            // We expect NPY_INT64\n",
      "00501\t            if (!PyArray_ISALIGNED((PyArrayObject*) py_V9)) {\n",
      "00502\t                PyArrayObject * tmp = (PyArrayObject*) py_V9;\n",
      "00503\t                PyErr_Format(PyExc_NotImplementedError,\n",
      "00504\t                             \"expected an aligned array of type %ld \"\n",
      "00505\t                             \"(NPY_INT64), got non-aligned array of type %ld\"\n",
      "00506\t                             \" with %ld dimensions, with 3 last dims \"\n",
      "00507\t                             \"%ld, %ld, %ld\"\n",
      "00508\t                             \" and 3 last strides %ld %ld, %ld.\",\n",
      "00509\t                             (long int) NPY_INT64,\n",
      "00510\t                             (long int) PyArray_TYPE((PyArrayObject*) py_V9),\n",
      "00511\t                             (long int) PyArray_NDIM(tmp),\n",
      "00512\t                             (long int) PyArray_NDIM(tmp) >= 3 ?\n",
      "00513\t            PyArray_DIMS(tmp)[PyArray_NDIM(tmp)-3] : -1,\n",
      "00514\t                             (long int) PyArray_NDIM(tmp) >= 2 ?\n",
      "00515\t            PyArray_DIMS(tmp)[PyArray_NDIM(tmp)-2] : -1,\n",
      "00516\t                             (long int) PyArray_NDIM(tmp) >= 1 ?\n",
      "00517\t            PyArray_DIMS(tmp)[PyArray_NDIM(tmp)-1] : -1,\n",
      "00518\t                             (long int) PyArray_NDIM(tmp) >= 3 ?\n",
      "00519\t            PyArray_STRIDES(tmp)[PyArray_NDIM(tmp)-3] : -1,\n",
      "00520\t                             (long int) PyArray_NDIM(tmp) >= 2 ?\n",
      "00521\t            PyArray_STRIDES(tmp)[PyArray_NDIM(tmp)-2] : -1,\n",
      "00522\t                             (long int) PyArray_NDIM(tmp) >= 1 ?\n",
      "00523\t            PyArray_STRIDES(tmp)[PyArray_NDIM(tmp)-1] : -1\n",
      "00524\t            );\n",
      "00525\t                {\n",
      "00526\t        __failure = 10;\n",
      "00527\t        if (!PyErr_Occurred()) {\n",
      "00528\t            PyErr_SetString(PyExc_RuntimeError,\n",
      "00529\t                \"Unexpected error in an Op's C code. \"\n",
      "00530\t                \"No Python exception was set.\");\n",
      "00531\t            }\n",
      "00532\t        goto __label_10;}\n",
      "00533\t            }\n",
      "00534\t            // This is a TypeError to be consistent with DEBUG_MODE\n",
      "00535\t            // Note: DEBUG_MODE also tells the name of the container\n",
      "00536\t            if (PyArray_TYPE((PyArrayObject*) py_V9) != NPY_INT64) {\n",
      "00537\t                PyErr_Format(PyExc_TypeError,\n",
      "00538\t                             \"expected type_num %d (NPY_INT64) got %d\",\n",
      "00539\t                             NPY_INT64, PyArray_TYPE((PyArrayObject*) py_V9));\n",
      "00540\t                {\n",
      "00541\t        __failure = 10;\n",
      "00542\t        if (!PyErr_Occurred()) {\n",
      "00543\t            PyErr_SetString(PyExc_RuntimeError,\n",
      "00544\t                \"Unexpected error in an Op's C code. \"\n",
      "00545\t                \"No Python exception was set.\");\n",
      "00546\t            }\n",
      "00547\t        goto __label_10;}\n",
      "00548\t            }\n",
      "00549\t            \n",
      "00550\t        V9 = (PyArrayObject*)(py_V9);\n",
      "00551\t        Py_XINCREF(V9);\n",
      "00552\t        \n",
      "00553\t{\n",
      "00554\t// Op class Elemwise\n",
      "00555\t\n",
      "00556\t        npy_int64* V3_iter;\n",
      "00557\t        \n",
      "00558\t        npy_int8* V5_iter;\n",
      "00559\t        \n",
      "00560\t        npy_int64* V7_iter;\n",
      "00561\t        \n",
      "00562\t        npy_int64* V9_iter;\n",
      "00563\t        \n",
      "00564\t\n",
      "00565\t\n",
      "00566\t            if (V1) {\n",
      "00567\t                Py_XDECREF(V1);\n",
      "00568\t            }\n",
      "00569\t            V1 = V3;\n",
      "00570\t            Py_XINCREF(V1);\n",
      "00571\t            \n",
      "00572\t\n",
      "00573\t                {\n",
      "00574\t                  #define V1_i V3_i\n",
      "00575\t                  V3_iter = (npy_int64*)(PyArray_DATA(V3));\n",
      "00576\tV5_iter = (npy_int8*)(PyArray_DATA(V5));\n",
      "00577\tV7_iter = (npy_int64*)(PyArray_DATA(V7));\n",
      "00578\tV9_iter = (npy_int64*)(PyArray_DATA(V9));\n",
      "00579\t\n",
      "00580\t                  npy_int64& V3_i = *V3_iter;\n",
      "00581\tnpy_int8& V5_i = *V5_iter;\n",
      "00582\tnpy_int64& V7_i = *V7_iter;\n",
      "00583\tnpy_int64& V9_i = *V9_iter;\n",
      "00584\t\n",
      "00585\t                  {\n",
      "00586\tnpy_int64 V11_tmp1;\n",
      "00587\tV11_tmp1 = V9_i * V3_i;\n",
      "00588\tnpy_int64 V11_tmp2;\n",
      "00589\tV11_tmp2 = V7_i * V3_i;\n",
      "00590\tnpy_int8 V11_tmp3;\n",
      "00591\tV11_tmp3 = (V3_i == V5_i);\n",
      "00592\tnpy_int64 V11_tmp4;\n",
      "00593\t\n",
      "00594\tif (V11_tmp2 < 0) {\n",
      "00595\t    if (V11_tmp1 < 0) {\n",
      "00596\t        V11_tmp4 = ((-V11_tmp2) / (-V11_tmp1));\n",
      "00597\t    } else {\n",
      "00598\t        V11_tmp4 = - ((-V11_tmp2) / V11_tmp1) - ((THEANO_MACRO_MOD((-V11_tmp2), V11_tmp1) == 0) ? 0 : 1);\n",
      "00599\t    }\n",
      "00600\t} else {\n",
      "00601\t    if (V11_tmp1 < 0) {\n",
      "00602\t        V11_tmp4 = - (V11_tmp2 / (-V11_tmp1)) - ((THEANO_MACRO_MOD(V11_tmp2, (-V11_tmp1)) == 0) ? 0 : 1);\n",
      "00603\t    } else {\n",
      "00604\t        V11_tmp4 = (V11_tmp2 / V11_tmp1);\n",
      "00605\t    }\n",
      "00606\t}\n",
      "00607\t\n",
      "00608\tV1_i = V11_tmp3 ? V11_tmp4 : V3_i;\n",
      "00609\t}\n",
      "00610\t\n",
      "00611\t                  #undef V1_i\n",
      "00612\t                }\n",
      "00613\t                __label_11:\n",
      "00614\t\n",
      "00615\tdouble __DUMMY_11;\n",
      "00616\t\n",
      "00617\t}\n",
      "00618\t__label_10:\n",
      "00619\t\n",
      "00620\t        if (V9) {\n",
      "00621\t            Py_XDECREF(V9);\n",
      "00622\t        }\n",
      "00623\t        \n",
      "00624\t    {Py_XDECREF(py_V9);}\n",
      "00625\t    \n",
      "00626\tdouble __DUMMY_10;\n",
      "00627\t\n",
      "00628\t}\n",
      "00629\t__label_8:\n",
      "00630\t\n",
      "00631\t        if (V7) {\n",
      "00632\t            Py_XDECREF(V7);\n",
      "00633\t        }\n",
      "00634\t        \n",
      "00635\t    {Py_XDECREF(py_V7);}\n",
      "00636\t    \n",
      "00637\tdouble __DUMMY_8;\n",
      "00638\t\n",
      "00639\t}\n",
      "00640\t__label_6:\n",
      "00641\t\n",
      "00642\t        if (V5) {\n",
      "00643\t            Py_XDECREF(V5);\n",
      "00644\t        }\n",
      "00645\t        \n",
      "00646\t    {Py_XDECREF(py_V5);}\n",
      "00647\t    \n",
      "00648\tdouble __DUMMY_6;\n",
      "00649\t\n",
      "00650\t}\n",
      "00651\t__label_4:\n",
      "00652\t\n",
      "00653\t        if (V3) {\n",
      "00654\t            Py_XDECREF(V3);\n",
      "00655\t        }\n",
      "00656\t        \n",
      "00657\t    {Py_XDECREF(py_V3);}\n",
      "00658\t    \n",
      "00659\tdouble __DUMMY_4;\n",
      "00660\t\n",
      "00661\t}\n",
      "00662\t__label_2:\n",
      "00663\t\n",
      "00664\t    if (!__failure) {\n",
      "00665\t      \n",
      "00666\t        {Py_XDECREF(py_V1);}\n",
      "00667\t        if (!V1) {\n",
      "00668\t            Py_INCREF(Py_None);\n",
      "00669\t            py_V1 = Py_None;\n",
      "00670\t        }\n",
      "00671\t        else if ((void*)py_V1 != (void*)V1) {\n",
      "00672\t            py_V1 = (PyObject*)V1;\n",
      "00673\t        }\n",
      "00674\t\n",
      "00675\t        {Py_XINCREF(py_V1);}\n",
      "00676\t\n",
      "00677\t        if (V1 && !PyArray_ISALIGNED((PyArrayObject*) py_V1)) {\n",
      "00678\t            PyErr_Format(PyExc_NotImplementedError,\n",
      "00679\t                         \"c_sync: expected an aligned array, got non-aligned array of type %ld\"\n",
      "00680\t                         \" with %ld dimensions, with 3 last dims \"\n",
      "00681\t                         \"%ld, %ld, %ld\"\n",
      "00682\t                         \" and 3 last strides %ld %ld, %ld.\",\n",
      "00683\t                         (long int) PyArray_TYPE((PyArrayObject*) py_V1),\n",
      "00684\t                         (long int) PyArray_NDIM(V1),\n",
      "00685\t                         (long int) PyArray_NDIM(V1) >= 3 ?\n",
      "00686\t        PyArray_DIMS(V1)[PyArray_NDIM(V1)-3] : -1,\n",
      "00687\t                         (long int) PyArray_NDIM(V1) >= 2 ?\n",
      "00688\t        PyArray_DIMS(V1)[PyArray_NDIM(V1)-2] : -1,\n",
      "00689\t                         (long int) PyArray_NDIM(V1) >= 1 ?\n",
      "00690\t        PyArray_DIMS(V1)[PyArray_NDIM(V1)-1] : -1,\n",
      "00691\t                         (long int) PyArray_NDIM(V1) >= 3 ?\n",
      "00692\t        PyArray_STRIDES(V1)[PyArray_NDIM(V1)-3] : -1,\n",
      "00693\t                         (long int) PyArray_NDIM(V1) >= 2 ?\n",
      "00694\t        PyArray_STRIDES(V1)[PyArray_NDIM(V1)-2] : -1,\n",
      "00695\t                         (long int) PyArray_NDIM(V1) >= 1 ?\n",
      "00696\t        PyArray_STRIDES(V1)[PyArray_NDIM(V1)-1] : -1\n",
      "00697\t        );\n",
      "00698\t            {\n",
      "00699\t        __failure = 2;\n",
      "00700\t        if (!PyErr_Occurred()) {\n",
      "00701\t            PyErr_SetString(PyExc_RuntimeError,\n",
      "00702\t                \"Unexpected error in an Op's C code. \"\n",
      "00703\t                \"No Python exception was set.\");\n",
      "00704\t            }\n",
      "00705\t        goto __label_2;}\n",
      "00706\t        }\n",
      "00707\t        \n",
      "00708\t      PyObject* old = PyList_GET_ITEM(storage_V1, 0);\n",
      "00709\t      {Py_XINCREF(py_V1);}\n",
      "00710\t      PyList_SET_ITEM(storage_V1, 0, py_V1);\n",
      "00711\t      {Py_XDECREF(old);}\n",
      "00712\t    }\n",
      "00713\t    \n",
      "00714\t        if (V1) {\n",
      "00715\t            Py_XDECREF(V1);\n",
      "00716\t        }\n",
      "00717\t        \n",
      "00718\t    {Py_XDECREF(py_V1);}\n",
      "00719\t    \n",
      "00720\tdouble __DUMMY_2;\n",
      "00721\t\n",
      "00722\t}\n",
      "00723\t\n",
      "00724\t            \n",
      "00725\t        if (__failure) {\n",
      "00726\t            // When there is a failure, this code puts the exception\n",
      "00727\t            // in __ERROR.\n",
      "00728\t            PyObject* err_type = NULL;\n",
      "00729\t            PyObject* err_msg = NULL;\n",
      "00730\t            PyObject* err_traceback = NULL;\n",
      "00731\t            PyErr_Fetch(&err_type, &err_msg, &err_traceback);\n",
      "00732\t            if (!err_type) {err_type = Py_None;Py_INCREF(Py_None);}\n",
      "00733\t            if (!err_msg) {err_msg = Py_None; Py_INCREF(Py_None);}\n",
      "00734\t            if (!err_traceback) {err_traceback = Py_None; Py_INCREF(Py_None);}\n",
      "00735\t            PyObject* old_err_type = PyList_GET_ITEM(__ERROR, 0);\n",
      "00736\t            PyObject* old_err_msg = PyList_GET_ITEM(__ERROR, 1);\n",
      "00737\t            PyObject* old_err_traceback = PyList_GET_ITEM(__ERROR, 2);\n",
      "00738\t            PyList_SET_ITEM(__ERROR, 0, err_type);\n",
      "00739\t            PyList_SET_ITEM(__ERROR, 1, err_msg);\n",
      "00740\t            PyList_SET_ITEM(__ERROR, 2, err_traceback);\n",
      "00741\t            {Py_XDECREF(old_err_type);}\n",
      "00742\t            {Py_XDECREF(old_err_msg);}\n",
      "00743\t            {Py_XDECREF(old_err_traceback);}\n",
      "00744\t        }\n",
      "00745\t        // The failure code is returned to index what code block failed.\n",
      "00746\t        return __failure;\n",
      "00747\t        \n",
      "00748\t        }\n",
      "00749\t    };\n",
      "00750\t    }\n",
      "00751\t    \n",
      "00752\t\n",
      "00753\t        static int __struct_compiled_op_109774dadea06f52449f19787893597b_executor(__struct_compiled_op_109774dadea06f52449f19787893597b* self) {\n",
      "00754\t            return self->run();\n",
      "00755\t        }\n",
      "00756\t\n",
      "00757\t        static void __struct_compiled_op_109774dadea06f52449f19787893597b_destructor(void* executor, void* self) {\n",
      "00758\t            delete ((__struct_compiled_op_109774dadea06f52449f19787893597b*)self);\n",
      "00759\t        }\n",
      "00760\t        \n",
      "00761\t//////////////////////\n",
      "00762\t////  Functions\n",
      "00763\t//////////////////////\n",
      "00764\tstatic PyObject * instantiate(PyObject * self, PyObject *argtuple) {\n",
      "00765\t  assert(PyTuple_Check(argtuple));\n",
      "00766\t  if (6 != PyTuple_Size(argtuple)){ \n",
      "00767\t     PyErr_Format(PyExc_TypeError, \"Wrong number of arguments, expected 6, got %i\", (int)PyTuple_Size(argtuple));\n",
      "00768\t     return NULL;\n",
      "00769\t  }\n",
      "00770\t  __struct_compiled_op_109774dadea06f52449f19787893597b* struct_ptr = new __struct_compiled_op_109774dadea06f52449f19787893597b();\n",
      "00771\t  if (struct_ptr->init( PyTuple_GET_ITEM(argtuple, 0),PyTuple_GET_ITEM(argtuple, 1),PyTuple_GET_ITEM(argtuple, 2),PyTuple_GET_ITEM(argtuple, 3),PyTuple_GET_ITEM(argtuple, 4),PyTuple_GET_ITEM(argtuple, 5) ) != 0) {\n",
      "00772\t    delete struct_ptr;\n",
      "00773\t    return NULL;\n",
      "00774\t  }\n",
      "00775\t  PyObject* thunk = PyCObject_FromVoidPtrAndDesc((void*)(&__struct_compiled_op_109774dadea06f52449f19787893597b_executor), struct_ptr, __struct_compiled_op_109774dadea06f52449f19787893597b_destructor);\n",
      "00776\t  return thunk; }\n",
      "00777\t\n",
      "00778\t//////////////////////\n",
      "00779\t////  Module init\n",
      "00780\t//////////////////////\n",
      "00781\tstatic PyMethodDef MyMethods[] = {\n",
      "00782\t\t{\"instantiate\", instantiate, METH_VARARGS, \"undocumented\"} ,\n",
      "00783\t\t{NULL, NULL, 0, NULL}\n",
      "00784\t};\n",
      "00785\tPyMODINIT_FUNC init109774dadea06f52449f19787893597b(void){\n",
      "00786\t   import_array();\n",
      "00787\t   (void) Py_InitModule(\"109774dadea06f52449f19787893597b\", MyMethods);\n",
      "00788\t}\n",
      "00789\t\n",
      "Problem occurred during compilation with the command line below:\n",
      "/usr/bin/g++ -shared -g -O3 -fno-math-errno -Wno-unused-label -Wno-unused-variable -Wno-write-strings -march=broadwell -mmmx -mno-3dnow -msse -msse2 -msse3 -mssse3 -mno-sse4a -mcx16 -msahf -mmovbe -maes -mno-sha -mpclmul -mpopcnt -mabm -mno-lwp -mfma -mno-fma4 -mno-xop -mbmi -mbmi2 -mno-tbm -mavx -mavx2 -msse4.2 -msse4.1 -mlzcnt -mrtm -mhle -mrdrnd -mf16c -mfsgsbase -mno-rdseed -mno-prfchw -mno-adx -mfxsr -mxsave -mxsaveopt -mno-avx512f -mno-avx512er -mno-avx512cd -mno-avx512pf -mno-prefetchwt1 -mno-clflushopt -mno-xsavec -mno-xsaves -mno-avx512dq -mno-avx512bw -mno-avx512vl -mno-avx512ifma -mno-avx512vbmi -mno-clwb -mno-pcommit -mno-mwaitx --param l1-cache-size=32 --param l1-cache-line-size=64 --param l2-cache-size=46080 -mtune=broadwell -DNPY_NO_DEPRECATED_API=NPY_1_7_API_VERSION -m64 -fPIC -I/home/ubuntu/anaconda2/lib/python2.7/site-packages/numpy/core/include -I/home/ubuntu/anaconda2/include/python2.7 -I/home/ubuntu/anaconda2/lib/python2.7/site-packages/theano/gof -fvisibility=hidden -o /home/ubuntu/.theano/compiledir_Linux-4.4--generic-x86_64-with-debian-stretch-sid-x86_64-2.7.12-64/tmp3ihEsS/109774dadea06f52449f19787893597b.so /home/ubuntu/.theano/compiledir_Linux-4.4--generic-x86_64-with-debian-stretch-sid-x86_64-2.7.12-64/tmp3ihEsS/mod.cpp -L/home/ubuntu/anaconda2/lib -lpython2.7\n"
     ]
    },
    {
     "ename": "Exception",
     "evalue": "('The following error happened while compiling the node', Elemwise{Composite{Switch(EQ(i0, i1), ((i2 * i0) // (i3 * i0)), i0)}}[(0, 0)](Elemwise{Composite{Switch(EQ(i0, i1), i2, i0)}}[(0, 0)].0, TensorConstant{-1}, TensorConstant{100}, TensorConstant{-100}), '\\n', 'Compilation failed (return status=1): /home/ubuntu/.theano/compiledir_Linux-4.4--generic-x86_64-with-debian-stretch-sid-x86_64-2.7.12-64/tmp3ihEsS/mod.cpp:788:1: internal compiler error: Segmentation fault.  }.  ^. Please submit a full bug report,. with preprocessed source if appropriate.. See <file:///usr/share/doc/gcc-5/README.Bugs> for instructions.. ', '[Elemwise{Composite{Switch(EQ(i0, i1), ((i2 * i0) // (i3 * i0)), i0)}}[(0, 0)](<TensorType(int64, scalar)>, TensorConstant{-1}, TensorConstant{100}, TensorConstant{-100})]')",
     "output_type": "error",
     "traceback": [
      "\u001b[0;31m---------------------------------------------------------------------------\u001b[0m",
      "\u001b[0;31mException\u001b[0m                                 Traceback (most recent call last)",
      "\u001b[0;32m<ipython-input-56-767452cfadd4>\u001b[0m in \u001b[0;36m<module>\u001b[0;34m()\u001b[0m\n\u001b[0;32m----> 1\u001b[0;31m \u001b[0mmodel\u001b[0m\u001b[0;34m.\u001b[0m\u001b[0mfit\u001b[0m\u001b[0;34m(\u001b[0m\u001b[0mtrn\u001b[0m\u001b[0;34m,\u001b[0m \u001b[0mlabels_train\u001b[0m\u001b[0;34m,\u001b[0m \u001b[0mvalidation_data\u001b[0m\u001b[0;34m=\u001b[0m\u001b[0;34m(\u001b[0m\u001b[0mtest\u001b[0m\u001b[0;34m,\u001b[0m \u001b[0mlabels_test\u001b[0m\u001b[0;34m)\u001b[0m\u001b[0;34m,\u001b[0m \u001b[0mnb_epoch\u001b[0m\u001b[0;34m=\u001b[0m\u001b[0;36m5\u001b[0m\u001b[0;34m,\u001b[0m \u001b[0mbatch_size\u001b[0m\u001b[0;34m=\u001b[0m\u001b[0;36m64\u001b[0m\u001b[0;34m)\u001b[0m\u001b[0;34m\u001b[0m\u001b[0m\n\u001b[0m",
      "\u001b[0;32m/home/ubuntu/anaconda2/lib/python2.7/site-packages/keras/models.pyc\u001b[0m in \u001b[0;36mfit\u001b[0;34m(self, x, y, batch_size, nb_epoch, verbose, callbacks, validation_split, validation_data, shuffle, class_weight, sample_weight, **kwargs)\u001b[0m\n\u001b[1;32m    618\u001b[0m                               \u001b[0mshuffle\u001b[0m\u001b[0;34m=\u001b[0m\u001b[0mshuffle\u001b[0m\u001b[0;34m,\u001b[0m\u001b[0;34m\u001b[0m\u001b[0m\n\u001b[1;32m    619\u001b[0m                               \u001b[0mclass_weight\u001b[0m\u001b[0;34m=\u001b[0m\u001b[0mclass_weight\u001b[0m\u001b[0;34m,\u001b[0m\u001b[0;34m\u001b[0m\u001b[0m\n\u001b[0;32m--> 620\u001b[0;31m                               sample_weight=sample_weight)\n\u001b[0m\u001b[1;32m    621\u001b[0m \u001b[0;34m\u001b[0m\u001b[0m\n\u001b[1;32m    622\u001b[0m     def evaluate(self, x, y, batch_size=32, verbose=1,\n",
      "\u001b[0;32m/home/ubuntu/anaconda2/lib/python2.7/site-packages/keras/engine/training.pyc\u001b[0m in \u001b[0;36mfit\u001b[0;34m(self, x, y, batch_size, nb_epoch, verbose, callbacks, validation_split, validation_data, shuffle, class_weight, sample_weight)\u001b[0m\n\u001b[1;32m   1047\u001b[0m                                                                            \u001b[0mcheck_batch_dim\u001b[0m\u001b[0;34m=\u001b[0m\u001b[0mFalse\u001b[0m\u001b[0;34m,\u001b[0m\u001b[0;34m\u001b[0m\u001b[0m\n\u001b[1;32m   1048\u001b[0m                                                                            batch_size=batch_size)\n\u001b[0;32m-> 1049\u001b[0;31m             \u001b[0mself\u001b[0m\u001b[0;34m.\u001b[0m\u001b[0m_make_test_function\u001b[0m\u001b[0;34m(\u001b[0m\u001b[0;34m)\u001b[0m\u001b[0;34m\u001b[0m\u001b[0m\n\u001b[0m\u001b[1;32m   1050\u001b[0m             \u001b[0mval_f\u001b[0m \u001b[0;34m=\u001b[0m \u001b[0mself\u001b[0m\u001b[0;34m.\u001b[0m\u001b[0mtest_function\u001b[0m\u001b[0;34m\u001b[0m\u001b[0m\n\u001b[1;32m   1051\u001b[0m             \u001b[0;32mif\u001b[0m \u001b[0mself\u001b[0m\u001b[0;34m.\u001b[0m\u001b[0muses_learning_phase\u001b[0m \u001b[0;32mand\u001b[0m \u001b[0mtype\u001b[0m\u001b[0;34m(\u001b[0m\u001b[0mK\u001b[0m\u001b[0;34m.\u001b[0m\u001b[0mlearning_phase\u001b[0m\u001b[0;34m(\u001b[0m\u001b[0;34m)\u001b[0m\u001b[0;34m)\u001b[0m \u001b[0;32mis\u001b[0m \u001b[0;32mnot\u001b[0m \u001b[0mint\u001b[0m\u001b[0;34m:\u001b[0m\u001b[0;34m\u001b[0m\u001b[0m\n",
      "\u001b[0;32m/home/ubuntu/anaconda2/lib/python2.7/site-packages/keras/engine/training.pyc\u001b[0m in \u001b[0;36m_make_test_function\u001b[0;34m(self)\u001b[0m\n\u001b[1;32m    716\u001b[0m                                             \u001b[0;34m[\u001b[0m\u001b[0mself\u001b[0m\u001b[0;34m.\u001b[0m\u001b[0mtotal_loss\u001b[0m\u001b[0;34m]\u001b[0m \u001b[0;34m+\u001b[0m \u001b[0mself\u001b[0m\u001b[0;34m.\u001b[0m\u001b[0mmetrics_tensors\u001b[0m\u001b[0;34m,\u001b[0m\u001b[0;34m\u001b[0m\u001b[0m\n\u001b[1;32m    717\u001b[0m                                             \u001b[0mupdates\u001b[0m\u001b[0;34m=\u001b[0m\u001b[0mself\u001b[0m\u001b[0;34m.\u001b[0m\u001b[0mstate_updates\u001b[0m\u001b[0;34m,\u001b[0m\u001b[0;34m\u001b[0m\u001b[0m\n\u001b[0;32m--> 718\u001b[0;31m                                             **self._function_kwargs)\n\u001b[0m\u001b[1;32m    719\u001b[0m \u001b[0;34m\u001b[0m\u001b[0m\n\u001b[1;32m    720\u001b[0m     \u001b[0;32mdef\u001b[0m \u001b[0m_make_predict_function\u001b[0m\u001b[0;34m(\u001b[0m\u001b[0mself\u001b[0m\u001b[0;34m)\u001b[0m\u001b[0;34m:\u001b[0m\u001b[0;34m\u001b[0m\u001b[0m\n",
      "\u001b[0;32m/home/ubuntu/anaconda2/lib/python2.7/site-packages/keras/backend/theano_backend.pyc\u001b[0m in \u001b[0;36mfunction\u001b[0;34m(inputs, outputs, updates, **kwargs)\u001b[0m\n\u001b[1;32m    725\u001b[0m                 \u001b[0mmsg\u001b[0m \u001b[0;34m=\u001b[0m \u001b[0;34m\"Invalid argument '%s' passed to K.function\"\u001b[0m \u001b[0;34m%\u001b[0m \u001b[0mkey\u001b[0m\u001b[0;34m\u001b[0m\u001b[0m\n\u001b[1;32m    726\u001b[0m                 \u001b[0;32mraise\u001b[0m \u001b[0mValueError\u001b[0m\u001b[0;34m(\u001b[0m\u001b[0mmsg\u001b[0m\u001b[0;34m)\u001b[0m\u001b[0;34m\u001b[0m\u001b[0m\n\u001b[0;32m--> 727\u001b[0;31m     \u001b[0;32mreturn\u001b[0m \u001b[0mFunction\u001b[0m\u001b[0;34m(\u001b[0m\u001b[0minputs\u001b[0m\u001b[0;34m,\u001b[0m \u001b[0moutputs\u001b[0m\u001b[0;34m,\u001b[0m \u001b[0mupdates\u001b[0m\u001b[0;34m=\u001b[0m\u001b[0mupdates\u001b[0m\u001b[0;34m,\u001b[0m \u001b[0;34m**\u001b[0m\u001b[0mkwargs\u001b[0m\u001b[0;34m)\u001b[0m\u001b[0;34m\u001b[0m\u001b[0m\n\u001b[0m\u001b[1;32m    728\u001b[0m \u001b[0;34m\u001b[0m\u001b[0m\n\u001b[1;32m    729\u001b[0m \u001b[0;34m\u001b[0m\u001b[0m\n",
      "\u001b[0;32m/home/ubuntu/anaconda2/lib/python2.7/site-packages/keras/backend/theano_backend.pyc\u001b[0m in \u001b[0;36m__init__\u001b[0;34m(self, inputs, outputs, updates, **kwargs)\u001b[0m\n\u001b[1;32m    711\u001b[0m                                         \u001b[0mallow_input_downcast\u001b[0m\u001b[0;34m=\u001b[0m\u001b[0mTrue\u001b[0m\u001b[0;34m,\u001b[0m\u001b[0;34m\u001b[0m\u001b[0m\n\u001b[1;32m    712\u001b[0m                                         \u001b[0mon_unused_input\u001b[0m\u001b[0;34m=\u001b[0m\u001b[0;34m'ignore'\u001b[0m\u001b[0;34m,\u001b[0m\u001b[0;34m\u001b[0m\u001b[0m\n\u001b[0;32m--> 713\u001b[0;31m                                         **kwargs)\n\u001b[0m\u001b[1;32m    714\u001b[0m \u001b[0;34m\u001b[0m\u001b[0m\n\u001b[1;32m    715\u001b[0m     \u001b[0;32mdef\u001b[0m \u001b[0m__call__\u001b[0m\u001b[0;34m(\u001b[0m\u001b[0mself\u001b[0m\u001b[0;34m,\u001b[0m \u001b[0minputs\u001b[0m\u001b[0;34m)\u001b[0m\u001b[0;34m:\u001b[0m\u001b[0;34m\u001b[0m\u001b[0m\n",
      "\u001b[0;32m/home/ubuntu/anaconda2/lib/python2.7/site-packages/theano/compile/function.pyc\u001b[0m in \u001b[0;36mfunction\u001b[0;34m(inputs, outputs, mode, updates, givens, no_default_updates, accept_inplace, name, rebuild_strict, allow_input_downcast, profile, on_unused_input)\u001b[0m\n\u001b[1;32m    318\u001b[0m                    \u001b[0mon_unused_input\u001b[0m\u001b[0;34m=\u001b[0m\u001b[0mon_unused_input\u001b[0m\u001b[0;34m,\u001b[0m\u001b[0;34m\u001b[0m\u001b[0m\n\u001b[1;32m    319\u001b[0m                    \u001b[0mprofile\u001b[0m\u001b[0;34m=\u001b[0m\u001b[0mprofile\u001b[0m\u001b[0;34m,\u001b[0m\u001b[0;34m\u001b[0m\u001b[0m\n\u001b[0;32m--> 320\u001b[0;31m                    output_keys=output_keys)\n\u001b[0m\u001b[1;32m    321\u001b[0m     \u001b[0;31m# We need to add the flag check_aliased inputs if we have any mutable or\u001b[0m\u001b[0;34m\u001b[0m\u001b[0;34m\u001b[0m\u001b[0m\n\u001b[1;32m    322\u001b[0m     \u001b[0;31m# borrowed used defined inputs\u001b[0m\u001b[0;34m\u001b[0m\u001b[0;34m\u001b[0m\u001b[0m\n",
      "\u001b[0;32m/home/ubuntu/anaconda2/lib/python2.7/site-packages/theano/compile/pfunc.pyc\u001b[0m in \u001b[0;36mpfunc\u001b[0;34m(params, outputs, mode, updates, givens, no_default_updates, accept_inplace, name, rebuild_strict, allow_input_downcast, profile, on_unused_input, output_keys)\u001b[0m\n\u001b[1;32m    477\u001b[0m                          \u001b[0maccept_inplace\u001b[0m\u001b[0;34m=\u001b[0m\u001b[0maccept_inplace\u001b[0m\u001b[0;34m,\u001b[0m \u001b[0mname\u001b[0m\u001b[0;34m=\u001b[0m\u001b[0mname\u001b[0m\u001b[0;34m,\u001b[0m\u001b[0;34m\u001b[0m\u001b[0m\n\u001b[1;32m    478\u001b[0m                          \u001b[0mprofile\u001b[0m\u001b[0;34m=\u001b[0m\u001b[0mprofile\u001b[0m\u001b[0;34m,\u001b[0m \u001b[0mon_unused_input\u001b[0m\u001b[0;34m=\u001b[0m\u001b[0mon_unused_input\u001b[0m\u001b[0;34m,\u001b[0m\u001b[0;34m\u001b[0m\u001b[0m\n\u001b[0;32m--> 479\u001b[0;31m                          output_keys=output_keys)\n\u001b[0m\u001b[1;32m    480\u001b[0m \u001b[0;34m\u001b[0m\u001b[0m\n\u001b[1;32m    481\u001b[0m \u001b[0;34m\u001b[0m\u001b[0m\n",
      "\u001b[0;32m/home/ubuntu/anaconda2/lib/python2.7/site-packages/theano/compile/function_module.pyc\u001b[0m in \u001b[0;36morig_function\u001b[0;34m(inputs, outputs, mode, accept_inplace, name, profile, on_unused_input, output_keys)\u001b[0m\n\u001b[1;32m   1775\u001b[0m                    \u001b[0mon_unused_input\u001b[0m\u001b[0;34m=\u001b[0m\u001b[0mon_unused_input\u001b[0m\u001b[0;34m,\u001b[0m\u001b[0;34m\u001b[0m\u001b[0m\n\u001b[1;32m   1776\u001b[0m                    \u001b[0moutput_keys\u001b[0m\u001b[0;34m=\u001b[0m\u001b[0moutput_keys\u001b[0m\u001b[0;34m)\u001b[0m\u001b[0;34m.\u001b[0m\u001b[0mcreate\u001b[0m\u001b[0;34m(\u001b[0m\u001b[0;34m\u001b[0m\u001b[0m\n\u001b[0;32m-> 1777\u001b[0;31m             defaults)\n\u001b[0m\u001b[1;32m   1778\u001b[0m \u001b[0;34m\u001b[0m\u001b[0m\n\u001b[1;32m   1779\u001b[0m     \u001b[0mt2\u001b[0m \u001b[0;34m=\u001b[0m \u001b[0mtime\u001b[0m\u001b[0;34m.\u001b[0m\u001b[0mtime\u001b[0m\u001b[0;34m(\u001b[0m\u001b[0;34m)\u001b[0m\u001b[0;34m\u001b[0m\u001b[0m\n",
      "\u001b[0;32m/home/ubuntu/anaconda2/lib/python2.7/site-packages/theano/compile/function_module.pyc\u001b[0m in \u001b[0;36mcreate\u001b[0;34m(self, input_storage, trustme, storage_map)\u001b[0m\n\u001b[1;32m   1639\u001b[0m             \u001b[0mtheano\u001b[0m\u001b[0;34m.\u001b[0m\u001b[0mconfig\u001b[0m\u001b[0;34m.\u001b[0m\u001b[0mtraceback\u001b[0m\u001b[0;34m.\u001b[0m\u001b[0mlimit\u001b[0m \u001b[0;34m=\u001b[0m \u001b[0;36m0\u001b[0m\u001b[0;34m\u001b[0m\u001b[0m\n\u001b[1;32m   1640\u001b[0m             _fn, _i, _o = self.linker.make_thunk(\n\u001b[0;32m-> 1641\u001b[0;31m                 input_storage=input_storage_lists, storage_map=storage_map)\n\u001b[0m\u001b[1;32m   1642\u001b[0m         \u001b[0;32mfinally\u001b[0m\u001b[0;34m:\u001b[0m\u001b[0;34m\u001b[0m\u001b[0m\n\u001b[1;32m   1643\u001b[0m             \u001b[0mtheano\u001b[0m\u001b[0;34m.\u001b[0m\u001b[0mconfig\u001b[0m\u001b[0;34m.\u001b[0m\u001b[0mtraceback\u001b[0m\u001b[0;34m.\u001b[0m\u001b[0mlimit\u001b[0m \u001b[0;34m=\u001b[0m \u001b[0mlimit_orig\u001b[0m\u001b[0;34m\u001b[0m\u001b[0m\n",
      "\u001b[0;32m/home/ubuntu/anaconda2/lib/python2.7/site-packages/theano/gof/link.pyc\u001b[0m in \u001b[0;36mmake_thunk\u001b[0;34m(self, input_storage, output_storage, storage_map)\u001b[0m\n\u001b[1;32m    688\u001b[0m         return self.make_all(input_storage=input_storage,\n\u001b[1;32m    689\u001b[0m                              \u001b[0moutput_storage\u001b[0m\u001b[0;34m=\u001b[0m\u001b[0moutput_storage\u001b[0m\u001b[0;34m,\u001b[0m\u001b[0;34m\u001b[0m\u001b[0m\n\u001b[0;32m--> 690\u001b[0;31m                              storage_map=storage_map)[:3]\n\u001b[0m\u001b[1;32m    691\u001b[0m \u001b[0;34m\u001b[0m\u001b[0m\n\u001b[1;32m    692\u001b[0m     \u001b[0;32mdef\u001b[0m \u001b[0mmake_all\u001b[0m\u001b[0;34m(\u001b[0m\u001b[0mself\u001b[0m\u001b[0;34m,\u001b[0m \u001b[0minput_storage\u001b[0m\u001b[0;34m,\u001b[0m \u001b[0moutput_storage\u001b[0m\u001b[0;34m)\u001b[0m\u001b[0;34m:\u001b[0m\u001b[0;34m\u001b[0m\u001b[0m\n",
      "\u001b[0;32m/home/ubuntu/anaconda2/lib/python2.7/site-packages/theano/gof/vm.pyc\u001b[0m in \u001b[0;36mmake_all\u001b[0;34m(self, profiler, input_storage, output_storage, storage_map)\u001b[0m\n\u001b[1;32m   1001\u001b[0m                                                  \u001b[0mstorage_map\u001b[0m\u001b[0;34m,\u001b[0m\u001b[0;34m\u001b[0m\u001b[0m\n\u001b[1;32m   1002\u001b[0m                                                  \u001b[0mcompute_map\u001b[0m\u001b[0;34m,\u001b[0m\u001b[0;34m\u001b[0m\u001b[0m\n\u001b[0;32m-> 1003\u001b[0;31m                                                  no_recycling))\n\u001b[0m\u001b[1;32m   1004\u001b[0m                 \u001b[0;32mif\u001b[0m \u001b[0;32mnot\u001b[0m \u001b[0mhasattr\u001b[0m\u001b[0;34m(\u001b[0m\u001b[0mthunks\u001b[0m\u001b[0;34m[\u001b[0m\u001b[0;34m-\u001b[0m\u001b[0;36m1\u001b[0m\u001b[0;34m]\u001b[0m\u001b[0;34m,\u001b[0m \u001b[0;34m'lazy'\u001b[0m\u001b[0;34m)\u001b[0m\u001b[0;34m:\u001b[0m\u001b[0;34m\u001b[0m\u001b[0m\n\u001b[1;32m   1005\u001b[0m                     \u001b[0;31m# We don't want all ops maker to think about lazy Ops.\u001b[0m\u001b[0;34m\u001b[0m\u001b[0;34m\u001b[0m\u001b[0m\n",
      "\u001b[0;32m/home/ubuntu/anaconda2/lib/python2.7/site-packages/theano/gof/op.pyc\u001b[0m in \u001b[0;36mmake_thunk\u001b[0;34m(self, node, storage_map, compute_map, no_recycling)\u001b[0m\n\u001b[1;32m    968\u001b[0m             \u001b[0;32mtry\u001b[0m\u001b[0;34m:\u001b[0m\u001b[0;34m\u001b[0m\u001b[0m\n\u001b[1;32m    969\u001b[0m                 return self.make_c_thunk(node, storage_map, compute_map,\n\u001b[0;32m--> 970\u001b[0;31m                                          no_recycling)\n\u001b[0m\u001b[1;32m    971\u001b[0m             \u001b[0;32mexcept\u001b[0m \u001b[0;34m(\u001b[0m\u001b[0mNotImplementedError\u001b[0m\u001b[0;34m,\u001b[0m \u001b[0mutils\u001b[0m\u001b[0;34m.\u001b[0m\u001b[0mMethodNotDefined\u001b[0m\u001b[0;34m)\u001b[0m\u001b[0;34m:\u001b[0m\u001b[0;34m\u001b[0m\u001b[0m\n\u001b[1;32m    972\u001b[0m                 \u001b[0mlogger\u001b[0m\u001b[0;34m.\u001b[0m\u001b[0mdebug\u001b[0m\u001b[0;34m(\u001b[0m\u001b[0;34m'Falling back on perform'\u001b[0m\u001b[0;34m)\u001b[0m\u001b[0;34m\u001b[0m\u001b[0m\n",
      "\u001b[0;32m/home/ubuntu/anaconda2/lib/python2.7/site-packages/theano/gof/op.pyc\u001b[0m in \u001b[0;36mmake_c_thunk\u001b[0;34m(self, node, storage_map, compute_map, no_recycling)\u001b[0m\n\u001b[1;32m    877\u001b[0m         \u001b[0mlogger\u001b[0m\u001b[0;34m.\u001b[0m\u001b[0mdebug\u001b[0m\u001b[0;34m(\u001b[0m\u001b[0;34m'Trying CLinker.make_thunk'\u001b[0m\u001b[0;34m)\u001b[0m\u001b[0;34m\u001b[0m\u001b[0m\n\u001b[1;32m    878\u001b[0m         outputs = cl.make_thunk(input_storage=node_input_storage,\n\u001b[0;32m--> 879\u001b[0;31m                                 output_storage=node_output_storage)\n\u001b[0m\u001b[1;32m    880\u001b[0m         \u001b[0mfill_storage\u001b[0m\u001b[0;34m,\u001b[0m \u001b[0mnode_input_filters\u001b[0m\u001b[0;34m,\u001b[0m \u001b[0mnode_output_filters\u001b[0m \u001b[0;34m=\u001b[0m \u001b[0moutputs\u001b[0m\u001b[0;34m\u001b[0m\u001b[0m\n\u001b[1;32m    881\u001b[0m \u001b[0;34m\u001b[0m\u001b[0m\n",
      "\u001b[0;32m/home/ubuntu/anaconda2/lib/python2.7/site-packages/theano/gof/cc.pyc\u001b[0m in \u001b[0;36mmake_thunk\u001b[0;34m(self, input_storage, output_storage, storage_map, keep_lock)\u001b[0m\n\u001b[1;32m   1198\u001b[0m         cthunk, in_storage, out_storage, error_storage = self.__compile__(\n\u001b[1;32m   1199\u001b[0m             \u001b[0minput_storage\u001b[0m\u001b[0;34m,\u001b[0m \u001b[0moutput_storage\u001b[0m\u001b[0;34m,\u001b[0m \u001b[0mstorage_map\u001b[0m\u001b[0;34m,\u001b[0m\u001b[0;34m\u001b[0m\u001b[0m\n\u001b[0;32m-> 1200\u001b[0;31m             keep_lock=keep_lock)\n\u001b[0m\u001b[1;32m   1201\u001b[0m \u001b[0;34m\u001b[0m\u001b[0m\n\u001b[1;32m   1202\u001b[0m         \u001b[0mres\u001b[0m \u001b[0;34m=\u001b[0m \u001b[0m_CThunk\u001b[0m\u001b[0;34m(\u001b[0m\u001b[0mcthunk\u001b[0m\u001b[0;34m,\u001b[0m \u001b[0minit_tasks\u001b[0m\u001b[0;34m,\u001b[0m \u001b[0mtasks\u001b[0m\u001b[0;34m,\u001b[0m \u001b[0merror_storage\u001b[0m\u001b[0;34m)\u001b[0m\u001b[0;34m\u001b[0m\u001b[0m\n",
      "\u001b[0;32m/home/ubuntu/anaconda2/lib/python2.7/site-packages/theano/gof/cc.pyc\u001b[0m in \u001b[0;36m__compile__\u001b[0;34m(self, input_storage, output_storage, storage_map, keep_lock)\u001b[0m\n\u001b[1;32m   1141\u001b[0m                                     \u001b[0moutput_storage\u001b[0m\u001b[0;34m,\u001b[0m\u001b[0;34m\u001b[0m\u001b[0m\n\u001b[1;32m   1142\u001b[0m                                     \u001b[0mstorage_map\u001b[0m\u001b[0;34m,\u001b[0m\u001b[0;34m\u001b[0m\u001b[0m\n\u001b[0;32m-> 1143\u001b[0;31m                                     keep_lock=keep_lock)\n\u001b[0m\u001b[1;32m   1144\u001b[0m         return (thunk,\n\u001b[1;32m   1145\u001b[0m                 [link.Container(input, storage) for input, storage in\n",
      "\u001b[0;32m/home/ubuntu/anaconda2/lib/python2.7/site-packages/theano/gof/cc.pyc\u001b[0m in \u001b[0;36mcthunk_factory\u001b[0;34m(self, error_storage, in_storage, out_storage, storage_map, keep_lock)\u001b[0m\n\u001b[1;32m   1593\u001b[0m         \u001b[0;32melse\u001b[0m\u001b[0;34m:\u001b[0m\u001b[0;34m\u001b[0m\u001b[0m\n\u001b[1;32m   1594\u001b[0m             module = get_module_cache().module_from_key(\n\u001b[0;32m-> 1595\u001b[0;31m                 key=key, lnk=self, keep_lock=keep_lock)\n\u001b[0m\u001b[1;32m   1596\u001b[0m \u001b[0;34m\u001b[0m\u001b[0m\n\u001b[1;32m   1597\u001b[0m         \u001b[0mvars\u001b[0m \u001b[0;34m=\u001b[0m \u001b[0mself\u001b[0m\u001b[0;34m.\u001b[0m\u001b[0minputs\u001b[0m \u001b[0;34m+\u001b[0m \u001b[0mself\u001b[0m\u001b[0;34m.\u001b[0m\u001b[0moutputs\u001b[0m \u001b[0;34m+\u001b[0m \u001b[0mself\u001b[0m\u001b[0;34m.\u001b[0m\u001b[0morphans\u001b[0m\u001b[0;34m\u001b[0m\u001b[0m\n",
      "\u001b[0;32m/home/ubuntu/anaconda2/lib/python2.7/site-packages/theano/gof/cmodule.pyc\u001b[0m in \u001b[0;36mmodule_from_key\u001b[0;34m(self, key, lnk, keep_lock)\u001b[0m\n\u001b[1;32m   1140\u001b[0m             \u001b[0;32mtry\u001b[0m\u001b[0;34m:\u001b[0m\u001b[0;34m\u001b[0m\u001b[0m\n\u001b[1;32m   1141\u001b[0m                 \u001b[0mlocation\u001b[0m \u001b[0;34m=\u001b[0m \u001b[0mdlimport_workdir\u001b[0m\u001b[0;34m(\u001b[0m\u001b[0mself\u001b[0m\u001b[0;34m.\u001b[0m\u001b[0mdirname\u001b[0m\u001b[0;34m)\u001b[0m\u001b[0;34m\u001b[0m\u001b[0m\n\u001b[0;32m-> 1142\u001b[0;31m                 \u001b[0mmodule\u001b[0m \u001b[0;34m=\u001b[0m \u001b[0mlnk\u001b[0m\u001b[0;34m.\u001b[0m\u001b[0mcompile_cmodule\u001b[0m\u001b[0;34m(\u001b[0m\u001b[0mlocation\u001b[0m\u001b[0;34m)\u001b[0m\u001b[0;34m\u001b[0m\u001b[0m\n\u001b[0m\u001b[1;32m   1143\u001b[0m                 \u001b[0mname\u001b[0m \u001b[0;34m=\u001b[0m \u001b[0mmodule\u001b[0m\u001b[0;34m.\u001b[0m\u001b[0m__file__\u001b[0m\u001b[0;34m\u001b[0m\u001b[0m\n\u001b[1;32m   1144\u001b[0m                 \u001b[0;32massert\u001b[0m \u001b[0mname\u001b[0m\u001b[0;34m.\u001b[0m\u001b[0mstartswith\u001b[0m\u001b[0;34m(\u001b[0m\u001b[0mlocation\u001b[0m\u001b[0;34m)\u001b[0m\u001b[0;34m\u001b[0m\u001b[0m\n",
      "\u001b[0;32m/home/ubuntu/anaconda2/lib/python2.7/site-packages/theano/gof/cc.pyc\u001b[0m in \u001b[0;36mcompile_cmodule\u001b[0;34m(self, location)\u001b[0m\n\u001b[1;32m   1504\u001b[0m                 \u001b[0mlib_dirs\u001b[0m\u001b[0;34m=\u001b[0m\u001b[0mself\u001b[0m\u001b[0;34m.\u001b[0m\u001b[0mlib_dirs\u001b[0m\u001b[0;34m(\u001b[0m\u001b[0;34m)\u001b[0m\u001b[0;34m,\u001b[0m\u001b[0;34m\u001b[0m\u001b[0m\n\u001b[1;32m   1505\u001b[0m                 \u001b[0mlibs\u001b[0m\u001b[0;34m=\u001b[0m\u001b[0mlibs\u001b[0m\u001b[0;34m,\u001b[0m\u001b[0;34m\u001b[0m\u001b[0m\n\u001b[0;32m-> 1506\u001b[0;31m                 preargs=preargs)\n\u001b[0m\u001b[1;32m   1507\u001b[0m         \u001b[0;32mexcept\u001b[0m \u001b[0mException\u001b[0m \u001b[0;32mas\u001b[0m \u001b[0me\u001b[0m\u001b[0;34m:\u001b[0m\u001b[0;34m\u001b[0m\u001b[0m\n\u001b[1;32m   1508\u001b[0m             \u001b[0me\u001b[0m\u001b[0;34m.\u001b[0m\u001b[0margs\u001b[0m \u001b[0;34m+=\u001b[0m \u001b[0;34m(\u001b[0m\u001b[0mstr\u001b[0m\u001b[0;34m(\u001b[0m\u001b[0mself\u001b[0m\u001b[0;34m.\u001b[0m\u001b[0mfgraph\u001b[0m\u001b[0;34m)\u001b[0m\u001b[0;34m,\u001b[0m\u001b[0;34m)\u001b[0m\u001b[0;34m\u001b[0m\u001b[0m\n",
      "\u001b[0;32m/home/ubuntu/anaconda2/lib/python2.7/site-packages/theano/gof/cmodule.pyc\u001b[0m in \u001b[0;36mcompile_str\u001b[0;34m(module_name, src_code, location, include_dirs, lib_dirs, libs, preargs, py_module, hide_symbols)\u001b[0m\n\u001b[1;32m   2202\u001b[0m             \u001b[0;31m# difficult to read.\u001b[0m\u001b[0;34m\u001b[0m\u001b[0;34m\u001b[0m\u001b[0m\n\u001b[1;32m   2203\u001b[0m             raise Exception('Compilation failed (return status=%s): %s' %\n\u001b[0;32m-> 2204\u001b[0;31m                             (status, compile_stderr.replace('\\n', '. ')))\n\u001b[0m\u001b[1;32m   2205\u001b[0m         \u001b[0;32melif\u001b[0m \u001b[0mconfig\u001b[0m\u001b[0;34m.\u001b[0m\u001b[0mcmodule\u001b[0m\u001b[0;34m.\u001b[0m\u001b[0mcompilation_warning\u001b[0m \u001b[0;32mand\u001b[0m \u001b[0mcompile_stderr\u001b[0m\u001b[0;34m:\u001b[0m\u001b[0;34m\u001b[0m\u001b[0m\n\u001b[1;32m   2206\u001b[0m             \u001b[0;31m# Print errors just below the command line.\u001b[0m\u001b[0;34m\u001b[0m\u001b[0;34m\u001b[0m\u001b[0m\n",
      "\u001b[0;31mException\u001b[0m: ('The following error happened while compiling the node', Elemwise{Composite{Switch(EQ(i0, i1), ((i2 * i0) // (i3 * i0)), i0)}}[(0, 0)](Elemwise{Composite{Switch(EQ(i0, i1), i2, i0)}}[(0, 0)].0, TensorConstant{-1}, TensorConstant{100}, TensorConstant{-100}), '\\n', 'Compilation failed (return status=1): /home/ubuntu/.theano/compiledir_Linux-4.4--generic-x86_64-with-debian-stretch-sid-x86_64-2.7.12-64/tmp3ihEsS/mod.cpp:788:1: internal compiler error: Segmentation fault.  }.  ^. Please submit a full bug report,. with preprocessed source if appropriate.. See <file:///usr/share/doc/gcc-5/README.Bugs> for instructions.. ', '[Elemwise{Composite{Switch(EQ(i0, i1), ((i2 * i0) // (i3 * i0)), i0)}}[(0, 0)](<TensorType(int64, scalar)>, TensorConstant{-1}, TensorConstant{100}, TensorConstant{-100})]')"
     ]
    }
   ],
   "source": [
    "model.fit(trn, labels_train, validation_data=(test, labels_test), nb_epoch=5, batch_size=64)"
   ]
  },
  {
   "cell_type": "code",
   "execution_count": null,
   "metadata": {
    "collapsed": true
   },
   "outputs": [],
   "source": []
  }
 ],
 "metadata": {
  "anaconda-cloud": {},
  "kernelspec": {
   "display_name": "Python [conda root]",
   "language": "python",
   "name": "conda-root-py"
  },
  "language_info": {
   "codemirror_mode": {
    "name": "ipython",
    "version": 2
   },
   "file_extension": ".py",
   "mimetype": "text/x-python",
   "name": "python",
   "nbconvert_exporter": "python",
   "pygments_lexer": "ipython2",
   "version": "2.7.12"
  }
 },
 "nbformat": 4,
 "nbformat_minor": 1
}
